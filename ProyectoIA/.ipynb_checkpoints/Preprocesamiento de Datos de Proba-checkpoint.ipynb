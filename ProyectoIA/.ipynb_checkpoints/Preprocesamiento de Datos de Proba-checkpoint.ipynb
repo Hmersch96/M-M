{
 "cells": [
  {
   "cell_type": "code",
   "execution_count": 1,
   "id": "demonstrated-walnut",
   "metadata": {},
   "outputs": [],
   "source": [
    "#Links utiles\n",
    "#https://towardsdatascience.com/data-preprocessing-with-python-pandas-part-1-missing-data-45e76b781993\n",
    "#https://towardsdatascience.com/7-different-ways-to-filter-pandas-dataframes-9e139888382a\n",
    "#https://www.analyticslane.com/2020/01/13/filtrado-de-cadenas-de-texto-en-dataframe-con-pandas/\n",
    "#https://www.analyticslane.com/2019/03/25/como-eliminar-columnas-y-filas-en-un-dataframe-pandas/\n",
    "\n"
   ]
  },
  {
   "cell_type": "code",
   "execution_count": null,
   "id": "phantom-taiwan",
   "metadata": {},
   "outputs": [],
   "source": [
    "import pandas as pd\n",
    "import numpy as np\n",
    "from sklearn import linear_model, model_selection\n",
    "\n",
    "df = pd.read_csv(\"datosfiltrados.csv\", sep=\",\",index_col=False)\n",
    "\n",
    "df.head()\n",
    "\n"
   ]
  },
  {
   "cell_type": "code",
   "execution_count": null,
   "id": "adjacent-butler",
   "metadata": {},
   "outputs": [],
   "source": [
    "#Con este comando busco los datos no disponibles\n",
    "df.isna().sum()"
   ]
  },
  {
   "cell_type": "code",
   "execution_count": null,
   "id": "nonprofit-continent",
   "metadata": {},
   "outputs": [],
   "source": [
    "#Con esta funcion determino el porcentaje de datos no disponible\n",
    "df.isna().sum()/len(df)*100"
   ]
  },
  {
   "cell_type": "code",
   "execution_count": null,
   "id": "actual-spread",
   "metadata": {
    "scrolled": false
   },
   "outputs": [],
   "source": [
    "#Con esta funcion, creo un dataframe que incluya exclusivamente a los alumnos que cursan probabilidad y estadistica\n",
    "proba=df[df.Asignatura=='PROBABILIDAD Y ESTADISTICA']\n",
    "\n",
    "dimensiones=proba.shape\n",
    "\n",
    "Index=np.zeros(dimensiones[0])\n",
    "for i in range(len(Index)): \n",
    "    Index[i]=i\n",
    "\n",
    "proba.insert(0,\"Indice\",Index,True)\n",
    "list(proba.columns)\n",
    "proba.head(10)\n",
    "\n",
    "#proba=proba.drop(...)\n",
    "\n",
    " "
   ]
  },
  {
   "cell_type": "code",
   "execution_count": null,
   "id": "asian-cooler",
   "metadata": {},
   "outputs": [],
   "source": [
    "#Con esta funcion, recorto las columnas que no necesito utilizar\n",
    "\n",
    "proba=proba.drop(['Semestre','ix','Id','Asignatura','Cod.Asign'],axis=1)\n"
   ]
  },
  {
   "cell_type": "code",
   "execution_count": null,
   "id": "herbal-craps",
   "metadata": {},
   "outputs": [],
   "source": [
    "proba"
   ]
  },
  {
   "cell_type": "code",
   "execution_count": null,
   "id": "faced-ghana",
   "metadata": {
    "scrolled": false
   },
   "outputs": [],
   "source": [
    "#Esta bandera contiene a todos los que tienen NaN en sus casillas\n",
    "flagNA=proba[\"Nota.Final\"].isna()\n",
    "\n",
    "#Esta bandera contiene a todos los que NO tienen NaN en sus casillas\n",
    "flagNotNA=np.logical_not(flagNA)\n",
    "\n",
    "#Aqui se asigna la columna donde se define si paso o no el alumno, por defecto, nadie paso\n",
    "#proba[\"Paso\"]=False <-Esto recomendo el profesor, pero por alguna razon no funciono, y tuve que optar por lo que esta abajo\n",
    "proba.assign(Aprobo = False)\n",
    "\n",
    "#dataframe.localizar[]\n",
    "proba.loc[flagNotNA,\"Aprobo\"]=proba[\"Nota.Final\"][flagNotNA].str.split(',').str[-1].str.split('-').str[-1].astype('int')>=2\n",
    "\n",
    "\n",
    "#Aqui volvemos a llamar al dataframe para verificar los cambios\n",
    "proba\n",
    "\n",
    "#flagNA=lectura[\"Nota.Final\"].isna()\n",
    "#flagNotNA=np.logical_not(flagNA)\n",
    "#lectura[\"Paso\"]=False\n",
    "#lectura.loc[flagNotNA,\"Paso\"]=lectura[\"Nota.Final\"][flagNotNA].str.split(',').str[-1].str.split('-').str[-1].astype('int')>=2\n"
   ]
  },
  {
   "cell_type": "code",
   "execution_count": null,
   "id": "finite-berlin",
   "metadata": {},
   "outputs": [],
   "source": [
    "#Aqui creo una columna en donde se asigna con que puntaje paso\n",
    "proba.assign(Calificacion = 0)\n",
    "\n",
    "#Aqui renombro algunas columnas para tener algo en un formato mas facil de comprender\n",
    "proba.rename(columns={'AOT': 'Taller','Primer.Par' : '1P','Segundo.Par':'2P'},inplace = True)\n",
    "\n",
    "#Esta linea de codigo asigna la nota final de cada alumno de la catedra\n",
    "proba.loc[flagNotNA,\"Calificacion\"]=proba[\"Nota.Final\"][flagNotNA].str.split(',').str[-1].str.split('-').str[-1].astype('int')\n",
    "display(proba)"
   ]
  },
  {
   "cell_type": "code",
   "execution_count": null,
   "id": "vocational-dancing",
   "metadata": {},
   "outputs": [],
   "source": [
    "#Aqui encuentro la firma del alumno y asigno las respuestas a una columna\n",
    "firma=proba[\"1P\"]+proba[\"2P\"]+proba[\"Taller\"]\n",
    "proba.insert(11,\"Firma\",firma)\n",
    "display(proba)"
   ]
  },
  {
   "cell_type": "code",
   "execution_count": null,
   "id": "grateful-mechanism",
   "metadata": {},
   "outputs": [],
   "source": [
    "#Aqui verifico si el alumno cumple con los requisitos para rendir examen final (firma>=35 y taller>=6) y/o examen recuperatorio.. \n",
    "#... (firma>=15) y lo almaceno en vectores booleanos\n",
    "Requisito15=proba[\"Firma\"]>=15\n",
    "Requisito35=proba[\"Firma\"]>=35\n",
    "RequisitoT=proba[\"Taller\"]>=6\n",
    "\n",
    "DerechoFinal=np.logical_and(Requisito35,RequisitoT)\n",
    "DerechoRecu=Requisito15 & RequisitoT\n",
    "#display(Requisito35)\n",
    "#display(RequisitoT)\n",
    "\n",
    "display(DerechoFinal)\n",
    "display(DerechoRecu)\n",
    "\n",
    "proba.insert(13,\"Derecho a Final\",DerechoFinal)\n",
    "proba.insert(13,\"Derecho a Recuperatorio\",DerechoRecu)"
   ]
  },
  {
   "cell_type": "code",
   "execution_count": null,
   "id": "functioning-numbers",
   "metadata": {},
   "outputs": [],
   "source": [
    "display(proba)"
   ]
  },
  {
   "cell_type": "code",
   "execution_count": null,
   "id": "honest-wheat",
   "metadata": {},
   "outputs": [],
   "source": [
    "#Aqui retiro otras columnas que me parecian innecesarias para mi analisis\n",
    "proba=proba.drop(['danho','ciclo','Cod.Curso','Convocatoria','Anho.Firma'],axis=1)"
   ]
  },
  {
   "cell_type": "code",
   "execution_count": null,
   "id": "authorized-winner",
   "metadata": {},
   "outputs": [],
   "source": [
    "display(proba)"
   ]
  },
  {
   "cell_type": "code",
   "execution_count": null,
   "id": "consecutive-remark",
   "metadata": {},
   "outputs": [],
   "source": [
    "Notas=proba[\"Nota.Final\"]\n",
    "\n",
    "\n",
    "Notas.head(10)\n",
    "\n",
    "a=proba[\"Nota.Final\"][flagNotNA]#.str.split(',').str[-1].str.split('-').str[-1].astype('int')\n",
    "b=proba[\"Nota.Final\"][flagNotNA].str.split(',')#.str[-1].str.split('-').str[-1].astype('int')\n",
    "Aplazo1=proba[\"Nota.Final\"][flagNotNA].str.split(',').str[0].str.split('-').str[-1].astype('int')\n",
    "flag2=proba[\"Nota.Final\"].str.split(',').str[1].isna()\n",
    "notflag2=np.logical_not(flag2)\n",
    "Aplazo2=proba[\"Nota.Final\"][notflag2].str.split(',').str[1].str.split('-').str[-1].astype('int')\n",
    "#e=proba[\"Nota.Final\"][flagNotNA].str.split(',').str[2].str.split('-').str[-1].astype('int')\n",
    "\n",
    "\n",
    "#display(np.size(flagNotNA))\n",
    "#display(np.sum(flagNotNA))\n",
    "\n",
    "#display(np.size(flag2))\n",
    "#display(np.sum(flag2))\n",
    "\n",
    "\n",
    "#display(a)\n",
    "#display(b)\n",
    "#display(Aplazo1)\n",
    "#display(Aplazo2)\n",
    "#display(e)"
   ]
  },
  {
   "cell_type": "code",
   "execution_count": null,
   "id": "opening-behavior",
   "metadata": {},
   "outputs": [],
   "source": [
    "\n",
    "proba.insert(13,\"Segundo Intento\",Aplazo2)\n",
    "proba.insert(13,\"Primer Intento\",Aplazo1)\n"
   ]
  },
  {
   "cell_type": "code",
   "execution_count": null,
   "id": "chicken-swedish",
   "metadata": {},
   "outputs": [],
   "source": [
    "#Aqui reordenamos las columnas para facilitar mas tarde la visualizacion y el uso de los datos de las mismas\n",
    "proba=proba[[\"Indice\",\"id_anony\",'Anho',\"Cod.Car.Sec\",\"Nota.Final\",\"Aprobado\",\"1P\",\"2P\",\"Taller\", \"Firma\" ,\"Derecho a Recuperatorio\",\"Derecho a Final\",\"Primer.Rec\",\"Segundo.Rec\",\"Primer Intento\",\"Segundo Intento\",\"Calificacion\",\"Aprobo\"]]"
   ]
  },
  {
   "cell_type": "code",
   "execution_count": null,
   "id": "peripheral-counter",
   "metadata": {},
   "outputs": [],
   "source": [
    "display(proba)"
   ]
  },
  {
   "cell_type": "code",
   "execution_count": null,
   "id": "imperial-ebony",
   "metadata": {},
   "outputs": [],
   "source": [
    "#Finalmente reemplazaremos los espacios NaN de algunas columnas para facilitar el trabajo en otras librerias\n",
    "values={'Aprobo':False,'Calificacion':0,'Primer Intento':0,'Segundo Intento':0}\n",
    "proba.fillna(value=values,inplace=True)"
   ]
  },
  {
   "cell_type": "code",
   "execution_count": null,
   "id": "thorough-continuity",
   "metadata": {},
   "outputs": [],
   "source": [
    "display(proba)"
   ]
  },
  {
   "cell_type": "code",
   "execution_count": null,
   "id": "contrary-pregnancy",
   "metadata": {},
   "outputs": [],
   "source": [
    "proba.to_csv(\"Resumido.csv\")"
   ]
  },
  {
   "cell_type": "code",
   "execution_count": null,
   "id": "worst-entertainment",
   "metadata": {},
   "outputs": [],
   "source": [
    "#Como los datos de los talleres esta mejor especificado en el anhno 2019, se creara un dataset que contenga los datos de ese anho en particular\n",
    "probaTaller=proba[proba.Taller!=0]"
   ]
  },
  {
   "cell_type": "code",
   "execution_count": null,
   "id": "practical-thought",
   "metadata": {},
   "outputs": [],
   "source": [
    "display(probaTaller)"
   ]
  },
  {
   "cell_type": "code",
   "execution_count": null,
   "id": "inside-market",
   "metadata": {},
   "outputs": [],
   "source": [
    "probaTaller.to_csv(\"ResumidoTaller.csv\")"
   ]
  },
  {
   "cell_type": "code",
   "execution_count": null,
   "id": "stylish-rebel",
   "metadata": {},
   "outputs": [],
   "source": [
    "proba2019=proba[proba.Anho==2019]"
   ]
  },
  {
   "cell_type": "code",
   "execution_count": null,
   "id": "straight-worth",
   "metadata": {},
   "outputs": [],
   "source": [
    "display(proba2019)"
   ]
  },
  {
   "cell_type": "code",
   "execution_count": null,
   "id": "light-convert",
   "metadata": {},
   "outputs": [],
   "source": [
    "proba2019.to_csv(\"Resumido2019.csv\")"
   ]
  },
  {
   "cell_type": "code",
   "execution_count": null,
   "id": "present-correspondence",
   "metadata": {},
   "outputs": [],
   "source": [
    "#A partir de aqui inician codigos que no tienen nada que ver con el dataset genrado, pero fue de utilidad a la hora de crearlo\n",
    "#No elimine estas lineas de codigo porque pense que podriuan ser utiles para otra aplicacion en el futuro"
   ]
  },
  {
   "cell_type": "code",
   "execution_count": null,
   "id": "demographic-stations",
   "metadata": {},
   "outputs": [],
   "source": [
    "#Este comando fue utilizado para comprobar que tipo de datos recibe como dato la columna de notas finales\n",
    "print(proba[\"Nota.Final\"].tolist())\n",
    "print([type(x) for x in proba[\"Nota.Final\"].tolist()])\n",
    "\n",
    "[type(x) for x in proba[\"Taller\"].tolist()]"
   ]
  },
  {
   "cell_type": "code",
   "execution_count": null,
   "id": "binding-attitude",
   "metadata": {},
   "outputs": [],
   "source": [
    "#Analogia utilizada para realizar la funcion de la siguiente seccion\n",
    "#Primer final que existe\n",
    "empanada = \"Tres tristes tigres 1F-5 tragan trigo en un trigal\"\n",
    "posicion = empanada.find(\"1F\")\n",
    "nota = empanada[posicion+3]\n",
    "print(\"La nota de primer final es: \", nota)\n",
    "#Segundo final que no existe\n",
    "posicion = empanada.find(\"2F\")\n",
    "if posicion != -1:\n",
    " nota = empanada[posicion+3]\n",
    " print(\"La nota de segundo final es: \", nota)\n",
    "else:\n",
    " print(\"No se encontró nota de segundo final\")"
   ]
  },
  {
   "cell_type": "code",
   "execution_count": null,
   "id": "available-oriental",
   "metadata": {},
   "outputs": [],
   "source": [
    "\n",
    "def extractor(vector,comparador):\n",
    "    salida=np.zeros(len(vector))\n",
    "    for i in range(len(vector)):\n",
    "        #Esta funcion busca \n",
    "        posicion=vector[i].find(comparador)\n",
    "        #primero verifica si el valor en el vector original es un NaN, para transcribirlo en el vector de salida\n",
    "        if vector[i]==nan:\n",
    "            salida[i]=vector[i]\n",
    "        \n",
    "        elif posicion != -1:\n",
    "            salida[i]=vector[posicion+3]\n",
    "        else:\n",
    "            salida[i]=0;\n",
    "    return salida"
   ]
  },
  {
   "cell_type": "code",
   "execution_count": null,
   "id": "unusual-walter",
   "metadata": {},
   "outputs": [],
   "source": []
  }
 ],
 "metadata": {
  "kernelspec": {
   "display_name": "Python 3",
   "language": "python",
   "name": "python3"
  },
  "language_info": {
   "codemirror_mode": {
    "name": "ipython",
    "version": 3
   },
   "file_extension": ".py",
   "mimetype": "text/x-python",
   "name": "python",
   "nbconvert_exporter": "python",
   "pygments_lexer": "ipython3",
   "version": "3.8.5"
  }
 },
 "nbformat": 4,
 "nbformat_minor": 5
}
