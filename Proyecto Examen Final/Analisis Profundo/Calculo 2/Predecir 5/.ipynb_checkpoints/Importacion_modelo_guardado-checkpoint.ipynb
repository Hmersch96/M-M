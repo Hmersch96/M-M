{
 "cells": [
  {
   "cell_type": "code",
   "execution_count": 1,
   "id": "89d72097",
   "metadata": {},
   "outputs": [],
   "source": [
    "from __future__ import absolute_import, division, print_function, unicode_literals\n",
    "import keras\n",
    "import tensorflow as tf\n",
    "\n",
    "tf.keras.backend.clear_session()  # Para restablecer fácilmente el estado del portátil."
   ]
  },
  {
   "cell_type": "code",
   "execution_count": 2,
   "id": "da4dd6ec",
   "metadata": {},
   "outputs": [],
   "source": [
    "# Recrea exactamente el mismo modelo solo desde el archivo\n",
    "model = keras.models.load_model('modelo_guardado.h5')"
   ]
  },
  {
   "cell_type": "code",
   "execution_count": 3,
   "id": "c1b7c167",
   "metadata": {},
   "outputs": [
    {
     "name": "stdout",
     "output_type": "stream",
     "text": [
      "Model: \"sequential\"\n",
      "_________________________________________________________________\n",
      "Layer (type)                 Output Shape              Param #   \n",
      "=================================================================\n",
      "dense (Dense)                (None, 128)               1152      \n",
      "_________________________________________________________________\n",
      "dropout (Dropout)            (None, 128)               0         \n",
      "_________________________________________________________________\n",
      "dense_1 (Dense)              (None, 128)               16512     \n",
      "_________________________________________________________________\n",
      "dropout_1 (Dropout)          (None, 128)               0         \n",
      "_________________________________________________________________\n",
      "dense_2 (Dense)              (None, 32)                4128      \n",
      "_________________________________________________________________\n",
      "dropout_2 (Dropout)          (None, 32)                0         \n",
      "_________________________________________________________________\n",
      "dense_3 (Dense)              (None, 32)                1056      \n",
      "_________________________________________________________________\n",
      "dropout_3 (Dropout)          (None, 32)                0         \n",
      "_________________________________________________________________\n",
      "dense_4 (Dense)              (None, 64)                2112      \n",
      "_________________________________________________________________\n",
      "dropout_4 (Dropout)          (None, 64)                0         \n",
      "_________________________________________________________________\n",
      "dense_5 (Dense)              (None, 2)                 130       \n",
      "=================================================================\n",
      "Total params: 25,090\n",
      "Trainable params: 25,090\n",
      "Non-trainable params: 0\n",
      "_________________________________________________________________\n"
     ]
    }
   ],
   "source": [
    "model.summary()"
   ]
  },
  {
   "cell_type": "code",
   "execution_count": 4,
   "id": "e2463f5d",
   "metadata": {},
   "outputs": [],
   "source": [
    "import numpy as np\n",
    "import matplotlib.pyplot as plt\n",
    "import pandas as pd\n",
    "from sklearn.model_selection import train_test_split\n",
    "from sklearn import linear_model, model_selection\n",
    "import seaborn as sns\n",
    "#import tensorflow as tf\n",
    "import keras\n",
    "\n",
    "from keras.layers import Dense, Dropout\n",
    "from keras.models         import Sequential\n",
    "from keras.layers         import Dense, Dropout, Flatten\n",
    "from keras.utils.np_utils import to_categorical\n",
    "from keras.callbacks      import EarlyStopping, Callback\n",
    "from keras.layers         import Conv2D, MaxPooling2D\n",
    "from keras                import backend as K\n",
    "\n",
    "from sklearn.model_selection import train_test_split\n",
    "import numpy as np\n",
    "from sklearn.preprocessing import MinMaxScaler\n",
    "from pickle import dump,load\n",
    "\n",
    "y=load( open('labels.pkl', 'rb'))\n",
    "x_train=load( open('x_train.pkl', 'rb'))\n",
    "x_test=load( open('x_test.pkl', 'rb'))\n",
    "y_train=load( open('y_train.pkl', 'rb'))\n",
    "y_test=load( open('y_test.pkl', 'rb'))\n",
    "\n",
    "yLR_train =load( open('y_trainLR.pkl', 'rb'))\n",
    "yLR_test =load( open('y_testLR.pkl', 'rb'))\n"
   ]
  },
  {
   "cell_type": "code",
   "execution_count": 5,
   "id": "7dabf2fb",
   "metadata": {},
   "outputs": [
    {
     "data": {
      "text/plain": [
       "'Matriz de Confusion:'"
      ]
     },
     "metadata": {},
     "output_type": "display_data"
    },
    {
     "name": "stdout",
     "output_type": "stream",
     "text": [
      "[[[7 0]\n",
      "  [1 4]]\n",
      "\n",
      " [[4 1]\n",
      "  [0 7]]]\n"
     ]
    }
   ],
   "source": [
    "#Creamos la matriz de confusion\n",
    "from sklearn.metrics import confusion_matrix\n",
    "from sklearn.metrics import multilabel_confusion_matrix\n",
    "\n",
    "#Una vez entrenado el modelo, se realizan las predicciones\n",
    "predictions=model.predict(x_test)\n",
    "\n",
    "predict_label = predictions.round()\n",
    "\n",
    "#Dimensiones de los datos que influyen en la matriz\n",
    "#print(np.shape(x_test))\n",
    "#print(np.shape(y_test))\n",
    "#print(np.shape(predictions))\n",
    "#print(np.shape(predict_label))\n",
    "\n",
    "#Creacion de la matriz\n",
    "matriz1=multilabel_confusion_matrix(y_test,predict_label)\n",
    "\n",
    "display('Matriz de Confusion:')\n",
    "print(matriz1)"
   ]
  },
  {
   "cell_type": "code",
   "execution_count": 6,
   "id": "cc8fd9df",
   "metadata": {},
   "outputs": [
    {
     "name": "stdout",
     "output_type": "stream",
     "text": [
      "Exactitud del modelo:  91.66666666666666  %\n"
     ]
    }
   ],
   "source": [
    "#Ahora calculamos la exactitud del modelo, para ello, se importa la siguiente libreria\n",
    "from sklearn.metrics import accuracy_score\n",
    "\n",
    "exactitud=accuracy_score(y_test,predict_label)*100\n",
    "print('Exactitud del modelo: ',exactitud,' %')"
   ]
  },
  {
   "cell_type": "code",
   "execution_count": 7,
   "id": "5972bb07",
   "metadata": {},
   "outputs": [
    {
     "name": "stdout",
     "output_type": "stream",
     "text": [
      "              precision    recall  f1-score   support\n",
      "\n",
      "           0       1.00      0.80      0.89         5\n",
      "           1       0.88      1.00      0.93         7\n",
      "\n",
      "   micro avg       0.92      0.92      0.92        12\n",
      "   macro avg       0.94      0.90      0.91        12\n",
      "weighted avg       0.93      0.92      0.91        12\n",
      " samples avg       0.92      0.92      0.92        12\n",
      "\n"
     ]
    }
   ],
   "source": [
    "from sklearn.metrics import confusion_matrix, classification_report  \n",
    "reporte=classification_report(y_test, predict_label)\n",
    "print(reporte)"
   ]
  },
  {
   "cell_type": "code",
   "execution_count": null,
   "id": "ec6255db",
   "metadata": {},
   "outputs": [],
   "source": []
  }
 ],
 "metadata": {
  "kernelspec": {
   "display_name": "Python 3",
   "language": "python",
   "name": "python3"
  },
  "language_info": {
   "codemirror_mode": {
    "name": "ipython",
    "version": 3
   },
   "file_extension": ".py",
   "mimetype": "text/x-python",
   "name": "python",
   "nbconvert_exporter": "python",
   "pygments_lexer": "ipython3",
   "version": "3.8.10"
  }
 },
 "nbformat": 4,
 "nbformat_minor": 5
}
