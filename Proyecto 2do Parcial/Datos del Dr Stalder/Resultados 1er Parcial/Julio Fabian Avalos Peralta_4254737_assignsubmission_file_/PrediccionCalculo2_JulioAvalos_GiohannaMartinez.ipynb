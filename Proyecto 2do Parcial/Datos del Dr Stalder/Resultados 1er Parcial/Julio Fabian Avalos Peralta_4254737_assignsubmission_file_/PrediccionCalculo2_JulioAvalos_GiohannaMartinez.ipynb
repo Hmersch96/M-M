{
 "cells": [
  {
   "cell_type": "code",
   "execution_count": 1,
   "metadata": {
    "id": "gRSSgB7AXidT"
   },
   "outputs": [],
   "source": [
    "import pandas as pd\n",
    "import numpy as np\n",
    "from sklearn import linear_model\n",
    "from sklearn import model_selection\n",
    "from sklearn.metrics import classification_report\n",
    "from sklearn.metrics import confusion_matrix\n",
    "from sklearn.metrics import accuracy_score\n",
    "import matplotlib.pyplot as plt\n",
    "import seaborn as sb\n",
    "%matplotlib inline\n",
    "df = pd.read_csv(\"https://raw.githubusercontent.com/gmfv/YIO/main/datosfiltrados.csv\",index_col=0,skiprows=0)"
   ]
  },
  {
   "cell_type": "markdown",
   "metadata": {
    "id": "CjSaiW9a5Ibf"
   },
   "source": [
    "# **Implementacion de um Modelo de Regresion Logistica**"
   ]
  },
  {
   "cell_type": "markdown",
   "metadata": {
    "id": "maKGTB02AEyq"
   },
   "source": [
    " **Seleccionamos las columnas a utilizar**"
   ]
  },
  {
   "cell_type": "code",
   "execution_count": 2,
   "metadata": {
    "colab": {
     "base_uri": "https://localhost:8080/",
     "height": 437
    },
    "id": "5AjpH2lwgiLc",
    "outputId": "fa5c95c5-aca3-485c-ac85-2208b7a0c54b"
   },
   "outputs": [
    {
     "data": {
      "text/html": [
       "<div>\n",
       "<style scoped>\n",
       "    .dataframe tbody tr th:only-of-type {\n",
       "        vertical-align: middle;\n",
       "    }\n",
       "\n",
       "    .dataframe tbody tr th {\n",
       "        vertical-align: top;\n",
       "    }\n",
       "\n",
       "    .dataframe thead th {\n",
       "        text-align: right;\n",
       "    }\n",
       "</style>\n",
       "<table border=\"1\" class=\"dataframe\">\n",
       "  <thead>\n",
       "    <tr style=\"text-align: right;\">\n",
       "      <th></th>\n",
       "      <th>Cod.Car.Sec</th>\n",
       "      <th>Anho</th>\n",
       "      <th>Semestre</th>\n",
       "      <th>Aprobado</th>\n",
       "      <th>Anho.Firma</th>\n",
       "      <th>Primer.Par</th>\n",
       "      <th>Segundo.Par</th>\n",
       "      <th>AOT</th>\n",
       "    </tr>\n",
       "    <tr>\n",
       "      <th>id_anony</th>\n",
       "      <th></th>\n",
       "      <th></th>\n",
       "      <th></th>\n",
       "      <th></th>\n",
       "      <th></th>\n",
       "      <th></th>\n",
       "      <th></th>\n",
       "      <th></th>\n",
       "    </tr>\n",
       "  </thead>\n",
       "  <tbody>\n",
       "    <tr>\n",
       "      <th>es_1444</th>\n",
       "      <td>ELE-PLS13</td>\n",
       "      <td>2017</td>\n",
       "      <td>1</td>\n",
       "      <td>N</td>\n",
       "      <td>0</td>\n",
       "      <td>7</td>\n",
       "      <td>0</td>\n",
       "      <td>0</td>\n",
       "    </tr>\n",
       "    <tr>\n",
       "      <th>es_4238</th>\n",
       "      <td>CGF-PLS13</td>\n",
       "      <td>2017</td>\n",
       "      <td>1</td>\n",
       "      <td>N</td>\n",
       "      <td>0</td>\n",
       "      <td>5</td>\n",
       "      <td>0</td>\n",
       "      <td>0</td>\n",
       "    </tr>\n",
       "    <tr>\n",
       "      <th>es_4245</th>\n",
       "      <td>ELE-PLS13</td>\n",
       "      <td>2017</td>\n",
       "      <td>1</td>\n",
       "      <td>S</td>\n",
       "      <td>2016</td>\n",
       "      <td>0</td>\n",
       "      <td>0</td>\n",
       "      <td>0</td>\n",
       "    </tr>\n",
       "    <tr>\n",
       "      <th>es_4967</th>\n",
       "      <td>CIV-PLS13</td>\n",
       "      <td>2017</td>\n",
       "      <td>1</td>\n",
       "      <td>N</td>\n",
       "      <td>0</td>\n",
       "      <td>0</td>\n",
       "      <td>0</td>\n",
       "      <td>0</td>\n",
       "    </tr>\n",
       "    <tr>\n",
       "      <th>es_414</th>\n",
       "      <td>CGF-PLS13</td>\n",
       "      <td>2017</td>\n",
       "      <td>1</td>\n",
       "      <td>S</td>\n",
       "      <td>2017</td>\n",
       "      <td>21</td>\n",
       "      <td>10</td>\n",
       "      <td>0</td>\n",
       "    </tr>\n",
       "    <tr>\n",
       "      <th>...</th>\n",
       "      <td>...</td>\n",
       "      <td>...</td>\n",
       "      <td>...</td>\n",
       "      <td>...</td>\n",
       "      <td>...</td>\n",
       "      <td>...</td>\n",
       "      <td>...</td>\n",
       "      <td>...</td>\n",
       "    </tr>\n",
       "    <tr>\n",
       "      <th>es_9590</th>\n",
       "      <td>IND-PLS13</td>\n",
       "      <td>2019</td>\n",
       "      <td>2</td>\n",
       "      <td>N</td>\n",
       "      <td>0</td>\n",
       "      <td>5</td>\n",
       "      <td>4</td>\n",
       "      <td>2</td>\n",
       "    </tr>\n",
       "    <tr>\n",
       "      <th>es_9697</th>\n",
       "      <td>CIV-PLS13</td>\n",
       "      <td>2019</td>\n",
       "      <td>2</td>\n",
       "      <td>N</td>\n",
       "      <td>0</td>\n",
       "      <td>5</td>\n",
       "      <td>0</td>\n",
       "      <td>5</td>\n",
       "    </tr>\n",
       "    <tr>\n",
       "      <th>es_9437</th>\n",
       "      <td>CIV-PLS13</td>\n",
       "      <td>2019</td>\n",
       "      <td>2</td>\n",
       "      <td>N</td>\n",
       "      <td>0</td>\n",
       "      <td>0</td>\n",
       "      <td>0</td>\n",
       "      <td>0</td>\n",
       "    </tr>\n",
       "    <tr>\n",
       "      <th>es_9608</th>\n",
       "      <td>CIV-PLS13</td>\n",
       "      <td>2019</td>\n",
       "      <td>2</td>\n",
       "      <td>S</td>\n",
       "      <td>2019</td>\n",
       "      <td>11</td>\n",
       "      <td>14</td>\n",
       "      <td>10</td>\n",
       "    </tr>\n",
       "    <tr>\n",
       "      <th>es_9440</th>\n",
       "      <td>CIV-PLS13</td>\n",
       "      <td>2019</td>\n",
       "      <td>2</td>\n",
       "      <td>N</td>\n",
       "      <td>0</td>\n",
       "      <td>0</td>\n",
       "      <td>0</td>\n",
       "      <td>0</td>\n",
       "    </tr>\n",
       "  </tbody>\n",
       "</table>\n",
       "<p>1587 rows × 8 columns</p>\n",
       "</div>"
      ],
      "text/plain": [
       "         Cod.Car.Sec  Anho  Semestre Aprobado  Anho.Firma  Primer.Par  \\\n",
       "id_anony                                                                \n",
       "es_1444   ELE-PLS13   2017         1        N           0           7   \n",
       "es_4238   CGF-PLS13   2017         1        N           0           5   \n",
       "es_4245   ELE-PLS13   2017         1        S        2016           0   \n",
       "es_4967   CIV-PLS13   2017         1        N           0           0   \n",
       "es_414    CGF-PLS13   2017         1        S        2017          21   \n",
       "...              ...   ...       ...      ...         ...         ...   \n",
       "es_9590   IND-PLS13   2019         2        N           0           5   \n",
       "es_9697   CIV-PLS13   2019         2        N           0           5   \n",
       "es_9437   CIV-PLS13   2019         2        N           0           0   \n",
       "es_9608   CIV-PLS13   2019         2        S        2019          11   \n",
       "es_9440   CIV-PLS13   2019         2        N           0           0   \n",
       "\n",
       "          Segundo.Par  AOT  \n",
       "id_anony                    \n",
       "es_1444             0    0  \n",
       "es_4238             0    0  \n",
       "es_4245             0    0  \n",
       "es_4967             0    0  \n",
       "es_414             10    0  \n",
       "...               ...  ...  \n",
       "es_9590             4    2  \n",
       "es_9697             0    5  \n",
       "es_9437             0    0  \n",
       "es_9608            14   10  \n",
       "es_9440             0    0  \n",
       "\n",
       "[1587 rows x 8 columns]"
      ]
     },
     "execution_count": 2,
     "metadata": {},
     "output_type": "execute_result"
    }
   ],
   "source": [
    "copy_df=df.copy()\n",
    "#df = df.drop(df.columns[[0, 1, 2, 3, 5, 7, 12]], axis='columns')\n",
    "#df.head()\n",
    "copy_df=copy_df.set_index(\"id_anony\")\n",
    "copy_df=copy_df[copy_df[\"Asignatura\"] == \"CALCULO 2\"]\n",
    "columns_keep=[\"Cod.Car.Sec\",\"Anho\",\"Semestre\", \"Aprobado\", \"Anho.Firma\",\n",
    "              \"Primer.Par\", \"Segundo.Par\", \"AOT\"]\n",
    "copy_df=copy_df[columns_keep]\n",
    "copy_df#.head()"
   ]
  },
  {
   "cell_type": "markdown",
   "metadata": {
    "id": "CIkOdrckAWd0"
   },
   "source": [
    "**Reemplazamos las salidas (Si aprobo o no) por 1 o 0, las carreras por códigos**"
   ]
  },
  {
   "cell_type": "code",
   "execution_count": 3,
   "metadata": {
    "colab": {
     "base_uri": "https://localhost:8080/"
    },
    "id": "-GikADbksMPw",
    "outputId": "37d4ba07-ba61-41bf-e817-51257781dac1"
   },
   "outputs": [
    {
     "data": {
      "text/plain": [
       "ELE-PLS13     0\n",
       "CGF-PLS13     1\n",
       "CIV-PLS13     2\n",
       "MCT-PLS13     3\n",
       "ECA-PLS13     4\n",
       "IND-PLS13     5\n",
       "MEC-PLS13     6\n",
       "ELE-PLS09     7\n",
       "IND-PLS09     8\n",
       "CIV-PLS09     9\n",
       "dtype: object"
      ]
     },
     "execution_count": 3,
     "metadata": {},
     "output_type": "execute_result"
    }
   ],
   "source": [
    "copy_df['Aprobado']=copy_df['Aprobado'].replace(['N', 'S'],['0', '1'])\n",
    "carreras=pd.Series(['0', '1', '2', '3', '4', '5', '6', '7', '8','9'],index=[copy_df['Cod.Car.Sec'].unique()])\n",
    "#copy_df['Cod.Car.Sec']=copy_df['Cod.Car.Sec'].replace(copy_df['Cod.Car.Sec'].unique(),['0', '1', '2', '3', '4', '5', '6', '7', '8','9'])\n",
    "copy_df['Cod.Car.Sec']=copy_df['Cod.Car.Sec'].replace(carreras)\n",
    "#copy_df = copy_df.fillna(0)\n",
    "copy_df#.head()\n",
    "carreras"
   ]
  },
  {
   "cell_type": "markdown",
   "metadata": {
    "id": "aLosDOe4ArRY"
   },
   "source": [
    "**Descartamos columnas para facilitar analisis inicial**\n",
    "\n",
    "---\n",
    "Solo tenemos en cuenta el rendimiento de primer, segundo parcial y taller\n"
   ]
  },
  {
   "cell_type": "code",
   "execution_count": 4,
   "metadata": {
    "id": "0ajLyx2uo6NP"
   },
   "outputs": [],
   "source": [
    "X = np.array(copy_df.drop(['Cod.Car.Sec', 'Anho','Semestre','Anho.Firma','Aprobado'], axis=1))\n",
    "y = np.array(copy_df['Aprobado'])"
   ]
  },
  {
   "cell_type": "code",
   "execution_count": 5,
   "metadata": {
    "colab": {
     "base_uri": "https://localhost:8080/"
    },
    "id": "m6X1GZgugfgC",
    "outputId": "a1d2b72b-926e-4b06-8d52-20fa9f008ac0"
   },
   "outputs": [
    {
     "data": {
      "text/plain": [
       "LogisticRegression()"
      ]
     },
     "execution_count": 5,
     "metadata": {},
     "output_type": "execute_result"
    }
   ],
   "source": [
    "model = linear_model.LogisticRegression()\n",
    "model.fit(X,y)"
   ]
  },
  {
   "cell_type": "code",
   "execution_count": 6,
   "metadata": {
    "id": "xPtl_s5v-L_G"
   },
   "outputs": [],
   "source": [
    "predictions = model.predict(X)"
   ]
  },
  {
   "cell_type": "markdown",
   "metadata": {
    "id": "Q9Sb4uUuz0sf"
   },
   "source": [
    "Precision media de:"
   ]
  },
  {
   "cell_type": "code",
   "execution_count": 7,
   "metadata": {
    "colab": {
     "base_uri": "https://localhost:8080/"
    },
    "id": "5CnWC18_-Yjz",
    "outputId": "a5793b61-6e31-4dab-aa6d-fd7aafd510a4"
   },
   "outputs": [
    {
     "data": {
      "text/plain": [
       "0.8090737240075614"
      ]
     },
     "execution_count": 7,
     "metadata": {},
     "output_type": "execute_result"
    }
   ],
   "source": [
    "model.score(X,y)"
   ]
  },
  {
   "cell_type": "markdown",
   "metadata": {
    "id": "9ywCdOjPucjh"
   },
   "source": [
    "## **VALIDACION**"
   ]
  },
  {
   "cell_type": "markdown",
   "metadata": {
    "id": "cE2Mc_40vipi"
   },
   "source": [
    "**Dividimos nuestros datos en una seccion para entrenar y otra para validar**"
   ]
  },
  {
   "cell_type": "code",
   "execution_count": 8,
   "metadata": {
    "id": "siOgk3SUdHgg"
   },
   "outputs": [],
   "source": [
    "validation_size = 0.20\n",
    "seed = 85\n",
    "X_train, X_validation, Y_train, Y_validation = model_selection.train_test_split(X, y, test_size=validation_size, random_state=seed)"
   ]
  },
  {
   "cell_type": "markdown",
   "metadata": {
    "id": "yPd5FA-ou8FW"
   },
   "source": [
    "**Entrenamos a nuestro modelo con el 80% de los datos. Obteniendo una media de exactitud y desviación estandar que se imprimen en pantalla**"
   ]
  },
  {
   "cell_type": "code",
   "execution_count": 9,
   "metadata": {
    "colab": {
     "base_uri": "https://localhost:8080/"
    },
    "id": "2LSPbug3euHA",
    "outputId": "ab9e36b7-92e4-4570-d6bf-16584648e971"
   },
   "outputs": [
    {
     "name": "stdout",
     "output_type": "stream",
     "text": [
      "Logistic Regression: 0.799850 (0.018617)\n"
     ]
    }
   ],
   "source": [
    "name='Logistic Regression'\n",
    "kfold = model_selection.KFold(n_splits=10, shuffle=True, random_state=seed)\n",
    "cv_results = model_selection.cross_val_score(model, X_train, Y_train, cv=kfold, scoring='accuracy')\n",
    "msg = \"%s: %f (%f)\" % (name, cv_results.mean(), cv_results.std())\n",
    "print(msg)"
   ]
  },
  {
   "cell_type": "markdown",
   "metadata": {
    "id": "W-Fkisj95tvA"
   },
   "source": [
    "**Precision del Modelo**"
   ]
  },
  {
   "cell_type": "code",
   "execution_count": 10,
   "metadata": {
    "colab": {
     "base_uri": "https://localhost:8080/"
    },
    "id": "jLmsaX7UfV7D",
    "outputId": "7f7df948-2aee-4924-dc6f-bf144b99bd98"
   },
   "outputs": [
    {
     "name": "stdout",
     "output_type": "stream",
     "text": [
      "La precision del Modelo es: 84.59119496855347%\n"
     ]
    }
   ],
   "source": [
    "predictions = model.predict(X_validation)\n",
    "print('La precision del Modelo es: {}%'.format(accuracy_score(Y_validation, predictions)*100))\n",
    "accuracy=[]\n",
    "accuracy.append(accuracy_score(Y_validation, predictions))"
   ]
  },
  {
   "cell_type": "markdown",
   "metadata": {
    "id": "hdH8q9LLxDiO"
   },
   "source": [
    "Tener en cuenta que la cantidad de datos reservados para la validacion era pequeña en comparacion"
   ]
  },
  {
   "cell_type": "markdown",
   "metadata": {
    "id": "NU7nY1px4SoT"
   },
   "source": [
    "## **Matrices de confusion**"
   ]
  },
  {
   "cell_type": "code",
   "execution_count": 11,
   "metadata": {
    "colab": {
     "base_uri": "https://localhost:8080/",
     "height": 283
    },
    "id": "wCNztFyI4A9A",
    "outputId": "8bd8ff00-f008-452a-9719-8ebf62c51786"
   },
   "outputs": [
    {
     "data": {
      "text/plain": [
       "<AxesSubplot:>"
      ]
     },
     "execution_count": 11,
     "metadata": {},
     "output_type": "execute_result"
    },
    {
     "data": {
      "image/png": "[encoded data removed]",
      "text/plain": [
       "<Figure size 432x288 with 2 Axes>"
      ]
     },
     "metadata": {
      "needs_background": "light"
     },
     "output_type": "display_data"
    }
   ],
   "source": [
    " import seaborn as sns\n",
    " matrizglobal= confusion_matrix(Y_validation, predictions)\n",
    " sns.heatmap(matrizglobal, annot=True)"
   ]
  },
  {
   "cell_type": "code",
   "execution_count": 12,
   "metadata": {
    "colab": {
     "base_uri": "https://localhost:8080/",
     "height": 283
    },
    "id": "uboMELtezIJA",
    "outputId": "10ed5c06-3d9d-4b77-a629-bc4eb9390483"
   },
   "outputs": [
    {
     "data": {
      "text/plain": [
       "<AxesSubplot:>"
      ]
     },
     "execution_count": 12,
     "metadata": {},
     "output_type": "execute_result"
    },
    {
     "data": {
      "image/png": "[encoded data removed]",
      "text/plain": [
       "<Figure size 432x288 with 2 Axes>"
      ]
     },
     "metadata": {
      "needs_background": "light"
     },
     "output_type": "display_data"
    }
   ],
   "source": [
    "sns.heatmap(matrizglobal/np.sum(matrizglobal), annot=True, \n",
    "            fmt='.2%', cmap='Blues')"
   ]
  },
  {
   "cell_type": "code",
   "execution_count": 13,
   "metadata": {
    "id": "L8zTN3Pj5v3n"
   },
   "outputs": [],
   "source": [
    "matrizglobal = matrizglobal.flatten() \n",
    "mc = np.asarray(matrizglobal)"
   ]
  },
  {
   "cell_type": "markdown",
   "metadata": {
    "id": "y3j-mQe-_9WL"
   },
   "source": [
    " **Prueba** "
   ]
  },
  {
   "cell_type": "code",
   "execution_count": 14,
   "metadata": {
    "colab": {
     "base_uri": "https://localhost:8080/",
     "height": 35
    },
    "id": "U2jvxBSt_NaC",
    "outputId": "e516b5bb-8317-46d6-cc23-fadb770b439c"
   },
   "outputs": [
    {
     "data": {
      "text/plain": [
       "'1'"
      ]
     },
     "execution_count": 14,
     "metadata": {},
     "output_type": "execute_result"
    }
   ],
   "source": [
    "X_new = pd.DataFrame({'Primer.Par': [15], 'Segundo.Par': [24], 'AOT': [4]})\n",
    "model.predict(X_new)[0]"
   ]
  },
  {
   "cell_type": "markdown",
   "metadata": {
    "id": "a_0XTWBLY3Ej"
   },
   "source": [
    "## **Comparación con un modelo de precisión por carrera**"
   ]
  },
  {
   "cell_type": "code",
   "execution_count": 15,
   "metadata": {
    "id": "0OQFfl4nNW9B"
   },
   "outputs": [],
   "source": [
    "for i in range(7):\n",
    "  datfriend = copy_df[copy_df['Cod.Car.Sec'] == str(i)]\n",
    "\n",
    "  if (i == 0):\n",
    "    datfriend = pd.concat([datfriend, copy_df[copy_df['Cod.Car.Sec'] == str(7)]], axis=0)\n",
    "  elif (i == 2):\n",
    "    datfriend = pd.concat([datfriend, copy_df[copy_df['Cod.Car.Sec'] == str(9)]], axis=0)\n",
    "  elif (i == 5):\n",
    "    datfriend = pd.concat([datfriend, copy_df[copy_df['Cod.Car.Sec'] == str(8)]], axis=0)\n",
    "\n",
    "  X = np.array(datfriend.drop(['Cod.Car.Sec', 'Anho','Semestre','Anho.Firma','Aprobado'], axis=1))\n",
    "  y = np.array(datfriend['Aprobado'])\n",
    "  model = linear_model.LogisticRegression()\n",
    "  model.fit(X,y)\n",
    "  seed=85\n",
    "  X_train, X_validation, Y_train, Y_validation = model_selection.train_test_split(X, y, test_size=0.5, random_state=seed)\n",
    "  kfold = model_selection.KFold(n_splits=10,shuffle=True ,random_state=seed)\n",
    "  cv_results = model_selection.cross_val_score(model, X_train, Y_train, cv=kfold, scoring='accuracy')\n",
    "  predictions = model.predict(X_validation)\n",
    "  accuracy.append(accuracy_score(Y_validation, predictions))\n",
    "  matrizdeconfusion= confusion_matrix(Y_validation, predictions)\n",
    "  matrizdeconfusion = matrizdeconfusion.flatten()   #Convertimos la matriz de confusion a 1 dimension \n",
    "  mc=np.vstack((mc,matrizdeconfusion)) #Colocamos al final de la matriz que recolecta los TT, FT, TF, FF de las carreras\n",
    "#accuracy = np.array(accuracy) #Convertimos la lista a un arreglos numpy, esto era porque queria intentar concater la matriz mc y el de accuracy, pero no pude todavia gg"
   ]
  },
  {
   "cell_type": "markdown",
   "metadata": {
    "id": "eunueccIDz2n"
   },
   "source": [
    "**Creamos un Dataframe con los datos de las matrices de confusion por carreras y global, y le agregamos las precisiones**"
   ]
  },
  {
   "cell_type": "code",
   "execution_count": 16,
   "metadata": {
    "colab": {
     "base_uri": "https://localhost:8080/",
     "height": 288
    },
    "id": "vurPXy6963Vj",
    "outputId": "20ae5cf5-2b64-4057-d559-f74fc359b9ea"
   },
   "outputs": [
    {
     "data": {
      "text/html": [
       "<div>\n",
       "<style scoped>\n",
       "    .dataframe tbody tr th:only-of-type {\n",
       "        vertical-align: middle;\n",
       "    }\n",
       "\n",
       "    .dataframe tbody tr th {\n",
       "        vertical-align: top;\n",
       "    }\n",
       "\n",
       "    .dataframe thead th {\n",
       "        text-align: right;\n",
       "    }\n",
       "</style>\n",
       "<table border=\"1\" class=\"dataframe\">\n",
       "  <thead>\n",
       "    <tr style=\"text-align: right;\">\n",
       "      <th></th>\n",
       "      <th>TN</th>\n",
       "      <th>FP</th>\n",
       "      <th>FN</th>\n",
       "      <th>TP</th>\n",
       "      <th>Accuracy</th>\n",
       "    </tr>\n",
       "  </thead>\n",
       "  <tbody>\n",
       "    <tr>\n",
       "      <th>GLOBAL</th>\n",
       "      <td>120</td>\n",
       "      <td>29</td>\n",
       "      <td>20</td>\n",
       "      <td>149</td>\n",
       "      <td>0.845912</td>\n",
       "    </tr>\n",
       "    <tr>\n",
       "      <th>ELE</th>\n",
       "      <td>76</td>\n",
       "      <td>17</td>\n",
       "      <td>11</td>\n",
       "      <td>89</td>\n",
       "      <td>0.854922</td>\n",
       "    </tr>\n",
       "    <tr>\n",
       "      <th>CGF</th>\n",
       "      <td>23</td>\n",
       "      <td>0</td>\n",
       "      <td>9</td>\n",
       "      <td>1</td>\n",
       "      <td>0.727273</td>\n",
       "    </tr>\n",
       "    <tr>\n",
       "      <th>CIV</th>\n",
       "      <td>130</td>\n",
       "      <td>25</td>\n",
       "      <td>30</td>\n",
       "      <td>170</td>\n",
       "      <td>0.845070</td>\n",
       "    </tr>\n",
       "    <tr>\n",
       "      <th>MCT</th>\n",
       "      <td>29</td>\n",
       "      <td>8</td>\n",
       "      <td>7</td>\n",
       "      <td>45</td>\n",
       "      <td>0.831461</td>\n",
       "    </tr>\n",
       "    <tr>\n",
       "      <th>ECA</th>\n",
       "      <td>13</td>\n",
       "      <td>5</td>\n",
       "      <td>1</td>\n",
       "      <td>8</td>\n",
       "      <td>0.777778</td>\n",
       "    </tr>\n",
       "    <tr>\n",
       "      <th>IND</th>\n",
       "      <td>23</td>\n",
       "      <td>7</td>\n",
       "      <td>9</td>\n",
       "      <td>27</td>\n",
       "      <td>0.757576</td>\n",
       "    </tr>\n",
       "    <tr>\n",
       "      <th>MEC</th>\n",
       "      <td>14</td>\n",
       "      <td>4</td>\n",
       "      <td>4</td>\n",
       "      <td>11</td>\n",
       "      <td>0.757576</td>\n",
       "    </tr>\n",
       "  </tbody>\n",
       "</table>\n",
       "</div>"
      ],
      "text/plain": [
       "         TN  FP  FN   TP  Accuracy\n",
       "GLOBAL  120  29  20  149  0.845912\n",
       "ELE      76  17  11   89  0.854922\n",
       "CGF      23   0   9    1  0.727273\n",
       "CIV     130  25  30  170  0.845070\n",
       "MCT      29   8   7   45  0.831461\n",
       "ECA      13   5   1    8  0.777778\n",
       "IND      23   7   9   27  0.757576\n",
       "MEC      14   4   4   11  0.757576"
      ]
     },
     "execution_count": 16,
     "metadata": {},
     "output_type": "execute_result"
    }
   ],
   "source": [
    "datos=pd.DataFrame(mc, index=['GLOBAL','ELE', 'CGF', 'CIV', 'MCT', 'ECA', 'IND', 'MEC'], columns=['TN', 'FP', 'FN', 'TP'])\n",
    "datos['Accuracy']=accuracy\n",
    "datos"
   ]
  },
  {
   "cell_type": "markdown",
   "metadata": {
    "id": "f0T7XCLt7WvI"
   },
   "source": [
    "**Comparacion de los Modelos Global y por carreras en cuanto a falsos positivos y falsos negativos**"
   ]
  },
  {
   "cell_type": "code",
   "execution_count": 17,
   "metadata": {
    "colab": {
     "base_uri": "https://localhost:8080/"
    },
    "id": "PkluJiJO7nHI",
    "outputId": "710cd7c4-bd1b-4381-b5ef-aafc1bf2d11d"
   },
   "outputs": [
    {
     "name": "stdout",
     "output_type": "stream",
     "text": [
      "La cantidad de Falsos Positivos del modelo por carreras es 66 mientras que de el modelo Global es 29\n",
      "La cantidad de Falsos Negativos del modelo por carreras es 71 mientras que de el modelo Global es 20\n"
     ]
    }
   ],
   "source": [
    "carr=datos.drop(['GLOBAL'],axis=0)[['FP','FN']].apply(lambda x: sum(x))\n",
    "print('La cantidad de Falsos Positivos del modelo por carreras es {} mientras que de el modelo Global es {}'.format(carr[0],int(datos.loc['GLOBAL']['FP'])))\n",
    "print('La cantidad de Falsos Negativos del modelo por carreras es {} mientras que de el modelo Global es {}'.format(carr[1],int(datos.loc['GLOBAL']['FN'])))"
   ]
  },
  {
   "cell_type": "markdown",
   "metadata": {
    "id": "GfcwKYgz9azf"
   },
   "source": [
    "De esta forma Concluimos que no es valido representar el modelo separado por carreras, o que es menos efectivo que un modelo Global"
   ]
  },
  {
   "cell_type": "markdown",
   "metadata": {
    "id": "fVn9GmPRSFC_"
   },
   "source": [
    "# **Arreglamos la columna de notas finales, separando en primer, segundo y tercer final, se agrega una columna más que sería la nota del último final que rindió el alumno**"
   ]
  },
  {
   "cell_type": "code",
   "execution_count": 18,
   "metadata": {
    "colab": {
     "base_uri": "https://localhost:8080/",
     "height": 457
    },
    "id": "c028XNsxSYM3",
    "outputId": "a279bc4f-4c62-4b36-ed00-b1ea4cb92cbe"
   },
   "outputs": [
    {
     "name": "stderr",
     "output_type": "stream",
     "text": [
      "<ipython-input-18-b87a2ec39cee>:8: SyntaxWarning: \"is\" with a literal. Did you mean \"==\"?\n",
      "  if nota is '':\n"
     ]
    },
    {
     "data": {
      "text/html": [
       "<div>\n",
       "<style scoped>\n",
       "    .dataframe tbody tr th:only-of-type {\n",
       "        vertical-align: middle;\n",
       "    }\n",
       "\n",
       "    .dataframe tbody tr th {\n",
       "        vertical-align: top;\n",
       "    }\n",
       "\n",
       "    .dataframe thead th {\n",
       "        text-align: right;\n",
       "    }\n",
       "</style>\n",
       "<table border=\"1\" class=\"dataframe\">\n",
       "  <thead>\n",
       "    <tr style=\"text-align: right;\">\n",
       "      <th></th>\n",
       "      <th>Cod.Car.Sec</th>\n",
       "      <th>Anho</th>\n",
       "      <th>Semestre</th>\n",
       "      <th>Aprobado</th>\n",
       "      <th>Anho.Firma</th>\n",
       "      <th>Primer.Par</th>\n",
       "      <th>Segundo.Par</th>\n",
       "      <th>AOT</th>\n",
       "      <th>Primer.Rec</th>\n",
       "      <th>Segundo.Rec</th>\n",
       "      <th>Nota.Final</th>\n",
       "      <th>Primer.Final</th>\n",
       "      <th>Segundo.Final</th>\n",
       "      <th>Tercer.Final</th>\n",
       "      <th>Final.Val</th>\n",
       "    </tr>\n",
       "    <tr>\n",
       "      <th>id_anony</th>\n",
       "      <th></th>\n",
       "      <th></th>\n",
       "      <th></th>\n",
       "      <th></th>\n",
       "      <th></th>\n",
       "      <th></th>\n",
       "      <th></th>\n",
       "      <th></th>\n",
       "      <th></th>\n",
       "      <th></th>\n",
       "      <th></th>\n",
       "      <th></th>\n",
       "      <th></th>\n",
       "      <th></th>\n",
       "      <th></th>\n",
       "    </tr>\n",
       "  </thead>\n",
       "  <tbody>\n",
       "    <tr>\n",
       "      <th>es_1444</th>\n",
       "      <td>0</td>\n",
       "      <td>2017</td>\n",
       "      <td>1</td>\n",
       "      <td>0</td>\n",
       "      <td>0</td>\n",
       "      <td>7</td>\n",
       "      <td>0</td>\n",
       "      <td>0</td>\n",
       "      <td>0</td>\n",
       "      <td>0</td>\n",
       "      <td></td>\n",
       "      <td></td>\n",
       "      <td></td>\n",
       "      <td></td>\n",
       "      <td></td>\n",
       "    </tr>\n",
       "    <tr>\n",
       "      <th>es_4238</th>\n",
       "      <td>1</td>\n",
       "      <td>2017</td>\n",
       "      <td>1</td>\n",
       "      <td>0</td>\n",
       "      <td>0</td>\n",
       "      <td>5</td>\n",
       "      <td>0</td>\n",
       "      <td>0</td>\n",
       "      <td>0</td>\n",
       "      <td>0</td>\n",
       "      <td></td>\n",
       "      <td></td>\n",
       "      <td></td>\n",
       "      <td></td>\n",
       "      <td></td>\n",
       "    </tr>\n",
       "    <tr>\n",
       "      <th>es_4245</th>\n",
       "      <td>0</td>\n",
       "      <td>2017</td>\n",
       "      <td>1</td>\n",
       "      <td>1</td>\n",
       "      <td>2016</td>\n",
       "      <td>0</td>\n",
       "      <td>0</td>\n",
       "      <td>0</td>\n",
       "      <td>0</td>\n",
       "      <td>0</td>\n",
       "      <td>1F-1,2F-2</td>\n",
       "      <td>1</td>\n",
       "      <td>2</td>\n",
       "      <td></td>\n",
       "      <td>2</td>\n",
       "    </tr>\n",
       "    <tr>\n",
       "      <th>es_4967</th>\n",
       "      <td>2</td>\n",
       "      <td>2017</td>\n",
       "      <td>1</td>\n",
       "      <td>0</td>\n",
       "      <td>0</td>\n",
       "      <td>0</td>\n",
       "      <td>0</td>\n",
       "      <td>0</td>\n",
       "      <td>0</td>\n",
       "      <td>0</td>\n",
       "      <td></td>\n",
       "      <td></td>\n",
       "      <td></td>\n",
       "      <td></td>\n",
       "      <td></td>\n",
       "    </tr>\n",
       "    <tr>\n",
       "      <th>es_414</th>\n",
       "      <td>1</td>\n",
       "      <td>2017</td>\n",
       "      <td>1</td>\n",
       "      <td>1</td>\n",
       "      <td>2017</td>\n",
       "      <td>21</td>\n",
       "      <td>10</td>\n",
       "      <td>0</td>\n",
       "      <td>0</td>\n",
       "      <td>0</td>\n",
       "      <td>3F-C-3</td>\n",
       "      <td></td>\n",
       "      <td></td>\n",
       "      <td>3</td>\n",
       "      <td>3</td>\n",
       "    </tr>\n",
       "    <tr>\n",
       "      <th>...</th>\n",
       "      <td>...</td>\n",
       "      <td>...</td>\n",
       "      <td>...</td>\n",
       "      <td>...</td>\n",
       "      <td>...</td>\n",
       "      <td>...</td>\n",
       "      <td>...</td>\n",
       "      <td>...</td>\n",
       "      <td>...</td>\n",
       "      <td>...</td>\n",
       "      <td>...</td>\n",
       "      <td>...</td>\n",
       "      <td>...</td>\n",
       "      <td>...</td>\n",
       "      <td>...</td>\n",
       "    </tr>\n",
       "    <tr>\n",
       "      <th>es_9590</th>\n",
       "      <td>5</td>\n",
       "      <td>2019</td>\n",
       "      <td>2</td>\n",
       "      <td>0</td>\n",
       "      <td>0</td>\n",
       "      <td>5</td>\n",
       "      <td>4</td>\n",
       "      <td>2</td>\n",
       "      <td>0</td>\n",
       "      <td>0</td>\n",
       "      <td></td>\n",
       "      <td></td>\n",
       "      <td></td>\n",
       "      <td></td>\n",
       "      <td></td>\n",
       "    </tr>\n",
       "    <tr>\n",
       "      <th>es_9697</th>\n",
       "      <td>2</td>\n",
       "      <td>2019</td>\n",
       "      <td>2</td>\n",
       "      <td>0</td>\n",
       "      <td>0</td>\n",
       "      <td>5</td>\n",
       "      <td>0</td>\n",
       "      <td>5</td>\n",
       "      <td>0</td>\n",
       "      <td>0</td>\n",
       "      <td></td>\n",
       "      <td></td>\n",
       "      <td></td>\n",
       "      <td></td>\n",
       "      <td></td>\n",
       "    </tr>\n",
       "    <tr>\n",
       "      <th>es_9437</th>\n",
       "      <td>2</td>\n",
       "      <td>2019</td>\n",
       "      <td>2</td>\n",
       "      <td>0</td>\n",
       "      <td>0</td>\n",
       "      <td>0</td>\n",
       "      <td>0</td>\n",
       "      <td>0</td>\n",
       "      <td>0</td>\n",
       "      <td>0</td>\n",
       "      <td></td>\n",
       "      <td></td>\n",
       "      <td></td>\n",
       "      <td></td>\n",
       "      <td></td>\n",
       "    </tr>\n",
       "    <tr>\n",
       "      <th>es_9608</th>\n",
       "      <td>2</td>\n",
       "      <td>2019</td>\n",
       "      <td>2</td>\n",
       "      <td>1</td>\n",
       "      <td>2019</td>\n",
       "      <td>11</td>\n",
       "      <td>14</td>\n",
       "      <td>10</td>\n",
       "      <td>0</td>\n",
       "      <td>0</td>\n",
       "      <td>1F-5</td>\n",
       "      <td>5</td>\n",
       "      <td></td>\n",
       "      <td></td>\n",
       "      <td>5</td>\n",
       "    </tr>\n",
       "    <tr>\n",
       "      <th>es_9440</th>\n",
       "      <td>2</td>\n",
       "      <td>2019</td>\n",
       "      <td>2</td>\n",
       "      <td>0</td>\n",
       "      <td>0</td>\n",
       "      <td>0</td>\n",
       "      <td>0</td>\n",
       "      <td>0</td>\n",
       "      <td>0</td>\n",
       "      <td>0</td>\n",
       "      <td></td>\n",
       "      <td></td>\n",
       "      <td></td>\n",
       "      <td></td>\n",
       "      <td></td>\n",
       "    </tr>\n",
       "  </tbody>\n",
       "</table>\n",
       "<p>1587 rows × 15 columns</p>\n",
       "</div>"
      ],
      "text/plain": [
       "         Cod.Car.Sec  Anho  Semestre Aprobado  Anho.Firma  Primer.Par  \\\n",
       "id_anony                                                                \n",
       "es_1444            0  2017         1        0           0           7   \n",
       "es_4238            1  2017         1        0           0           5   \n",
       "es_4245            0  2017         1        1        2016           0   \n",
       "es_4967            2  2017         1        0           0           0   \n",
       "es_414             1  2017         1        1        2017          21   \n",
       "...              ...   ...       ...      ...         ...         ...   \n",
       "es_9590            5  2019         2        0           0           5   \n",
       "es_9697            2  2019         2        0           0           5   \n",
       "es_9437            2  2019         2        0           0           0   \n",
       "es_9608            2  2019         2        1        2019          11   \n",
       "es_9440            2  2019         2        0           0           0   \n",
       "\n",
       "          Segundo.Par  AOT  Primer.Rec  Segundo.Rec Nota.Final Primer.Final  \\\n",
       "id_anony                                                                      \n",
       "es_1444             0    0           0            0                           \n",
       "es_4238             0    0           0            0                           \n",
       "es_4245             0    0           0            0  1F-1,2F-2            1   \n",
       "es_4967             0    0           0            0                           \n",
       "es_414             10    0           0            0     3F-C-3                \n",
       "...               ...  ...         ...          ...        ...          ...   \n",
       "es_9590             4    2           0            0                           \n",
       "es_9697             0    5           0            0                           \n",
       "es_9437             0    0           0            0                           \n",
       "es_9608            14   10           0            0       1F-5            5   \n",
       "es_9440             0    0           0            0                           \n",
       "\n",
       "         Segundo.Final Tercer.Final Final.Val  \n",
       "id_anony                                       \n",
       "es_1444                                        \n",
       "es_4238                                        \n",
       "es_4245              2                      2  \n",
       "es_4967                                        \n",
       "es_414                            3         3  \n",
       "...                ...          ...       ...  \n",
       "es_9590                                        \n",
       "es_9697                                        \n",
       "es_9437                                        \n",
       "es_9608                                     5  \n",
       "es_9440                                        \n",
       "\n",
       "[1587 rows x 15 columns]"
      ]
     },
     "execution_count": 18,
     "metadata": {},
     "output_type": "execute_result"
    }
   ],
   "source": [
    "global primerfinal\n",
    "primerfinal=[]\n",
    "global primerfinal\n",
    "segundofinal=[]\n",
    "global primerfinal\n",
    "tercerfinal=[]\n",
    "def separar(nota):    \n",
    "  if nota is '':\n",
    "    primerfinal.append('')\n",
    "    segundofinal.append('')\n",
    "    tercerfinal.append('')\n",
    "  else:\n",
    "    if nota.startswith('1F'):\n",
    "      valor=nota.split(',')[0].split('-')[-1]\n",
    "      primerfinal.append(valor)\n",
    "      if (len(nota.split(','))==2) and (nota.split(',')[-1].startswith('2F')):\n",
    "        valor=nota.split(',')[-1].split('-')[-1]\n",
    "        segundofinal.append(valor)\n",
    "        tercerfinal.append('')\n",
    "      elif (len(nota.split(','))==2) and (nota.split(',')[-1].startswith('3F')):\n",
    "        valor=nota.split(',')[-1].split('-')[-1]\n",
    "        tercerfinal.append(valor)\n",
    "        segundofinal.append('')\n",
    "      elif len(nota.split(','))==3:\n",
    "        valor=nota.split(',')[1].split('-')[-1]\n",
    "        segundofinal.append(valor)\n",
    "        valor=nota.split(',')[2].split('-')[-1]\n",
    "        tercerfinal.append(valor)\n",
    "      else:\n",
    "        segundofinal.append('')\n",
    "        tercerfinal.append('')\n",
    "    elif nota.startswith('2F'):\n",
    "      valor=nota.split(',')[0].split('-')[-1]\n",
    "      segundofinal.append(valor)\n",
    "      primerfinal.append('')\n",
    "      if len(nota.split(','))==2:\n",
    "        valor=nota.split(',')[-1].split('-')[-1]\n",
    "        tercerfinal.append(valor)\n",
    "      else:\n",
    "        tercerfinal.append('')\n",
    "    elif nota.startswith('3F'):\n",
    "      valor=nota.split(',')[0].split('-')[-1]\n",
    "      tercerfinal.append(valor)\n",
    "      primerfinal.append('')\n",
    "      segundofinal.append('')\n",
    "  return nota\n",
    "\n",
    "copy_df['Primer.Rec'],copy_df['Segundo.Rec'],copy_df['Nota.Final'] = df[df[\"Asignatura\"] == \"CALCULO 2\"]['Primer.Rec'].values,df[df[\"Asignatura\"] == \"CALCULO 2\"]['Segundo.Rec'].values,df[df[\"Asignatura\"] == \"CALCULO 2\"]['Nota.Final'].values\n",
    "\n",
    "copy_df=copy_df.fillna('')\n",
    "\n",
    "copy_df['Nota.Final'].apply(lambda x: separar(x))\n",
    "copy_df['Primer.Final'],copy_df['Segundo.Final'],copy_df['Tercer.Final']=primerfinal,segundofinal,tercerfinal\n",
    "copy_df['Final.Val']=copy_df['Nota.Final'].apply(lambda x: x.split(',')[-1].split('-')[-1])\n",
    "\n",
    "copy_df\n"
   ]
  },
  {
   "cell_type": "code",
   "execution_count": 19,
   "metadata": {
    "colab": {
     "base_uri": "https://localhost:8080/"
    },
    "id": "alwlrDKbEXD5",
    "outputId": "8c58c96c-5ae4-49b5-d910-94f0e3ba78a0"
   },
   "outputs": [
    {
     "data": {
      "text/plain": [
       "4574"
      ]
     },
     "execution_count": 19,
     "metadata": {},
     "output_type": "execute_result"
    }
   ],
   "source": [
    "#copy_df[copy_df[].startswith(carreras.index[i][0].split('-')[0])]      asi podriamos hacer en una linea el df de cada carrera, 2009 y 2013\n",
    "df=df.set_index('id_anony')\n",
    "len(np.unique(df.index.values)) #id_anony que estan en Calculo 1 y Calculo 2"
   ]
  },
  {
   "cell_type": "markdown",
   "metadata": {
    "id": "Y8vWEEkYz5RW"
   },
   "source": [
    "# **Modelo que incluye los datos de Primer y Segundo Recuperatorio, los cuales pudieran o no ser representativos**"
   ]
  },
  {
   "cell_type": "code",
   "execution_count": 20,
   "metadata": {
    "colab": {
     "base_uri": "https://localhost:8080/",
     "height": 301
    },
    "id": "_dVUTstH0LJK",
    "outputId": "d711921b-1a99-40c9-a1de-68254e673edb"
   },
   "outputs": [
    {
     "name": "stdout",
     "output_type": "stream",
     "text": [
      "La Precision de este modelo es: 86.47798742138365%\n"
     ]
    },
    {
     "data": {
      "text/plain": [
       "<AxesSubplot:>"
      ]
     },
     "execution_count": 20,
     "metadata": {},
     "output_type": "execute_result"
    },
    {
     "data": {
      "image/png": "[encoded data removed]",
      "text/plain": [
       "<Figure size 432x288 with 2 Axes>"
      ]
     },
     "metadata": {
      "needs_background": "light"
     },
     "output_type": "display_data"
    }
   ],
   "source": [
    "import seaborn as sns\n",
    "X = np.array(copy_df[['Primer.Par','Segundo.Par','AOT','Primer.Rec','Segundo.Rec']])\n",
    "y = np.array(copy_df['Aprobado'])\n",
    "model = linear_model.LogisticRegression()\n",
    "model.fit(X,y)\n",
    "predictions = model.predict(X)\n",
    "validation_size = 0.20\n",
    "#seed=56, 85\n",
    "seed = 85\n",
    "X_train, X_validation, Y_train, Y_validation = model_selection.train_test_split(X, y, test_size=validation_size, random_state=seed)\n",
    "predictions = model.predict(X_validation)\n",
    "print('La Precision de este modelo es: {}%'.format(accuracy_score(Y_validation, predictions)*100))\n",
    "matrizglobal= confusion_matrix(Y_validation, predictions)\n",
    "sns.heatmap(matrizglobal, annot=True)"
   ]
  },
  {
   "cell_type": "code",
   "execution_count": 21,
   "metadata": {
    "colab": {
     "base_uri": "https://localhost:8080/",
     "height": 283
    },
    "id": "kRMNvK6f3PYE",
    "outputId": "60cae7a1-8166-4855-f67a-e4e86845e9d1"
   },
   "outputs": [
    {
     "data": {
      "text/plain": [
       "<AxesSubplot:>"
      ]
     },
     "execution_count": 21,
     "metadata": {},
     "output_type": "execute_result"
    },
    {
     "data": {
      "image/png": "[encoded data removed]",
      "text/plain": [
       "<Figure size 432x288 with 2 Axes>"
      ]
     },
     "metadata": {
      "needs_background": "light"
     },
     "output_type": "display_data"
    }
   ],
   "source": [
    "sns.heatmap(matrizglobal/np.sum(matrizglobal), annot=True, \n",
    "            fmt='.2%', cmap='Blues')"
   ]
  },
  {
   "cell_type": "markdown",
   "metadata": {
    "id": "MOJb1rveCCdZ"
   },
   "source": [
    "**Prueba**"
   ]
  },
  {
   "cell_type": "code",
   "execution_count": 22,
   "metadata": {
    "colab": {
     "base_uri": "https://localhost:8080/",
     "height": 35
    },
    "id": "_bum58umCImH",
    "outputId": "d763d3c3-9bbf-4e78-d841-ee5580a68016"
   },
   "outputs": [
    {
     "data": {
      "text/plain": [
       "'1'"
      ]
     },
     "execution_count": 22,
     "metadata": {},
     "output_type": "execute_result"
    }
   ],
   "source": [
    "X_new = pd.DataFrame({'Primer.Par': [24], 'Segundo.Par': [36], 'AOT': [10], 'Primer.Recu': [0], 'Segundo.Recu': [0]})\n",
    "model.predict(X_new)[0]"
   ]
  },
  {
   "cell_type": "markdown",
   "metadata": {
    "id": "p1aIsMdaJCU-"
   },
   "source": [
    "# **Implementacion de un Modelo de Red Neuronal del Primer Modelo**"
   ]
  },
  {
   "cell_type": "code",
   "execution_count": 23,
   "metadata": {
    "colab": {
     "base_uri": "https://localhost:8080/"
    },
    "id": "CNXNoCE16A03",
    "outputId": "f9240768-fdba-4e61-9cf3-795e44cda6d5"
   },
   "outputs": [
    {
     "name": "stdout",
     "output_type": "stream",
     "text": [
      "10/10 [==============================] - 0s 898us/step - loss: 0.1185 - accuracy: 0.8648\n",
      "[[128  21]\n",
      " [ 22 147]]\n"
     ]
    }
   ],
   "source": [
    "import keras\n",
    "from keras.models import Sequential\n",
    "from keras.layers import Dense, Dropout\n",
    "from sklearn.metrics import confusion_matrix, classification_report \n",
    "from sklearn.model_selection import train_test_split\n",
    "#copy_df=copy_df[copy_df['Nota.Final'] != '']\n",
    "#copy_df['Anho.Firma']=copy_df['Anho.Firma'].apply(lambda x: 1 if x>0 else 0)\n",
    "X = copy_df[['Primer.Par','Segundo.Par','AOT']].values#,'Anho.Firma']].values\n",
    "y = copy_df['Aprobado'].apply(lambda x: int(x)).values\n",
    "seed=85\n",
    "X_train, X_test, y_train, y_test = model_selection.train_test_split(X, y, test_size=0.20, random_state=seed)\n",
    "model = Sequential()\n",
    "model.add(Dense(15, activation='linear' , input_shape=(3,)))\n",
    "model.add(Dense(10, activation='linear'))\n",
    "model.add(Dense(10, activation='linear'))\n",
    "model.add(Dense(15, activation='linear'))\n",
    "model.add(Dense(1, activation='sigmoid'))\n",
    "model.compile(loss=\"mse\",optimizer=\"adam\",metrics = ['accuracy'])\n",
    "history = model.fit(X_train, y_train, epochs=500, batch_size=381, verbose=0, validation_split=0.2)\n",
    "predictions = model.predict(X_test).reshape(-1).round()\n",
    "#predict_label = predictions.reshape(-1).round()#.agg(lambda x: int(x))\n",
    "\n",
    "test_loss, test_acc = model.evaluate(X_test, y_test)\n",
    "cf_matrix = confusion_matrix(y_test, predictions)\n",
    "print(cf_matrix) "
   ]
  },
  {
   "cell_type": "code",
   "execution_count": 24,
   "metadata": {
    "colab": {
     "base_uri": "https://localhost:8080/",
     "height": 283
    },
    "id": "Ph0Phh2_Dz9g",
    "outputId": "0fe85117-3785-4998-e7e4-b4384eb0f7e1"
   },
   "outputs": [
    {
     "data": {
      "text/plain": [
       "<AxesSubplot:>"
      ]
     },
     "execution_count": 24,
     "metadata": {},
     "output_type": "execute_result"
    },
    {
     "data": {
      "image/png": "[encoded data removed]",
      "text/plain": [
       "<Figure size 432x288 with 2 Axes>"
      ]
     },
     "metadata": {
      "needs_background": "light"
     },
     "output_type": "display_data"
    }
   ],
   "source": [
    "sns.heatmap(cf_matrix, annot=True)"
   ]
  },
  {
   "cell_type": "code",
   "execution_count": 25,
   "metadata": {
    "colab": {
     "base_uri": "https://localhost:8080/",
     "height": 283
    },
    "id": "BztpRfptD0fa",
    "outputId": "8a32065f-000a-4003-e983-b1c82b7fcc67"
   },
   "outputs": [
    {
     "data": {
      "text/plain": [
       "<AxesSubplot:>"
      ]
     },
     "execution_count": 25,
     "metadata": {},
     "output_type": "execute_result"
    },
    {
     "data": {
      "image/png": "[encoded data removed]",
      "text/plain": [
       "<Figure size 432x288 with 2 Axes>"
      ]
     },
     "metadata": {
      "needs_background": "light"
     },
     "output_type": "display_data"
    }
   ],
   "source": [
    "sns.heatmap(cf_matrix/np.sum(cf_matrix), annot=True, \n",
    "            fmt='.2%', cmap='Reds')"
   ]
  },
  {
   "cell_type": "code",
   "execution_count": 26,
   "metadata": {
    "colab": {
     "base_uri": "https://localhost:8080/"
    },
    "id": "9uA43xPeW2za",
    "outputId": "1efb2266-4670-4f8e-f54f-2a7c96f9fd36"
   },
   "outputs": [
    {
     "name": "stdout",
     "output_type": "stream",
     "text": [
      "50/50 [==============================] - 0s 559us/step - loss: 0.1398 - accuracy: 0.8173\n",
      "La Precision de este modelo es de: 86.47798895835876\n"
     ]
    }
   ],
   "source": [
    "scores = model.evaluate(X, y)\n",
    "#print(\"\\n%s: %.2f%%\" % (model.metrics_names[1], scores[1]*100))\n",
    "print('La Precision de este modelo es de: {}'.format(test_acc*100))"
   ]
  },
  {
   "cell_type": "code",
   "execution_count": 27,
   "metadata": {
    "colab": {
     "base_uri": "https://localhost:8080/"
    },
    "id": "lI7040YMaS-B",
    "outputId": "b1aac87f-706f-4e95-ed01-c64c031059dc"
   },
   "outputs": [
    {
     "name": "stdout",
     "output_type": "stream",
     "text": [
      "Model: \"sequential\"\n",
      "_________________________________________________________________\n",
      "Layer (type)                 Output Shape              Param #   \n",
      "=================================================================\n",
      "dense (Dense)                (None, 15)                60        \n",
      "_________________________________________________________________\n",
      "dense_1 (Dense)              (None, 10)                160       \n",
      "_________________________________________________________________\n",
      "dense_2 (Dense)              (None, 10)                110       \n",
      "_________________________________________________________________\n",
      "dense_3 (Dense)              (None, 15)                165       \n",
      "_________________________________________________________________\n",
      "dense_4 (Dense)              (None, 1)                 16        \n",
      "=================================================================\n",
      "Total params: 511\n",
      "Trainable params: 511\n",
      "Non-trainable params: 0\n",
      "_________________________________________________________________\n"
     ]
    }
   ],
   "source": [
    "model.summary()"
   ]
  },
  {
   "cell_type": "code",
   "execution_count": 28,
   "metadata": {
    "colab": {
     "base_uri": "https://localhost:8080/"
    },
    "id": "Iex4GjOwnrqE",
    "outputId": "b52c426d-694f-46ea-abfa-db519b7ee363"
   },
   "outputs": [
    {
     "data": {
      "text/plain": [
       "0.98575187"
      ]
     },
     "execution_count": 28,
     "metadata": {},
     "output_type": "execute_result"
    }
   ],
   "source": [
    "X_new = pd.DataFrame({'Primer.Par': [24], 'Segundo.Par': [36], 'AOT': [10],})\n",
    "model.predict(X_new)[0][0]"
   ]
  },
  {
   "cell_type": "code",
   "execution_count": 29,
   "metadata": {
    "colab": {
     "base_uri": "https://localhost:8080/",
     "height": 457
    },
    "id": "YuxThgZgvt8x",
    "outputId": "81b043ae-0f0a-475d-f365-9ab3902612ae"
   },
   "outputs": [
    {
     "data": {
      "text/html": [
       "<div>\n",
       "<style scoped>\n",
       "    .dataframe tbody tr th:only-of-type {\n",
       "        vertical-align: middle;\n",
       "    }\n",
       "\n",
       "    .dataframe tbody tr th {\n",
       "        vertical-align: top;\n",
       "    }\n",
       "\n",
       "    .dataframe thead th {\n",
       "        text-align: right;\n",
       "    }\n",
       "</style>\n",
       "<table border=\"1\" class=\"dataframe\">\n",
       "  <thead>\n",
       "    <tr style=\"text-align: right;\">\n",
       "      <th></th>\n",
       "      <th>Cod.Car.Sec</th>\n",
       "      <th>Anho</th>\n",
       "      <th>Semestre</th>\n",
       "      <th>Aprobado</th>\n",
       "      <th>Anho.Firma</th>\n",
       "      <th>Primer.Par</th>\n",
       "      <th>Segundo.Par</th>\n",
       "      <th>AOT</th>\n",
       "      <th>Primer.Rec</th>\n",
       "      <th>Segundo.Rec</th>\n",
       "      <th>Nota.Final</th>\n",
       "      <th>Primer.Final</th>\n",
       "      <th>Segundo.Final</th>\n",
       "      <th>Tercer.Final</th>\n",
       "      <th>Final.Val</th>\n",
       "    </tr>\n",
       "    <tr>\n",
       "      <th>id_anony</th>\n",
       "      <th></th>\n",
       "      <th></th>\n",
       "      <th></th>\n",
       "      <th></th>\n",
       "      <th></th>\n",
       "      <th></th>\n",
       "      <th></th>\n",
       "      <th></th>\n",
       "      <th></th>\n",
       "      <th></th>\n",
       "      <th></th>\n",
       "      <th></th>\n",
       "      <th></th>\n",
       "      <th></th>\n",
       "      <th></th>\n",
       "    </tr>\n",
       "  </thead>\n",
       "  <tbody>\n",
       "    <tr>\n",
       "      <th>es_1444</th>\n",
       "      <td>0</td>\n",
       "      <td>2017</td>\n",
       "      <td>1</td>\n",
       "      <td>0</td>\n",
       "      <td>0</td>\n",
       "      <td>7</td>\n",
       "      <td>0</td>\n",
       "      <td>0</td>\n",
       "      <td>0</td>\n",
       "      <td>0</td>\n",
       "      <td></td>\n",
       "      <td></td>\n",
       "      <td></td>\n",
       "      <td></td>\n",
       "      <td></td>\n",
       "    </tr>\n",
       "    <tr>\n",
       "      <th>es_4238</th>\n",
       "      <td>1</td>\n",
       "      <td>2017</td>\n",
       "      <td>1</td>\n",
       "      <td>0</td>\n",
       "      <td>0</td>\n",
       "      <td>5</td>\n",
       "      <td>0</td>\n",
       "      <td>0</td>\n",
       "      <td>0</td>\n",
       "      <td>0</td>\n",
       "      <td></td>\n",
       "      <td></td>\n",
       "      <td></td>\n",
       "      <td></td>\n",
       "      <td></td>\n",
       "    </tr>\n",
       "    <tr>\n",
       "      <th>es_4245</th>\n",
       "      <td>0</td>\n",
       "      <td>2017</td>\n",
       "      <td>1</td>\n",
       "      <td>1</td>\n",
       "      <td>2016</td>\n",
       "      <td>0</td>\n",
       "      <td>0</td>\n",
       "      <td>0</td>\n",
       "      <td>0</td>\n",
       "      <td>0</td>\n",
       "      <td>1F-1,2F-2</td>\n",
       "      <td>1</td>\n",
       "      <td>2</td>\n",
       "      <td></td>\n",
       "      <td>2</td>\n",
       "    </tr>\n",
       "    <tr>\n",
       "      <th>es_4967</th>\n",
       "      <td>2</td>\n",
       "      <td>2017</td>\n",
       "      <td>1</td>\n",
       "      <td>0</td>\n",
       "      <td>0</td>\n",
       "      <td>0</td>\n",
       "      <td>0</td>\n",
       "      <td>0</td>\n",
       "      <td>0</td>\n",
       "      <td>0</td>\n",
       "      <td></td>\n",
       "      <td></td>\n",
       "      <td></td>\n",
       "      <td></td>\n",
       "      <td></td>\n",
       "    </tr>\n",
       "    <tr>\n",
       "      <th>es_414</th>\n",
       "      <td>1</td>\n",
       "      <td>2017</td>\n",
       "      <td>1</td>\n",
       "      <td>1</td>\n",
       "      <td>2017</td>\n",
       "      <td>21</td>\n",
       "      <td>10</td>\n",
       "      <td>0</td>\n",
       "      <td>0</td>\n",
       "      <td>0</td>\n",
       "      <td>3F-C-3</td>\n",
       "      <td></td>\n",
       "      <td></td>\n",
       "      <td>3</td>\n",
       "      <td>3</td>\n",
       "    </tr>\n",
       "    <tr>\n",
       "      <th>...</th>\n",
       "      <td>...</td>\n",
       "      <td>...</td>\n",
       "      <td>...</td>\n",
       "      <td>...</td>\n",
       "      <td>...</td>\n",
       "      <td>...</td>\n",
       "      <td>...</td>\n",
       "      <td>...</td>\n",
       "      <td>...</td>\n",
       "      <td>...</td>\n",
       "      <td>...</td>\n",
       "      <td>...</td>\n",
       "      <td>...</td>\n",
       "      <td>...</td>\n",
       "      <td>...</td>\n",
       "    </tr>\n",
       "    <tr>\n",
       "      <th>es_9590</th>\n",
       "      <td>5</td>\n",
       "      <td>2019</td>\n",
       "      <td>2</td>\n",
       "      <td>0</td>\n",
       "      <td>0</td>\n",
       "      <td>5</td>\n",
       "      <td>4</td>\n",
       "      <td>2</td>\n",
       "      <td>0</td>\n",
       "      <td>0</td>\n",
       "      <td></td>\n",
       "      <td></td>\n",
       "      <td></td>\n",
       "      <td></td>\n",
       "      <td></td>\n",
       "    </tr>\n",
       "    <tr>\n",
       "      <th>es_9697</th>\n",
       "      <td>2</td>\n",
       "      <td>2019</td>\n",
       "      <td>2</td>\n",
       "      <td>0</td>\n",
       "      <td>0</td>\n",
       "      <td>5</td>\n",
       "      <td>0</td>\n",
       "      <td>5</td>\n",
       "      <td>0</td>\n",
       "      <td>0</td>\n",
       "      <td></td>\n",
       "      <td></td>\n",
       "      <td></td>\n",
       "      <td></td>\n",
       "      <td></td>\n",
       "    </tr>\n",
       "    <tr>\n",
       "      <th>es_9437</th>\n",
       "      <td>2</td>\n",
       "      <td>2019</td>\n",
       "      <td>2</td>\n",
       "      <td>0</td>\n",
       "      <td>0</td>\n",
       "      <td>0</td>\n",
       "      <td>0</td>\n",
       "      <td>0</td>\n",
       "      <td>0</td>\n",
       "      <td>0</td>\n",
       "      <td></td>\n",
       "      <td></td>\n",
       "      <td></td>\n",
       "      <td></td>\n",
       "      <td></td>\n",
       "    </tr>\n",
       "    <tr>\n",
       "      <th>es_9608</th>\n",
       "      <td>2</td>\n",
       "      <td>2019</td>\n",
       "      <td>2</td>\n",
       "      <td>1</td>\n",
       "      <td>2019</td>\n",
       "      <td>11</td>\n",
       "      <td>14</td>\n",
       "      <td>10</td>\n",
       "      <td>0</td>\n",
       "      <td>0</td>\n",
       "      <td>1F-5</td>\n",
       "      <td>5</td>\n",
       "      <td></td>\n",
       "      <td></td>\n",
       "      <td>5</td>\n",
       "    </tr>\n",
       "    <tr>\n",
       "      <th>es_9440</th>\n",
       "      <td>2</td>\n",
       "      <td>2019</td>\n",
       "      <td>2</td>\n",
       "      <td>0</td>\n",
       "      <td>0</td>\n",
       "      <td>0</td>\n",
       "      <td>0</td>\n",
       "      <td>0</td>\n",
       "      <td>0</td>\n",
       "      <td>0</td>\n",
       "      <td></td>\n",
       "      <td></td>\n",
       "      <td></td>\n",
       "      <td></td>\n",
       "      <td></td>\n",
       "    </tr>\n",
       "  </tbody>\n",
       "</table>\n",
       "<p>1587 rows × 15 columns</p>\n",
       "</div>"
      ],
      "text/plain": [
       "         Cod.Car.Sec  Anho  Semestre Aprobado  Anho.Firma  Primer.Par  \\\n",
       "id_anony                                                                \n",
       "es_1444            0  2017         1        0           0           7   \n",
       "es_4238            1  2017         1        0           0           5   \n",
       "es_4245            0  2017         1        1        2016           0   \n",
       "es_4967            2  2017         1        0           0           0   \n",
       "es_414             1  2017         1        1        2017          21   \n",
       "...              ...   ...       ...      ...         ...         ...   \n",
       "es_9590            5  2019         2        0           0           5   \n",
       "es_9697            2  2019         2        0           0           5   \n",
       "es_9437            2  2019         2        0           0           0   \n",
       "es_9608            2  2019         2        1        2019          11   \n",
       "es_9440            2  2019         2        0           0           0   \n",
       "\n",
       "          Segundo.Par  AOT  Primer.Rec  Segundo.Rec Nota.Final Primer.Final  \\\n",
       "id_anony                                                                      \n",
       "es_1444             0    0           0            0                           \n",
       "es_4238             0    0           0            0                           \n",
       "es_4245             0    0           0            0  1F-1,2F-2            1   \n",
       "es_4967             0    0           0            0                           \n",
       "es_414             10    0           0            0     3F-C-3                \n",
       "...               ...  ...         ...          ...        ...          ...   \n",
       "es_9590             4    2           0            0                           \n",
       "es_9697             0    5           0            0                           \n",
       "es_9437             0    0           0            0                           \n",
       "es_9608            14   10           0            0       1F-5            5   \n",
       "es_9440             0    0           0            0                           \n",
       "\n",
       "         Segundo.Final Tercer.Final Final.Val  \n",
       "id_anony                                       \n",
       "es_1444                                        \n",
       "es_4238                                        \n",
       "es_4245              2                      2  \n",
       "es_4967                                        \n",
       "es_414                            3         3  \n",
       "...                ...          ...       ...  \n",
       "es_9590                                        \n",
       "es_9697                                        \n",
       "es_9437                                        \n",
       "es_9608                                     5  \n",
       "es_9440                                        \n",
       "\n",
       "[1587 rows x 15 columns]"
      ]
     },
     "execution_count": 29,
     "metadata": {},
     "output_type": "execute_result"
    }
   ],
   "source": [
    "copy_df"
   ]
  },
  {
   "cell_type": "markdown",
   "metadata": {
    "id": "JiW7VUccGTzn"
   },
   "source": [
    "##**Implementacion en Red Neuronal del Segundo Modelo**"
   ]
  },
  {
   "cell_type": "code",
   "execution_count": 30,
   "metadata": {
    "colab": {
     "base_uri": "https://localhost:8080/"
    },
    "id": "4yGtbcQKGafU",
    "outputId": "cf9c9724-f1df-4958-b170-5c2d3ddcecc2"
   },
   "outputs": [
    {
     "name": "stdout",
     "output_type": "stream",
     "text": [
      "10/10 [==============================] - 0s 898us/step - loss: 0.1132 - accuracy: 0.8711\n",
      "[[126  23]\n",
      " [ 18 151]]\n"
     ]
    }
   ],
   "source": [
    "X = copy_df[['Primer.Par','Segundo.Par','AOT','Primer.Rec','Segundo.Rec']].values\n",
    "y = copy_df['Aprobado'].apply(lambda x: int(x)).values\n",
    "seed=85\n",
    "X_train, X_test, y_train, y_test = model_selection.train_test_split(X, y, test_size=0.20, random_state=seed)\n",
    "model = Sequential()\n",
    "model.add(Dense(15, activation='linear' , input_shape=(5,)))\n",
    "model.add(Dense(10, activation='linear'))\n",
    "model.add(Dense(10, activation='linear'))\n",
    "model.add(Dense(10, activation='linear'))\n",
    "model.add(Dense(15, activation='linear'))\n",
    "model.add(Dense(1, activation='sigmoid'))\n",
    "model.compile(loss=\"mse\",optimizer=\"adam\",metrics = ['accuracy'])\n",
    "history = model.fit(X_train, y_train, epochs=500, batch_size=381, verbose=0, validation_split=0.2)\n",
    "predictions = model.predict(X_test).reshape(-1).round()\n",
    "#predict_label = predictions.reshape(-1).round()#.agg(lambda x: int(x))\n",
    "\n",
    "test_loss, test_acc = model.evaluate(X_test, y_test)\n",
    "cf_matrix = confusion_matrix(y_test, predictions)\n",
    "print(cf_matrix) "
   ]
  },
  {
   "cell_type": "code",
   "execution_count": 31,
   "metadata": {
    "colab": {
     "base_uri": "https://localhost:8080/",
     "height": 283
    },
    "id": "MNcUjgH5GyMP",
    "outputId": "0ae1692c-81f7-4eb2-dbfa-5a9efb3378e4"
   },
   "outputs": [
    {
     "data": {
      "text/plain": [
       "<AxesSubplot:>"
      ]
     },
     "execution_count": 31,
     "metadata": {},
     "output_type": "execute_result"
    },
    {
     "data": {
      "image/png": "[encoded data removed]",
      "text/plain": [
       "<Figure size 432x288 with 2 Axes>"
      ]
     },
     "metadata": {
      "needs_background": "light"
     },
     "output_type": "display_data"
    }
   ],
   "source": [
    "sns.heatmap(cf_matrix, annot=True)"
   ]
  },
  {
   "cell_type": "code",
   "execution_count": 32,
   "metadata": {
    "colab": {
     "base_uri": "https://localhost:8080/",
     "height": 283
    },
    "id": "erEcWgeDG0AV",
    "outputId": "91c42076-9839-452e-c47c-d6d72f5e9783"
   },
   "outputs": [
    {
     "data": {
      "text/plain": [
       "<AxesSubplot:>"
      ]
     },
     "execution_count": 32,
     "metadata": {},
     "output_type": "execute_result"
    },
    {
     "data": {
      "image/png": "[encoded data removed]",
      "text/plain": [
       "<Figure size 432x288 with 2 Axes>"
      ]
     },
     "metadata": {
      "needs_background": "light"
     },
     "output_type": "display_data"
    }
   ],
   "source": [
    "sns.heatmap(cf_matrix/np.sum(cf_matrix), annot=True, \n",
    "            fmt='.2%', cmap='Reds')"
   ]
  },
  {
   "cell_type": "code",
   "execution_count": 33,
   "metadata": {
    "colab": {
     "base_uri": "https://localhost:8080/"
    },
    "id": "FoCLYMO3G3hr",
    "outputId": "e0bdd111-43ae-4098-9e6a-2f96323dadda"
   },
   "outputs": [
    {
     "name": "stdout",
     "output_type": "stream",
     "text": [
      " 1/50 [..............................] - ETA: 0s - loss: 0.1772 - accuracy: 0.8125WARNING:tensorflow:Callbacks method `on_test_batch_end` is slow compared to the batch time (batch time: 0.0000s vs `on_test_batch_end` time: 0.0010s). Check your callbacks.\n",
      "50/50 [==============================] - 0s 779us/step - loss: 0.1341 - accuracy: 0.8349\n",
      "La Precision de este modelo es de: 87.10691928863525\n"
     ]
    }
   ],
   "source": [
    "scores = model.evaluate(X, y)\n",
    "#print(\"\\n%s: %.2f%%\" % (model.metrics_names[1], scores[1]*100))\n",
    "print('La Precision de este modelo es de: {}'.format(test_acc*100))"
   ]
  },
  {
   "cell_type": "code",
   "execution_count": 34,
   "metadata": {
    "colab": {
     "base_uri": "https://localhost:8080/"
    },
    "id": "AgqSAcKzG_PF",
    "outputId": "15bc88b3-8039-47ce-954d-32322f432a81"
   },
   "outputs": [
    {
     "name": "stdout",
     "output_type": "stream",
     "text": [
      "Model: \"sequential_1\"\n",
      "_________________________________________________________________\n",
      "Layer (type)                 Output Shape              Param #   \n",
      "=================================================================\n",
      "dense_5 (Dense)              (None, 15)                90        \n",
      "_________________________________________________________________\n",
      "dense_6 (Dense)              (None, 10)                160       \n",
      "_________________________________________________________________\n",
      "dense_7 (Dense)              (None, 10)                110       \n",
      "_________________________________________________________________\n",
      "dense_8 (Dense)              (None, 10)                110       \n",
      "_________________________________________________________________\n",
      "dense_9 (Dense)              (None, 15)                165       \n",
      "_________________________________________________________________\n",
      "dense_10 (Dense)             (None, 1)                 16        \n",
      "=================================================================\n",
      "Total params: 651\n",
      "Trainable params: 651\n",
      "Non-trainable params: 0\n",
      "_________________________________________________________________\n"
     ]
    }
   ],
   "source": [
    "model.summary()"
   ]
  },
  {
   "cell_type": "code",
   "execution_count": 35,
   "metadata": {
    "colab": {
     "base_uri": "https://localhost:8080/"
    },
    "id": "tq4Jfi99HAAk",
    "outputId": "d975ef95-de18-4039-e6e4-8dd02b4bb269"
   },
   "outputs": [
    {
     "data": {
      "text/plain": [
       "0.974788"
      ]
     },
     "execution_count": 35,
     "metadata": {},
     "output_type": "execute_result"
    }
   ],
   "source": [
    "X_new = pd.DataFrame({'Primer.Par': [24], 'Segundo.Par': [36], 'AOT': [10], 'Primer.Recu': [0], 'Segundo.Recu': [0]})\n",
    "model.predict(X_new)[0][0]"
   ]
  },
  {
   "cell_type": "markdown",
   "metadata": {
    "id": "mhOo1bNR7riQ"
   },
   "source": [
    "# **Modelo que incluye Firmas anteriores**"
   ]
  },
  {
   "cell_type": "code",
   "execution_count": 36,
   "metadata": {
    "id": "vRVXyBYw71F8"
   },
   "outputs": [
    {
     "name": "stdout",
     "output_type": "stream",
     "text": [
      "10/10 [==============================] - 0s 798us/step - loss: 0.1021 - accuracy: 0.8491\n",
      "[[111  38]\n",
      " [ 10 159]]\n"
     ]
    }
   ],
   "source": [
    "copy_df['Firma']=copy_df['Anho.Firma'].apply(lambda x: 1 if x>0 else 0)\n",
    "X = copy_df[['Primer.Par','Segundo.Par','AOT','Firma']].values\n",
    "y = copy_df['Aprobado'].apply(lambda x: int(x)).values\n",
    "seed=85\n",
    "X_train, X_test, y_train, y_test = model_selection.train_test_split(X, y, test_size=0.20, random_state=seed)\n",
    "model = Sequential()\n",
    "model.add(Dense(15, activation='linear' , input_shape=(4,)))\n",
    "model.add(Dense(10, activation='linear'))\n",
    "model.add(Dense(10, activation='linear'))\n",
    "model.add(Dense(15, activation='linear'))\n",
    "model.add(Dense(1, activation='sigmoid'))\n",
    "model.compile(loss=\"mse\",optimizer=\"adam\",metrics = ['accuracy'])\n",
    "history = model.fit(X_train, y_train, epochs=500, batch_size=381, verbose=0, validation_split=0.2)\n",
    "predictions = model.predict(X_test).reshape(-1).round()\n",
    "#predict_label = predictions.reshape(-1).round()#.agg(lambda x: int(x))\n",
    "\n",
    "test_loss, test_acc = model.evaluate(X_test, y_test)\n",
    "cf_matrix = confusion_matrix(y_test, predictions)\n",
    "print(cf_matrix) "
   ]
  },
  {
   "cell_type": "code",
   "execution_count": 37,
   "metadata": {
    "id": "Za_M_7XBHkQy"
   },
   "outputs": [
    {
     "data": {
      "text/plain": [
       "<AxesSubplot:>"
      ]
     },
     "execution_count": 37,
     "metadata": {},
     "output_type": "execute_result"
    },
    {
     "data": {
      "image/png": "[encoded data removed]",
      "text/plain": [
       "<Figure size 432x288 with 2 Axes>"
      ]
     },
     "metadata": {
      "needs_background": "light"
     },
     "output_type": "display_data"
    }
   ],
   "source": [
    "sns.heatmap(cf_matrix, annot=True)"
   ]
  },
  {
   "cell_type": "code",
   "execution_count": 38,
   "metadata": {
    "id": "FcDWdqFT8i9I"
   },
   "outputs": [
    {
     "data": {
      "text/plain": [
       "<AxesSubplot:>"
      ]
     },
     "execution_count": 38,
     "metadata": {},
     "output_type": "execute_result"
    },
    {
     "data": {
      "image/png": "[encoded data removed]",
      "text/plain": [
       "<Figure size 432x288 with 2 Axes>"
      ]
     },
     "metadata": {
      "needs_background": "light"
     },
     "output_type": "display_data"
    }
   ],
   "source": [
    "sns.heatmap(cf_matrix/np.sum(cf_matrix), annot=True, \n",
    "            fmt='.2%', cmap='Reds')"
   ]
  },
  {
   "cell_type": "code",
   "execution_count": 39,
   "metadata": {
    "id": "YY9IxXi78oLi"
   },
   "outputs": [
    {
     "name": "stdout",
     "output_type": "stream",
     "text": [
      "50/50 [==============================] - 0s 818us/step - loss: 0.1139 - accuracy: 0.8273\n",
      "La Precision de este modelo es de: 84.9056601524353\n"
     ]
    }
   ],
   "source": [
    "scores = model.evaluate(X, y)\n",
    "#print(\"\\n%s: %.2f%%\" % (model.metrics_names[1], scores[1]*100))\n",
    "print('La Precision de este modelo es de: {}'.format(test_acc*100))"
   ]
  },
  {
   "cell_type": "code",
   "execution_count": 40,
   "metadata": {
    "id": "Px8PYlAK8sJf"
   },
   "outputs": [
    {
     "name": "stdout",
     "output_type": "stream",
     "text": [
      "Model: \"sequential_2\"\n",
      "_________________________________________________________________\n",
      "Layer (type)                 Output Shape              Param #   \n",
      "=================================================================\n",
      "dense_11 (Dense)             (None, 15)                75        \n",
      "_________________________________________________________________\n",
      "dense_12 (Dense)             (None, 10)                160       \n",
      "_________________________________________________________________\n",
      "dense_13 (Dense)             (None, 10)                110       \n",
      "_________________________________________________________________\n",
      "dense_14 (Dense)             (None, 15)                165       \n",
      "_________________________________________________________________\n",
      "dense_15 (Dense)             (None, 1)                 16        \n",
      "=================================================================\n",
      "Total params: 526\n",
      "Trainable params: 526\n",
      "Non-trainable params: 0\n",
      "_________________________________________________________________\n"
     ]
    }
   ],
   "source": [
    "model.summary()"
   ]
  },
  {
   "cell_type": "code",
   "execution_count": 41,
   "metadata": {
    "id": "4nlaZmSE8ynI"
   },
   "outputs": [
    {
     "data": {
      "text/plain": [
       "0.037289828"
      ]
     },
     "execution_count": 41,
     "metadata": {},
     "output_type": "execute_result"
    }
   ],
   "source": [
    "X_new = pd.DataFrame({'Primer.Par': [24], 'Segundo.Par': [36], 'AOT': [10], 'Firma': [0]})\n",
    "model.predict(X_new)[0][0]"
   ]
  }
 ],
 "metadata": {
  "colab": {
   "collapsed_sections": [],
   "name": "PrediccionCalculo2_JulioAvalos_GiohannaMartinez.ipynb",
   "provenance": []
  },
  "kernelspec": {
   "display_name": "Python 3",
   "language": "python",
   "name": "python3"
  },
  "language_info": {
   "codemirror_mode": {
    "name": "ipython",
    "version": 3
   },
   "file_extension": ".py",
   "mimetype": "text/x-python",
   "name": "python",
   "nbconvert_exporter": "python",
   "pygments_lexer": "ipython3",
   "version": "3.8.5"
  }
 },
 "nbformat": 4,
 "nbformat_minor": 1
}
