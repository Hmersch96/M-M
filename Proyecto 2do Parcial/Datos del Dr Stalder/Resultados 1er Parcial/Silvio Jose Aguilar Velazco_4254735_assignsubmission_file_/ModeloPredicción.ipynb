{
  "nbformat": 4,
  "nbformat_minor": 0,
  "metadata": {
    "colab": {
      "name": "ModeloPredicción.ipynb",
      "provenance": []
    },
    "kernelspec": {
      "name": "python3",
      "display_name": "Python 3"
    }
  },
  "cells": [
    {
      "cell_type": "code",
      "metadata": {
        "id": "0kDKnNuRGFJo"
      },
      "source": [
        "import pandas as pd\n",
        "import numpy as np\n",
        "import sklearn\n",
        "from sklearn import linear_model\n",
        "from sklearn.utils import shuffle\n",
        "import matplotlib.pyplot as plt\n",
        "from matplotlib import style\n",
        "import pickle"
      ],
      "execution_count": 3,
      "outputs": []
    },
    {
      "cell_type": "code",
      "metadata": {
        "id": "1hf57IBAGIww"
      },
      "source": [
        "style.use(\"ggplot\")"
      ],
      "execution_count": 4,
      "outputs": []
    },
    {
      "cell_type": "code",
      "metadata": {
        "id": "psSP1JyaGLis"
      },
      "source": [
        "# Se importa el dataset con los datos del estudiante\n",
        "data = pd.read_csv(\"student-mat.csv\", sep=\";\")"
      ],
      "execution_count": 5,
      "outputs": []
    },
    {
      "cell_type": "code",
      "metadata": {
        "id": "b0mhMZC3GO_3"
      },
      "source": [
        "# Se selecciona el valor a predecir\n",
        "predict = \"notaFinal\"\n"
      ],
      "execution_count": 6,
      "outputs": []
    },
    {
      "cell_type": "code",
      "metadata": {
        "id": "3SkWsKcaGYav"
      },
      "source": [
        "# Se enlistan las variables que queremos usar para predecir\n",
        "data = data[[\"primerParcial\", \"segundoParcial\", \"tiempoestudio\", \"notaFinal\"]]\n",
        "data = shuffle(data)"
      ],
      "execution_count": 9,
      "outputs": []
    },
    {
      "cell_type": "code",
      "metadata": {
        "id": "blMkN-xmG66Z"
      },
      "source": [
        "x = np.array(data.drop([predict], 1))\n",
        "y = np.array(data[predict])"
      ],
      "execution_count": 10,
      "outputs": []
    },
    {
      "cell_type": "code",
      "metadata": {
        "id": "WsZfUwCuG7g5"
      },
      "source": [
        "x_train, x_test, y_train, y_test = sklearn.model_selection.train_test_split(x, y, test_size = 0.1)"
      ],
      "execution_count": 11,
      "outputs": []
    },
    {
      "cell_type": "code",
      "metadata": {
        "id": "qSPy2QG0G9be",
        "colab": {
          "base_uri": "https://localhost:8080/"
        },
        "outputId": "f6a3acfd-116c-4a44-c4bf-59428c2e3b1d"
      },
      "source": [
        "# Entrenamos el modelo varias veces para encontrar la precision mas alta\n",
        "mejor = 0\n",
        "for _ in range(200):\n",
        "    x_train, x_test, y_train, y_test = sklearn.model_selection.train_test_split(x, y, test_size = 0.1)\n",
        "\n",
        "    linear = linear_model.LinearRegression()\n",
        "\n",
        "    linear.fit(x_train, y_train)\n",
        "    acc = linear.score(x_test, y_test)\n",
        "    print(\"Precisión: \" + str(acc))\n",
        "\n",
        "    # Se guarda la mayor precisión\n",
        "    if (acc > mejor):\n",
        "        mejor = acc\n",
        "        with open(\"studentgrades.pickle\", \"wb\") as f:\n",
        "            pickle.dump(linear, f)\n",
        "print(\"Precisión más alta:\", mejor)\n"
      ],
      "execution_count": 12,
      "outputs": [
        {
          "output_type": "stream",
          "text": [
            "Precisión: 0.9011410996847954\n",
            "Precisión: 0.8216411543068051\n",
            "Precisión: 0.8673205957327071\n",
            "Precisión: 0.6933287244501773\n",
            "Precisión: 0.7525535779146444\n",
            "Precisión: 0.866740222075585\n",
            "Precisión: 0.9031990993963496\n",
            "Precisión: 0.7505035786890305\n",
            "Precisión: 0.8502964937306057\n",
            "Precisión: 0.7035983501447602\n",
            "Precisión: 0.8253397585910288\n",
            "Precisión: 0.8182958346056828\n",
            "Precisión: 0.8072979947197616\n",
            "Precisión: 0.8422136336816659\n",
            "Precisión: 0.8735806145450754\n",
            "Precisión: 0.7617461222560663\n",
            "Precisión: 0.7326681207399289\n",
            "Precisión: 0.7653336262836061\n",
            "Precisión: 0.8592178502970997\n",
            "Precisión: 0.7896724320180336\n",
            "Precisión: 0.6833138241554545\n",
            "Precisión: 0.8243406594916425\n",
            "Precisión: 0.7683298013376542\n",
            "Precisión: 0.8629001602055297\n",
            "Precisión: 0.6864124728421425\n",
            "Precisión: 0.8037714644424286\n",
            "Precisión: 0.7208822853845515\n",
            "Precisión: 0.9159567487975169\n",
            "Precisión: 0.8795953140900983\n",
            "Precisión: 0.882307515284267\n",
            "Precisión: 0.7118697013069726\n",
            "Precisión: 0.8312491746432478\n",
            "Precisión: 0.7872546585884184\n",
            "Precisión: 0.7490530893313218\n",
            "Precisión: 0.810691069036134\n",
            "Precisión: 0.8258826525529271\n",
            "Precisión: 0.7861830888992779\n",
            "Precisión: 0.7714209857716549\n",
            "Precisión: 0.7973586240660973\n",
            "Precisión: 0.7665785829237355\n",
            "Precisión: 0.7315530751234721\n",
            "Precisión: 0.8565867277557271\n",
            "Precisión: 0.6279583110365056\n",
            "Precisión: 0.902073207879414\n",
            "Precisión: 0.8242393659778005\n",
            "Precisión: 0.7794178837278328\n",
            "Precisión: 0.8340047235608782\n",
            "Precisión: 0.8595602266714589\n",
            "Precisión: 0.8141268045430538\n",
            "Precisión: 0.8519602878132461\n",
            "Precisión: 0.8381695185725954\n",
            "Precisión: 0.642529418801872\n",
            "Precisión: 0.7716329431862586\n",
            "Precisión: 0.48673863128080797\n",
            "Precisión: 0.7056041236955681\n",
            "Precisión: 0.8267727351831619\n",
            "Precisión: 0.8329155184959756\n",
            "Precisión: 0.8529564969483621\n",
            "Precisión: 0.7946918545346998\n",
            "Precisión: 0.9009731370261626\n",
            "Precisión: 0.8910553020433114\n",
            "Precisión: 0.8470354601004545\n",
            "Precisión: 0.7619217528512183\n",
            "Precisión: 0.8643026492826943\n",
            "Precisión: 0.8484973127976397\n",
            "Precisión: 0.6725001260700472\n",
            "Precisión: 0.8124433870778491\n",
            "Precisión: 0.8493871557313933\n",
            "Precisión: 0.7081057545743097\n",
            "Precisión: 0.7937211939533427\n",
            "Precisión: 0.7268265383407179\n",
            "Precisión: 0.8396550565187219\n",
            "Precisión: 0.847729596776864\n",
            "Precisión: 0.708582843691403\n",
            "Precisión: 0.83046353746109\n",
            "Precisión: 0.7557022849243431\n",
            "Precisión: 0.8294741184690361\n",
            "Precisión: 0.8668725239847705\n",
            "Precisión: 0.7687003067771359\n",
            "Precisión: 0.8023579128956148\n",
            "Precisión: 0.8150442874738301\n",
            "Precisión: 0.7516120165662373\n",
            "Precisión: 0.8501502696154078\n",
            "Precisión: 0.8377675062440141\n",
            "Precisión: 0.8161319973898595\n",
            "Precisión: 0.9240086719195506\n",
            "Precisión: 0.8084027928921101\n",
            "Precisión: 0.8853106823244152\n",
            "Precisión: 0.7928167279847297\n",
            "Precisión: 0.8910817077728204\n",
            "Precisión: 0.7041354485429546\n",
            "Precisión: 0.7567755849815994\n",
            "Precisión: 0.7756807701083428\n",
            "Precisión: 0.8685749252974061\n",
            "Precisión: 0.7208827094350718\n",
            "Precisión: 0.7363821649483011\n",
            "Precisión: 0.797223273022014\n",
            "Precisión: 0.7456180255912785\n",
            "Precisión: 0.9583791984960778\n",
            "Precisión: 0.9346715518296902\n",
            "Precisión: 0.6862057037160457\n",
            "Precisión: 0.8551903377727034\n",
            "Precisión: 0.7571352772831503\n",
            "Precisión: 0.922334957541215\n",
            "Precisión: 0.8246015439492214\n",
            "Precisión: 0.7189391126588582\n",
            "Precisión: 0.8309841804457758\n",
            "Precisión: 0.8207200514566254\n",
            "Precisión: 0.7191738608886207\n",
            "Precisión: 0.8142119956687366\n",
            "Precisión: 0.8609780718479491\n",
            "Precisión: 0.831915958966725\n",
            "Precisión: 0.8326187089442808\n",
            "Precisión: 0.6348129457584125\n",
            "Precisión: 0.8094552016776881\n",
            "Precisión: 0.7994764845593668\n",
            "Precisión: 0.7323267165912921\n",
            "Precisión: 0.8582279376531579\n",
            "Precisión: 0.794926491030676\n",
            "Precisión: 0.8594609711779301\n",
            "Precisión: 0.7987219294923754\n",
            "Precisión: 0.7176258806442809\n",
            "Precisión: 0.754678790500089\n",
            "Precisión: 0.852721095311287\n",
            "Precisión: 0.755906290337761\n",
            "Precisión: 0.8142055319925516\n",
            "Precisión: 0.9130280481911904\n",
            "Precisión: 0.8195185901745551\n",
            "Precisión: 0.6724894690330437\n",
            "Precisión: 0.8499693453606675\n",
            "Precisión: 0.66018418654345\n",
            "Precisión: 0.8776938932018784\n",
            "Precisión: 0.7971873605551307\n",
            "Precisión: 0.875337255573263\n",
            "Precisión: 0.8291838282012565\n",
            "Precisión: 0.8779488440145177\n",
            "Precisión: 0.8979741918157043\n",
            "Precisión: 0.7860515278822395\n",
            "Precisión: 0.8789906860452095\n",
            "Precisión: 0.7340123419744358\n",
            "Precisión: 0.6934205287362675\n",
            "Precisión: 0.8231396128485235\n",
            "Precisión: 0.770657840461185\n",
            "Precisión: 0.7030713458736207\n",
            "Precisión: 0.7994932268590684\n",
            "Precisión: 0.7797876060582941\n",
            "Precisión: 0.8419157374305268\n",
            "Precisión: 0.9377695260603829\n",
            "Precisión: 0.8561573386497301\n",
            "Precisión: 0.759686116086225\n",
            "Precisión: 0.8003427295839745\n",
            "Precisión: 0.8266470043206917\n",
            "Precisión: 0.7086327124615784\n",
            "Precisión: 0.7307399574815133\n",
            "Precisión: 0.8159991942393962\n",
            "Precisión: 0.813952210850594\n",
            "Precisión: 0.9369116008306988\n",
            "Precisión: 0.9216290101063415\n",
            "Precisión: 0.9054613743754966\n",
            "Precisión: 0.8091750107157908\n",
            "Precisión: 0.818363323883367\n",
            "Precisión: 0.7716178750970859\n",
            "Precisión: 0.8164451991743251\n",
            "Precisión: 0.7876599630752924\n",
            "Precisión: 0.6491078311406457\n",
            "Precisión: 0.8442777633587466\n",
            "Precisión: 0.6735247306517019\n",
            "Precisión: 0.871482813660353\n",
            "Precisión: 0.9043359765072458\n",
            "Precisión: 0.8696182379787298\n",
            "Precisión: 0.8462002323288489\n",
            "Precisión: 0.7558154955036789\n",
            "Precisión: 0.9262652791058815\n",
            "Precisión: 0.7211781585489406\n",
            "Precisión: 0.8211015562198796\n",
            "Precisión: 0.8704510640121802\n",
            "Precisión: 0.7899098562844691\n",
            "Precisión: 0.8118945472033348\n",
            "Precisión: 0.7518311764253218\n",
            "Precisión: 0.6669740922301501\n",
            "Precisión: 0.8942694257631513\n",
            "Precisión: 0.830365813748537\n",
            "Precisión: 0.8859446738699811\n",
            "Precisión: 0.7381718785659204\n",
            "Precisión: 0.7934561899667156\n",
            "Precisión: 0.8458838430256601\n",
            "Precisión: 0.7340308138496261\n",
            "Precisión: 0.6936424376519482\n",
            "Precisión: 0.8307612350854781\n",
            "Precisión: 0.7387740924648054\n",
            "Precisión: 0.5798166294428126\n",
            "Precisión: 0.8211796529460024\n",
            "Precisión: 0.8749165982018559\n",
            "Precisión: 0.7502243187664879\n",
            "Precisión: 0.6720652835282542\n",
            "Precisión: 0.7670381660713972\n",
            "Precisión: 0.763893656801796\n",
            "Precisión: 0.8890671662830174\n",
            "Precisión: 0.8035643318728534\n",
            "Precisión: 0.9332686313352795\n",
            "Precisión más alta: 0.9583791984960778\n"
          ],
          "name": "stdout"
        }
      ]
    },
    {
      "cell_type": "code",
      "metadata": {
        "id": "11O9C0YyHaRs"
      },
      "source": [
        "# Se carga el modelo\n",
        "pickle_in = open(\"studentgrades.pickle\", \"rb\")\n",
        "linear = pickle.load(pickle_in)"
      ],
      "execution_count": 13,
      "outputs": []
    },
    {
      "cell_type": "code",
      "metadata": {
        "colab": {
          "base_uri": "https://localhost:8080/"
        },
        "id": "gD1lPfOMHgrd",
        "outputId": "9891e4b9-7850-40dc-bc15-d76c2a010b48"
      },
      "source": [
        "print(\"-------------------------\")\n",
        "print('Coeficiente: \\n', linear.coef_)\n",
        "print('Intercepción: \\n', linear.intercept_)\n",
        "print(\"-------------------------\")\n",
        "\n",
        "predicciones = linear.predict(x_test)"
      ],
      "execution_count": 14,
      "outputs": [
        {
          "output_type": "stream",
          "text": [
            "-------------------------\n",
            "Coeficiente: \n",
            " [ 0.16467442  0.99107803 -0.1624685 ]\n",
            "Intercepción: \n",
            " -1.6826992523908633\n",
            "-------------------------\n"
          ],
          "name": "stdout"
        }
      ]
    },
    {
      "cell_type": "code",
      "metadata": {
        "colab": {
          "base_uri": "https://localhost:8080/",
          "height": 979
        },
        "id": "6d1bLOIuHp0c",
        "outputId": "8d9490e8-f231-4bbe-ea31-21d74aa9a224"
      },
      "source": [
        "# Imprime las predicciones, las variables usadas y la nota final\n",
        "for x in range(len(predicciones)):\n",
        "    print(\"Nota Final Predecida:\", predicciones[x], \"Data:\", x_test[x], \"Nota Final:\", y_test[x])\n",
        "\n",
        "# Creamos una visualizacion con un parametro elegido\n",
        "plot = \"tiempoestudio\"\n",
        "plt.scatter(data[plot], data[\"notaFinal\"])\n",
        "plt.legend(loc=4)\n",
        "plt.xlabel(plot)\n",
        "plt.ylabel(\"Nota Final\")\n",
        "plt.show()"
      ],
      "execution_count": 16,
      "outputs": [
        {
          "output_type": "stream",
          "text": [
            "No handles with labels found to put in legend.\n"
          ],
          "name": "stderr"
        },
        {
          "output_type": "stream",
          "text": [
            "Nota Final Predecida: 17.4754808936883 Data: [16 17  2] Nota Final: 17\n",
            "Nota Final Predecida: 8.22946133121011 Data: [8 9 2] Nota Final: 10\n",
            "Nota Final Predecida: 14.9970956744629 Data: [12 15  1] Nota Final: 15\n",
            "Nota Final Predecida: 8.396341659815965 Data: [10  9  3] Nota Final: 9\n",
            "Nota Final Predecida: 15.328650419348493 Data: [15 15  2] Nota Final: 15\n",
            "Nota Final Predecida: 9.224951184892374 Data: [10 10  4] Nota Final: 11\n",
            "Nota Final Predecida: 14.006017645432866 Data: [12 14  1] Nota Final: 15\n",
            "Nota Final Predecida: 4.098268886484119 Data: [6 5 1] Nota Final: 6\n",
            "Nota Final Predecida: 7.0715029735742245 Data: [6 8 1] Nota Final: 8\n",
            "Nota Final Predecida: 7.073708885900338 Data: [7 8 2] Nota Final: 8\n",
            "Nota Final Predecida: 4.098268886484119 Data: [6 5 1] Nota Final: 5\n",
            "Nota Final Predecida: 15.328650419348493 Data: [15 15  2] Nota Final: 16\n",
            "Nota Final Predecida: 8.06258100260426 Data: [6 9 1] Nota Final: 8\n",
            "Nota Final Predecida: 18.79811366760393 Data: [19 18  3] Nota Final: 19\n",
            "Nota Final Predecida: 3.935800382530494 Data: [6 5 2] Nota Final: 6\n",
            "Nota Final Predecida: 3.9380062948566072 Data: [7 5 3] Nota Final: 0\n",
            "Nota Final Predecida: 15.493324835628231 Data: [16 15  2] Nota Final: 15\n",
            "Nota Final Predecida: 12.353210419932273 Data: [14 12  1] Nota Final: 12\n",
            "Nota Final Predecida: 15.328650419348493 Data: [15 15  2] Nota Final: 15\n",
            "Nota Final Predecida: 7.73020063869318 Data: [10  8  1] Nota Final: 7\n",
            "Nota Final Predecida: 11.859187171093057 Data: [11 12  1] Nota Final: 11\n",
            "Nota Final Predecida: 9.552094105125738 Data: [11 10  3] Nota Final: 10\n",
            "Nota Final Predecida: 18.63123333899808 Data: [17 18  2] Nota Final: 18\n",
            "Nota Final Predecida: 4.926878411560528 Data: [6 6 2] Nota Final: 6\n",
            "Nota Final Predecida: 8.396341659815965 Data: [10  9  3] Nota Final: 9\n",
            "Nota Final Predecida: 18.470970747370565 Data: [18 18  4] Nota Final: 18\n",
            "Nota Final Predecida: 7.567732134739554 Data: [10  8  2] Nota Final: 9\n",
            "Nota Final Predecida: 12.692208520821694 Data: [13 13  4] Nota Final: 12\n",
            "Nota Final Predecida: 16.484402864658264 Data: [16 16  2] Nota Final: 16\n",
            "Nota Final Predecida: 12.02606749969891 Data: [13 12  2] Nota Final: 12\n",
            "Nota Final Predecida: 14.337572390318458 Data: [15 14  2] Nota Final: 14\n",
            "Nota Final Predecida: 17.315218302060792 Data: [17 17  4] Nota Final: 18\n",
            "Nota Final Predecida: 3.773331878576869 Data: [6 5 3] Nota Final: 0\n",
            "Nota Final Predecida: 10.380703630202147 Data: [11 11  4] Nota Final: 11\n",
            "Nota Final Predecida: 7.567732134739554 Data: [10  8  2] Nota Final: 8\n",
            "Nota Final Predecida: 9.714562609079362 Data: [11 10  2] Nota Final: 10\n",
            "Nota Final Predecida: 9.383007864193772 Data: [ 8 10  1] Nota Final: 10\n",
            "Nota Final Predecida: -1.0195897626196808 Data: [6 0 2] Nota Final: 0\n",
            "Nota Final Predecida: 8.391929835163737 Data: [8 9 1] Nota Final: 10\n",
            "Nota Final Predecida: 11.032783558342762 Data: [12 11  1] Nota Final: 12\n"
          ],
          "name": "stdout"
        },
        {
          "output_type": "display_data",
          "data": {
            "image/png": "[encoded data removed]",
            "text/plain": [
              "<Figure size 432x288 with 1 Axes>"
            ]
          },
          "metadata": {
            "tags": []
          }
        }
      ]
    }
  ]
}