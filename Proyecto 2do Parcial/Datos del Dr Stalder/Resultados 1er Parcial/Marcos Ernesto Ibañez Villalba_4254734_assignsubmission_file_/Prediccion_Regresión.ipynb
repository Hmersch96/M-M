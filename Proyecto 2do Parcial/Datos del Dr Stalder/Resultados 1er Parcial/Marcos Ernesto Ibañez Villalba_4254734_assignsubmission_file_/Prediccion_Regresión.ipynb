{
 "cells": [
  {
   "cell_type": "markdown",
   "metadata": {
    "id": "JQIsVMW1K53L"
   },
   "source": [
    "# Predicción sobre AL2-FIUNA mediante regresion logistica\n",
    "\n",
    "\n",
    "\n",
    "---\n",
    "\n",
    "\n",
    "Estudiantes:\n",
    "\n",
    "*   Marcos Ibañez\n",
    "*   Hugo Melgarejo"
   ]
  },
  {
   "cell_type": "markdown",
   "metadata": {
    "id": "vscNZuyCLDFu"
   },
   "source": [
    "**Librerías a utilizar**"
   ]
  },
  {
   "cell_type": "code",
   "execution_count": 1,
   "metadata": {
    "id": "7WeJI28e0uTt"
   },
   "outputs": [],
   "source": [
    "#Importamos las librerias de pandas,numpy,matplotlib y sklearn\n",
    "import pandas as pd\n",
    "import numpy as np\n",
    "import matplotlib.pyplot as plt\n",
    "#Sklearn\n",
    "from sklearn.linear_model import LogisticRegression\n",
    "from sklearn.model_selection import train_test_split\n",
    "from sklearn.metrics import accuracy_score\n",
    "import statsmodels.api as sm\n",
    "import statsmodels.formula.api as smf\n",
    "from statsmodels.stats.weightstats import ttest_ind\n",
    "import seaborn as sns\n",
    "from math import ceil\n",
    "from collections import Counter\n",
    "from imblearn.under_sampling import NearMiss \n"
   ]
  },
  {
   "cell_type": "markdown",
   "metadata": {
    "id": "ryjiJwv3Kdkd"
   },
   "source": []
  },
  {
   "cell_type": "markdown",
   "metadata": {
    "id": "BnxTdfv6LNBn"
   },
   "source": [
    "# Base de datos, desde GitHub"
   ]
  },
  {
   "cell_type": "code",
   "execution_count": 2,
   "metadata": {
    "colab": {
     "base_uri": "https://localhost:8080/",
     "height": 204
    },
    "id": "jL2PXcZ61fc5",
    "outputId": "48cb0aa8-92ad-43af-b972-e361fb76c9b6"
   },
   "outputs": [
    {
     "data": {
      "text/html": [
       "<div>\n",
       "<style scoped>\n",
       "    .dataframe tbody tr th:only-of-type {\n",
       "        vertical-align: middle;\n",
       "    }\n",
       "\n",
       "    .dataframe tbody tr th {\n",
       "        vertical-align: top;\n",
       "    }\n",
       "\n",
       "    .dataframe thead th {\n",
       "        text-align: right;\n",
       "    }\n",
       "</style>\n",
       "<table border=\"1\" class=\"dataframe\">\n",
       "  <thead>\n",
       "    <tr style=\"text-align: right;\">\n",
       "      <th></th>\n",
       "      <th>ix</th>\n",
       "      <th>Id</th>\n",
       "      <th>danho</th>\n",
       "      <th>ciclo</th>\n",
       "      <th>Cod.Asign</th>\n",
       "      <th>Asignatura</th>\n",
       "      <th>Cod.Car.Sec</th>\n",
       "      <th>Cod.Curso</th>\n",
       "      <th>Convocatoria</th>\n",
       "      <th>Anho</th>\n",
       "      <th>Semestre</th>\n",
       "      <th>Aprobado</th>\n",
       "      <th>Anho.Firma</th>\n",
       "      <th>Primer.Par</th>\n",
       "      <th>Segundo.Par</th>\n",
       "      <th>AOT</th>\n",
       "      <th>Primer.Rec</th>\n",
       "      <th>Segundo.Rec</th>\n",
       "      <th>Nota.Final</th>\n",
       "      <th>id_anony</th>\n",
       "    </tr>\n",
       "  </thead>\n",
       "  <tbody>\n",
       "    <tr>\n",
       "      <th>0</th>\n",
       "      <td>135020</td>\n",
       "      <td>503</td>\n",
       "      <td>2017</td>\n",
       "      <td>1</td>\n",
       "      <td>13008</td>\n",
       "      <td>CALCULO 2</td>\n",
       "      <td>ELE-PLS13</td>\n",
       "      <td>2</td>\n",
       "      <td>1</td>\n",
       "      <td>2017</td>\n",
       "      <td>1</td>\n",
       "      <td>N</td>\n",
       "      <td>0</td>\n",
       "      <td>7</td>\n",
       "      <td>0</td>\n",
       "      <td>0</td>\n",
       "      <td>0</td>\n",
       "      <td>0</td>\n",
       "      <td>NaN</td>\n",
       "      <td>es_1444</td>\n",
       "    </tr>\n",
       "    <tr>\n",
       "      <th>1</th>\n",
       "      <td>135021</td>\n",
       "      <td>504</td>\n",
       "      <td>2017</td>\n",
       "      <td>1</td>\n",
       "      <td>13008</td>\n",
       "      <td>CALCULO 2</td>\n",
       "      <td>CGF-PLS13</td>\n",
       "      <td>2</td>\n",
       "      <td>1</td>\n",
       "      <td>2017</td>\n",
       "      <td>1</td>\n",
       "      <td>N</td>\n",
       "      <td>0</td>\n",
       "      <td>5</td>\n",
       "      <td>0</td>\n",
       "      <td>0</td>\n",
       "      <td>0</td>\n",
       "      <td>0</td>\n",
       "      <td>NaN</td>\n",
       "      <td>es_4238</td>\n",
       "    </tr>\n",
       "    <tr>\n",
       "      <th>2</th>\n",
       "      <td>135022</td>\n",
       "      <td>505</td>\n",
       "      <td>2017</td>\n",
       "      <td>1</td>\n",
       "      <td>13008</td>\n",
       "      <td>CALCULO 2</td>\n",
       "      <td>ELE-PLS13</td>\n",
       "      <td>2</td>\n",
       "      <td>1</td>\n",
       "      <td>2017</td>\n",
       "      <td>1</td>\n",
       "      <td>S</td>\n",
       "      <td>2016</td>\n",
       "      <td>0</td>\n",
       "      <td>0</td>\n",
       "      <td>0</td>\n",
       "      <td>0</td>\n",
       "      <td>0</td>\n",
       "      <td>1F-1,2F-2</td>\n",
       "      <td>es_4245</td>\n",
       "    </tr>\n",
       "    <tr>\n",
       "      <th>3</th>\n",
       "      <td>135023</td>\n",
       "      <td>506</td>\n",
       "      <td>2017</td>\n",
       "      <td>1</td>\n",
       "      <td>13008</td>\n",
       "      <td>CALCULO 2</td>\n",
       "      <td>CIV-PLS13</td>\n",
       "      <td>2</td>\n",
       "      <td>1</td>\n",
       "      <td>2017</td>\n",
       "      <td>1</td>\n",
       "      <td>N</td>\n",
       "      <td>0</td>\n",
       "      <td>0</td>\n",
       "      <td>0</td>\n",
       "      <td>0</td>\n",
       "      <td>0</td>\n",
       "      <td>0</td>\n",
       "      <td>NaN</td>\n",
       "      <td>es_4967</td>\n",
       "    </tr>\n",
       "    <tr>\n",
       "      <th>4</th>\n",
       "      <td>135024</td>\n",
       "      <td>507</td>\n",
       "      <td>2017</td>\n",
       "      <td>1</td>\n",
       "      <td>13008</td>\n",
       "      <td>CALCULO 2</td>\n",
       "      <td>CGF-PLS13</td>\n",
       "      <td>2</td>\n",
       "      <td>1</td>\n",
       "      <td>2017</td>\n",
       "      <td>1</td>\n",
       "      <td>S</td>\n",
       "      <td>2017</td>\n",
       "      <td>21</td>\n",
       "      <td>10</td>\n",
       "      <td>0</td>\n",
       "      <td>0</td>\n",
       "      <td>0</td>\n",
       "      <td>3F-C-3</td>\n",
       "      <td>es_414</td>\n",
       "    </tr>\n",
       "  </tbody>\n",
       "</table>\n",
       "</div>"
      ],
      "text/plain": [
       "       ix   Id  danho  ciclo  Cod.Asign Asignatura Cod.Car.Sec  Cod.Curso  \\\n",
       "0  135020  503   2017      1      13008  CALCULO 2  ELE-PLS13           2   \n",
       "1  135021  504   2017      1      13008  CALCULO 2  CGF-PLS13           2   \n",
       "2  135022  505   2017      1      13008  CALCULO 2  ELE-PLS13           2   \n",
       "3  135023  506   2017      1      13008  CALCULO 2  CIV-PLS13           2   \n",
       "4  135024  507   2017      1      13008  CALCULO 2  CGF-PLS13           2   \n",
       "\n",
       "   Convocatoria  Anho  Semestre Aprobado  Anho.Firma  Primer.Par  Segundo.Par  \\\n",
       "0             1  2017         1        N           0           7            0   \n",
       "1             1  2017         1        N           0           5            0   \n",
       "2             1  2017         1        S        2016           0            0   \n",
       "3             1  2017         1        N           0           0            0   \n",
       "4             1  2017         1        S        2017          21           10   \n",
       "\n",
       "   AOT  Primer.Rec  Segundo.Rec Nota.Final id_anony  \n",
       "0    0           0            0        NaN  es_1444  \n",
       "1    0           0            0        NaN  es_4238  \n",
       "2    0           0            0  1F-1,2F-2  es_4245  \n",
       "3    0           0            0        NaN  es_4967  \n",
       "4    0           0            0     3F-C-3   es_414  "
      ]
     },
     "execution_count": 2,
     "metadata": {},
     "output_type": "execute_result"
    }
   ],
   "source": [
    "#Importamos nuestra base de datos\n",
    "url = 'https://raw.githubusercontent.com/diegostaPy/cursoIA/main/datosRendimiento/datosfiltrados.csv'\n",
    "df = pd.read_csv(url)\n",
    "df.head()\n"
   ]
  },
  {
   "cell_type": "markdown",
   "metadata": {
    "id": "5CfQ18-lLuZy"
   },
   "source": [
    "# Pre-procesamiento\n",
    "Creamos una copia, luego extraemos las columnas que consideramos son útiles a para nuestra predicción de la materia que corresponde."
   ]
  },
  {
   "cell_type": "code",
   "execution_count": 3,
   "metadata": {
    "colab": {
     "base_uri": "https://localhost:8080/",
     "height": 419
    },
    "id": "IzGFRiE_1tpL",
    "outputId": "cdd74ac6-ee64-49e0-a907-e4ad58d7a0e1"
   },
   "outputs": [
    {
     "data": {
      "text/html": [
       "<div>\n",
       "<style scoped>\n",
       "    .dataframe tbody tr th:only-of-type {\n",
       "        vertical-align: middle;\n",
       "    }\n",
       "\n",
       "    .dataframe tbody tr th {\n",
       "        vertical-align: top;\n",
       "    }\n",
       "\n",
       "    .dataframe thead th {\n",
       "        text-align: right;\n",
       "    }\n",
       "</style>\n",
       "<table border=\"1\" class=\"dataframe\">\n",
       "  <thead>\n",
       "    <tr style=\"text-align: right;\">\n",
       "      <th></th>\n",
       "      <th>Aprobado</th>\n",
       "      <th>Primer.Par</th>\n",
       "      <th>Segundo.Par</th>\n",
       "    </tr>\n",
       "  </thead>\n",
       "  <tbody>\n",
       "    <tr>\n",
       "      <th>451</th>\n",
       "      <td>N</td>\n",
       "      <td>0</td>\n",
       "      <td>0</td>\n",
       "    </tr>\n",
       "    <tr>\n",
       "      <th>452</th>\n",
       "      <td>N</td>\n",
       "      <td>4</td>\n",
       "      <td>19</td>\n",
       "    </tr>\n",
       "    <tr>\n",
       "      <th>453</th>\n",
       "      <td>N</td>\n",
       "      <td>3</td>\n",
       "      <td>0</td>\n",
       "    </tr>\n",
       "    <tr>\n",
       "      <th>454</th>\n",
       "      <td>N</td>\n",
       "      <td>3</td>\n",
       "      <td>1</td>\n",
       "    </tr>\n",
       "    <tr>\n",
       "      <th>455</th>\n",
       "      <td>N</td>\n",
       "      <td>4</td>\n",
       "      <td>19</td>\n",
       "    </tr>\n",
       "    <tr>\n",
       "      <th>...</th>\n",
       "      <td>...</td>\n",
       "      <td>...</td>\n",
       "      <td>...</td>\n",
       "    </tr>\n",
       "    <tr>\n",
       "      <th>15862</th>\n",
       "      <td>N</td>\n",
       "      <td>4</td>\n",
       "      <td>0</td>\n",
       "    </tr>\n",
       "    <tr>\n",
       "      <th>15863</th>\n",
       "      <td>S</td>\n",
       "      <td>18</td>\n",
       "      <td>29</td>\n",
       "    </tr>\n",
       "    <tr>\n",
       "      <th>15864</th>\n",
       "      <td>N</td>\n",
       "      <td>7</td>\n",
       "      <td>0</td>\n",
       "    </tr>\n",
       "    <tr>\n",
       "      <th>15865</th>\n",
       "      <td>N</td>\n",
       "      <td>7</td>\n",
       "      <td>18</td>\n",
       "    </tr>\n",
       "    <tr>\n",
       "      <th>15866</th>\n",
       "      <td>N</td>\n",
       "      <td>6</td>\n",
       "      <td>0</td>\n",
       "    </tr>\n",
       "  </tbody>\n",
       "</table>\n",
       "<p>2584 rows × 3 columns</p>\n",
       "</div>"
      ],
      "text/plain": [
       "      Aprobado  Primer.Par  Segundo.Par\n",
       "451          N           0            0\n",
       "452          N           4           19\n",
       "453          N           3            0\n",
       "454          N           3            1\n",
       "455          N           4           19\n",
       "...        ...         ...          ...\n",
       "15862        N           4            0\n",
       "15863        S          18           29\n",
       "15864        N           7            0\n",
       "15865        N           7           18\n",
       "15866        N           6            0\n",
       "\n",
       "[2584 rows x 3 columns]"
      ]
     },
     "execution_count": 3,
     "metadata": {},
     "output_type": "execute_result"
    }
   ],
   "source": [
    "#Creamos una copia del dataframe\n",
    "dfcopia = df.copy()\n",
    "\n",
    "dfcopia= dfcopia[dfcopia['Asignatura']=='ALGEBRA LINEAL 2']\n",
    "\n",
    "#dfcopia=dfcopia.set_index('id_anony')\n",
    "#cols= ['Convocatoria','Anho','Aprobado','Anho.Firma','Primer.Par','Segundo.Par','AOT']\n",
    "cols= ['Aprobado','Primer.Par','Segundo.Par']\n",
    "dfcopia=dfcopia[cols]\n",
    "#dfcopia['Semestre']=df['Semestre']\n",
    "dfcopia\n",
    "\n"
   ]
  },
  {
   "cell_type": "markdown",
   "metadata": {
    "id": "AEOb4iBIMQPw"
   },
   "source": [
    "Reemplazamos en la columna 'Aprobado' los S y N por 1 y 0 respectivamente."
   ]
  },
  {
   "cell_type": "code",
   "execution_count": 4,
   "metadata": {
    "colab": {
     "base_uri": "https://localhost:8080/",
     "height": 419
    },
    "id": "RYZQWRS340eg",
    "outputId": "19d4e2a6-8579-45f9-bf28-c03d147f99aa"
   },
   "outputs": [
    {
     "data": {
      "text/html": [
       "<div>\n",
       "<style scoped>\n",
       "    .dataframe tbody tr th:only-of-type {\n",
       "        vertical-align: middle;\n",
       "    }\n",
       "\n",
       "    .dataframe tbody tr th {\n",
       "        vertical-align: top;\n",
       "    }\n",
       "\n",
       "    .dataframe thead th {\n",
       "        text-align: right;\n",
       "    }\n",
       "</style>\n",
       "<table border=\"1\" class=\"dataframe\">\n",
       "  <thead>\n",
       "    <tr style=\"text-align: right;\">\n",
       "      <th></th>\n",
       "      <th>Aprobado</th>\n",
       "      <th>Primer.Par</th>\n",
       "      <th>Segundo.Par</th>\n",
       "    </tr>\n",
       "  </thead>\n",
       "  <tbody>\n",
       "    <tr>\n",
       "      <th>451</th>\n",
       "      <td>0</td>\n",
       "      <td>0</td>\n",
       "      <td>0</td>\n",
       "    </tr>\n",
       "    <tr>\n",
       "      <th>452</th>\n",
       "      <td>0</td>\n",
       "      <td>4</td>\n",
       "      <td>19</td>\n",
       "    </tr>\n",
       "    <tr>\n",
       "      <th>453</th>\n",
       "      <td>0</td>\n",
       "      <td>3</td>\n",
       "      <td>0</td>\n",
       "    </tr>\n",
       "    <tr>\n",
       "      <th>454</th>\n",
       "      <td>0</td>\n",
       "      <td>3</td>\n",
       "      <td>1</td>\n",
       "    </tr>\n",
       "    <tr>\n",
       "      <th>455</th>\n",
       "      <td>0</td>\n",
       "      <td>4</td>\n",
       "      <td>19</td>\n",
       "    </tr>\n",
       "    <tr>\n",
       "      <th>...</th>\n",
       "      <td>...</td>\n",
       "      <td>...</td>\n",
       "      <td>...</td>\n",
       "    </tr>\n",
       "    <tr>\n",
       "      <th>15862</th>\n",
       "      <td>0</td>\n",
       "      <td>4</td>\n",
       "      <td>0</td>\n",
       "    </tr>\n",
       "    <tr>\n",
       "      <th>15863</th>\n",
       "      <td>1</td>\n",
       "      <td>18</td>\n",
       "      <td>29</td>\n",
       "    </tr>\n",
       "    <tr>\n",
       "      <th>15864</th>\n",
       "      <td>0</td>\n",
       "      <td>7</td>\n",
       "      <td>0</td>\n",
       "    </tr>\n",
       "    <tr>\n",
       "      <th>15865</th>\n",
       "      <td>0</td>\n",
       "      <td>7</td>\n",
       "      <td>18</td>\n",
       "    </tr>\n",
       "    <tr>\n",
       "      <th>15866</th>\n",
       "      <td>0</td>\n",
       "      <td>6</td>\n",
       "      <td>0</td>\n",
       "    </tr>\n",
       "  </tbody>\n",
       "</table>\n",
       "<p>2584 rows × 3 columns</p>\n",
       "</div>"
      ],
      "text/plain": [
       "      Aprobado  Primer.Par  Segundo.Par\n",
       "451          0           0            0\n",
       "452          0           4           19\n",
       "453          0           3            0\n",
       "454          0           3            1\n",
       "455          0           4           19\n",
       "...        ...         ...          ...\n",
       "15862        0           4            0\n",
       "15863        1          18           29\n",
       "15864        0           7            0\n",
       "15865        0           7           18\n",
       "15866        0           6            0\n",
       "\n",
       "[2584 rows x 3 columns]"
      ]
     },
     "execution_count": 4,
     "metadata": {},
     "output_type": "execute_result"
    }
   ],
   "source": [
    "dfcopia['Aprobado']=dfcopia['Aprobado'].replace(['S', 'N'],['1','0'])\n",
    "dfcopia"
   ]
  },
  {
   "cell_type": "markdown",
   "metadata": {
    "id": "SiZxGAJXMh9R"
   },
   "source": [
    "# Definición de entradas y salidas\n",
    "Examinando el dataset, encontramos que el taller no se carga los primeros años, por lo que para un primer approach consideramos las notas del primer parcial y segundo parcial como entradas."
   ]
  },
  {
   "cell_type": "markdown",
   "metadata": {
    "id": "_QdReEiwmGph"
   },
   "source": [
    "# Graficamos los datos"
   ]
  },
  {
   "cell_type": "code",
   "execution_count": 5,
   "metadata": {
    "id": "ax9bObkEHYlb"
   },
   "outputs": [],
   "source": [
    "X = dfcopia[['Primer.Par','Segundo.Par']]\n",
    "Y = dfcopia[['Aprobado']]\n",
    "X2 = dfcopia[['Primer.Par','Segundo.Par']].values\n",
    "Y2 = dfcopia[['Aprobado']].values\n",
    "\n"
   ]
  },
  {
   "cell_type": "code",
   "execution_count": 6,
   "metadata": {
    "colab": {
     "base_uri": "https://localhost:8080/",
     "height": 282
    },
    "id": "wIWrES8mmLAd",
    "outputId": "bdb3f435-d014-465a-c906-1b23bac19231"
   },
   "outputs": [
    {
     "data": {
      "text/plain": [
       "<function matplotlib.pyplot.show(close=None, block=None)>"
      ]
     },
     "execution_count": 6,
     "metadata": {},
     "output_type": "execute_result"
    },
    {
     "data": {
      "image/png": "[encoded data removed]",
      "text/plain": [
       "<Figure size 432x288 with 1 Axes>"
      ]
     },
     "metadata": {
      "needs_background": "light"
     },
     "output_type": "display_data"
    }
   ],
   "source": [
    "plt.scatter(X2[:,0],X2[:,1],s=40,c=Y2,cmap=plt.cm.Spectral)\n",
    "plt.show"
   ]
  },
  {
   "cell_type": "markdown",
   "metadata": {
    "id": "yJheFaIunmz1"
   },
   "source": [
    "Verificamos si esta o no desbalanceado\n"
   ]
  },
  {
   "cell_type": "code",
   "execution_count": 7,
   "metadata": {
    "colab": {
     "base_uri": "https://localhost:8080/"
    },
    "id": "_qn_IVL_nre0",
    "outputId": "30006d98-4181-40c6-fef4-5f52494e61ce"
   },
   "outputs": [
    {
     "data": {
      "text/plain": [
       "0    1680\n",
       "1     904\n",
       "Name: Aprobado, dtype: int64"
      ]
     },
     "execution_count": 7,
     "metadata": {},
     "output_type": "execute_result"
    }
   ],
   "source": [
    "Y.Aprobado.value_counts().sort_index()"
   ]
  },
  {
   "cell_type": "markdown",
   "metadata": {
    "id": "tOo9Q9Y_i5nQ"
   },
   "source": [
    "Aqui notamos que está notablemente desbalanceado"
   ]
  },
  {
   "cell_type": "markdown",
   "metadata": {
    "id": "4F-RO7ddNMI0"
   },
   "source": [
    "#Separación de datos en partes de entrenamiento y de test\n",
    "\n",
    "Se escoge un tamaño de test del 20%"
   ]
  },
  {
   "cell_type": "code",
   "execution_count": 8,
   "metadata": {
    "colab": {
     "base_uri": "https://localhost:8080/"
    },
    "id": "xxTI0e5UP76Q",
    "outputId": "b836d2c8-68db-40cd-9468-dba1bf9759c5"
   },
   "outputs": [
    {
     "data": {
      "text/plain": [
       "0    1366\n",
       "1     701\n",
       "Name: Aprobado, dtype: int64"
      ]
     },
     "execution_count": 8,
     "metadata": {},
     "output_type": "execute_result"
    }
   ],
   "source": [
    "X_train, X_test, Y_train, Y_test = train_test_split(X,Y,test_size=0.2,random_state = 1234,shuffle = True)\n",
    "Y_train.Aprobado.value_counts().sort_index()\n"
   ]
  },
  {
   "cell_type": "markdown",
   "metadata": {
    "id": "Si-jua9sjOSe"
   },
   "source": [
    "Para balancear la muestra de entrenamiento será necesario recurrir a metodos de balanceo, como podría ser los disponibles en la librería NearMiss."
   ]
  },
  {
   "cell_type": "code",
   "execution_count": 9,
   "metadata": {
    "colab": {
     "base_uri": "https://localhost:8080/"
    },
    "id": "DO6UgFoAjbPc",
    "outputId": "db6b7b29-cc5e-4871-9cec-1b1e09df9c86"
   },
   "outputs": [
    {
     "name": "stdout",
     "output_type": "stream",
     "text": [
      "Distribucion antes del resampling Counter({'0': 1366, '1': 701})\n",
      "Distribucion despues del resampling Counter({'Aprobado': 1})\n"
     ]
    }
   ],
   "source": [
    "from collections import Counter\n",
    "us = NearMiss(n_neighbors=3, version=2)\n",
    "X_train_res, Y_train_res = us.fit_resample(X_train, Y_train)\n",
    "\n",
    "print (\"Distribucion antes del resampling {}\".format(Counter(Y_train['Aprobado'])))\n",
    "print (\"Distribucion despues del resampling {}\".format(Counter(Y_train_res)))\n"
   ]
  },
  {
   "cell_type": "markdown",
   "metadata": {
    "id": "UvLlsiFxP6pl"
   },
   "source": [
    "Se implementa el modelo de Regresión Logística, se lo entrena y se lo testea."
   ]
  },
  {
   "cell_type": "code",
   "execution_count": 10,
   "metadata": {
    "id": "03ARIvs9TvOb"
   },
   "outputs": [
    {
     "name": "stderr",
     "output_type": "stream",
     "text": [
      "D:\\Anaconda\\envs\\Inteligencia_Artificial\\lib\\site-packages\\sklearn\\utils\\validation.py:63: DataConversionWarning: A column-vector y was passed when a 1d array was expected. Please change the shape of y to (n_samples, ), for example using ravel().\n",
      "  return f(*args, **kwargs)\n"
     ]
    }
   ],
   "source": [
    "algoritmo = LogisticRegression()\n",
    "#Entrenamos el modelo\n",
    "algoritmo.fit(X_train_res,Y_train_res)\n",
    "#Realizamos la prediccion\n",
    "Y_pred = algoritmo.predict(X_test)"
   ]
  },
  {
   "cell_type": "markdown",
   "metadata": {
    "id": "ImTXhTSDQZh9"
   },
   "source": [
    "#Métricas\n",
    "**Matriz de confusión**"
   ]
  },
  {
   "cell_type": "code",
   "execution_count": 11,
   "metadata": {
    "colab": {
     "base_uri": "https://localhost:8080/"
    },
    "id": "yTRKIW9fVMRZ",
    "outputId": "64255958-c0d3-4068-d87f-f6caea16c0dd"
   },
   "outputs": [
    {
     "name": "stdout",
     "output_type": "stream",
     "text": [
      "[[279  35]\n",
      " [ 41 162]]\n"
     ]
    }
   ],
   "source": [
    "from sklearn.metrics import confusion_matrix\n",
    "matriz = confusion_matrix(Y_test,Y_pred)\n",
    "print(matriz)\n"
   ]
  },
  {
   "cell_type": "code",
   "execution_count": 12,
   "metadata": {
    "colab": {
     "base_uri": "https://localhost:8080/",
     "height": 282
    },
    "id": "RWr41pHun6fq",
    "outputId": "4a859bdc-068d-4486-ad36-e384bed27116"
   },
   "outputs": [
    {
     "data": {
      "text/plain": [
       "<AxesSubplot:>"
      ]
     },
     "execution_count": 12,
     "metadata": {},
     "output_type": "execute_result"
    },
    {
     "data": {
      "image/png": "[encoded data removed]",
      "text/plain": [
       "<Figure size 432x288 with 2 Axes>"
      ]
     },
     "metadata": {
      "needs_background": "light"
     },
     "output_type": "display_data"
    }
   ],
   "source": [
    "import seaborn as sns\n",
    "sns.heatmap(matriz, annot=True)"
   ]
  },
  {
   "cell_type": "markdown",
   "metadata": {
    "id": "pW8b1FItQm5v"
   },
   "source": [
    "**Precisión**"
   ]
  },
  {
   "cell_type": "code",
   "execution_count": 13,
   "metadata": {
    "colab": {
     "base_uri": "https://localhost:8080/"
    },
    "id": "F9QErqrTEDO6",
    "outputId": "a059f039-e58b-4192-f86a-3b9f0dff8a37"
   },
   "outputs": [
    {
     "name": "stdout",
     "output_type": "stream",
     "text": [
      "Precisión del modelo:\n",
      "0.8223350253807107\n"
     ]
    }
   ],
   "source": [
    "#Calculamos la precision del modelo\n",
    "from sklearn.metrics import precision_score\n",
    "precision = precision_score(Y_test, Y_pred, average=\"binary\", pos_label='1') \n",
    "print('Precisión del modelo:')\n",
    "print(precision)"
   ]
  },
  {
   "cell_type": "markdown",
   "metadata": {
    "id": "ZIzZLABClf31"
   },
   "source": [
    "**Reporte del modelo**\n"
   ]
  },
  {
   "cell_type": "code",
   "execution_count": 14,
   "metadata": {
    "colab": {
     "base_uri": "https://localhost:8080/"
    },
    "id": "iXyrGBVyljDy",
    "outputId": "a3e0ddb3-5af8-40ab-cdc2-4c100e5533dd"
   },
   "outputs": [
    {
     "name": "stdout",
     "output_type": "stream",
     "text": [
      "              precision    recall  f1-score   support\n",
      "\n",
      "           0       0.87      0.89      0.88       314\n",
      "           1       0.82      0.80      0.81       203\n",
      "\n",
      "    accuracy                           0.85       517\n",
      "   macro avg       0.85      0.84      0.85       517\n",
      "weighted avg       0.85      0.85      0.85       517\n",
      "\n"
     ]
    }
   ],
   "source": [
    "from sklearn.metrics import classification_report\n",
    "print(classification_report(Y_test, Y_pred))"
   ]
  },
  {
   "cell_type": "markdown",
   "metadata": {
    "id": "XA8YFXlqQqDO"
   },
   "source": [
    "#Resultados\n",
    "\n"
   ]
  },
  {
   "cell_type": "code",
   "execution_count": 15,
   "metadata": {
    "colab": {
     "base_uri": "https://localhost:8080/"
    },
    "id": "8593oMLuWpo9",
    "outputId": "12ae83ea-b766-4d51-b298-88801b9ab73d"
   },
   "outputs": [
    {
     "name": "stdout",
     "output_type": "stream",
     "text": [
      "Numero de secciones:\n",
      "6\n"
     ]
    }
   ],
   "source": [
    "#Mostramos el nro de secciones predicho por el modelo\n",
    "print('Numero de secciones:')\n",
    "secc = (Y_pred[Y_pred == '0'].size)/60\n",
    "print(ceil(secc))\n",
    "\n",
    "\n"
   ]
  },
  {
   "cell_type": "code",
   "execution_count": null,
   "metadata": {
    "id": "VNmhuLe0WWeN"
   },
   "outputs": [],
   "source": []
  },
  {
   "cell_type": "code",
   "execution_count": null,
   "metadata": {
    "id": "esxWyaH_hIDL"
   },
   "outputs": [],
   "source": []
  }
 ],
 "metadata": {
  "colab": {
   "collapsed_sections": [],
   "name": "Prediccion_Regresión.ipynb",
   "provenance": []
  },
  "kernelspec": {
   "display_name": "Python 3",
   "language": "python",
   "name": "python3"
  },
  "language_info": {
   "codemirror_mode": {
    "name": "ipython",
    "version": 3
   },
   "file_extension": ".py",
   "mimetype": "text/x-python",
   "name": "python",
   "nbconvert_exporter": "python",
   "pygments_lexer": "ipython3",
   "version": "3.8.10"
  }
 },
 "nbformat": 4,
 "nbformat_minor": 1
}
