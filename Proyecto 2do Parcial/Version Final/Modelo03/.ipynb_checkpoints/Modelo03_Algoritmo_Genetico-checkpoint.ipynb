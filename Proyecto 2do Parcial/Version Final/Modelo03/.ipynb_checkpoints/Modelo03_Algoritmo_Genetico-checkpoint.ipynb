{
 "cells": [
  {
   "cell_type": "code",
   "execution_count": 1,
   "id": "55576913",
   "metadata": {},
   "outputs": [],
   "source": [
    "#Librerias necesarias para implementacion de algoritmo genetico\n",
    "from __future__ import print_function\n",
    "\n",
    "from evolver import Evolver\n",
    "\n",
    "from tqdm import tqdm\n",
    "\n",
    "import logging\n",
    "\n",
    "import sys\n"
   ]
  },
  {
   "cell_type": "markdown",
   "id": "16cdd32f",
   "metadata": {},
   "source": [
    "# Modelo 3\n",
    "En este modelo se trabajara con la asignatura, los puntajes del primer y segundo parcial, el puntaje de taller y si aprobo o no el alumno"
   ]
  },
  {
   "cell_type": "code",
   "execution_count": 1,
   "id": "7a50ffab",
   "metadata": {},
   "outputs": [
    {
     "data": {
      "text/html": [
       "<div>\n",
       "<style scoped>\n",
       "    .dataframe tbody tr th:only-of-type {\n",
       "        vertical-align: middle;\n",
       "    }\n",
       "\n",
       "    .dataframe tbody tr th {\n",
       "        vertical-align: top;\n",
       "    }\n",
       "\n",
       "    .dataframe thead th {\n",
       "        text-align: right;\n",
       "    }\n",
       "</style>\n",
       "<table border=\"1\" class=\"dataframe\">\n",
       "  <thead>\n",
       "    <tr style=\"text-align: right;\">\n",
       "      <th></th>\n",
       "      <th>Asignatura</th>\n",
       "      <th>1P</th>\n",
       "      <th>2P</th>\n",
       "      <th>Taller</th>\n",
       "      <th>Aprobado</th>\n",
       "    </tr>\n",
       "  </thead>\n",
       "  <tbody>\n",
       "    <tr>\n",
       "      <th>0</th>\n",
       "      <td>2</td>\n",
       "      <td>8</td>\n",
       "      <td>10</td>\n",
       "      <td>2</td>\n",
       "      <td>0</td>\n",
       "    </tr>\n",
       "    <tr>\n",
       "      <th>1</th>\n",
       "      <td>2</td>\n",
       "      <td>15</td>\n",
       "      <td>7</td>\n",
       "      <td>5</td>\n",
       "      <td>0</td>\n",
       "    </tr>\n",
       "    <tr>\n",
       "      <th>2</th>\n",
       "      <td>2</td>\n",
       "      <td>17</td>\n",
       "      <td>3</td>\n",
       "      <td>6</td>\n",
       "      <td>0</td>\n",
       "    </tr>\n",
       "    <tr>\n",
       "      <th>3</th>\n",
       "      <td>2</td>\n",
       "      <td>9</td>\n",
       "      <td>15</td>\n",
       "      <td>4</td>\n",
       "      <td>0</td>\n",
       "    </tr>\n",
       "    <tr>\n",
       "      <th>4</th>\n",
       "      <td>2</td>\n",
       "      <td>7</td>\n",
       "      <td>11</td>\n",
       "      <td>5</td>\n",
       "      <td>0</td>\n",
       "    </tr>\n",
       "  </tbody>\n",
       "</table>\n",
       "</div>"
      ],
      "text/plain": [
       "   Asignatura  1P  2P  Taller  Aprobado\n",
       "0           2   8  10       2         0\n",
       "1           2  15   7       5         0\n",
       "2           2  17   3       6         0\n",
       "3           2   9  15       4         0\n",
       "4           2   7  11       5         0"
      ]
     },
     "execution_count": 1,
     "metadata": {},
     "output_type": "execute_result"
    }
   ],
   "source": [
    "#Librerias necesarias para trabajar con datasets\n",
    "import pandas as pd\n",
    "import numpy as np\n",
    "from sklearn import linear_model, model_selection\n",
    "\n",
    "#Librerias necesarias para aplicar redes neuronales\n",
    "import tensorflow as tf\n",
    "\n",
    "df= pd.read_csv(\"Modelo03.csv\", sep=\",\",index_col=False)\n",
    "df.head()"
   ]
  },
  {
   "cell_type": "code",
   "execution_count": 2,
   "id": "0466381b",
   "metadata": {},
   "outputs": [
    {
     "data": {
      "text/plain": [
       "(1992,)"
      ]
     },
     "metadata": {},
     "output_type": "display_data"
    },
    {
     "data": {
      "text/plain": [
       "(1992, 4)"
      ]
     },
     "metadata": {},
     "output_type": "display_data"
    }
   ],
   "source": [
    "#Como en el primer modelo se explico detalladamente cada paso. El segundo modelo se realizara mas rapido\n",
    "\n",
    "data=df[['Asignatura','1P','2P','Taller']]\n",
    "[filas,columnas]=data.shape\n",
    "labels=df[['Aprobado']]\n",
    "\n",
    "#Como labels figura como string, es necesario cambiarlos a valores enteros\n",
    "data = np.array(data)\n",
    "labels = np.array(labels)\n",
    "labels=np.ravel(labels)\n",
    "\n",
    "#Verificamos las dimensiones de data y labels\n",
    "display(np.shape(labels))\n",
    "display(np.shape(data))\n",
    "\n",
    "\n",
    "#Aqui exportamos los datos empleando la libreria pickle\n",
    "from pickle import dump,load\n",
    "dump(data, open('data.pkl', 'wb'))\n",
    "dump(labels, open('labels.pkl', 'wb'))\n",
    "dump(columnas, open('columnas.pkl', 'wb'))"
   ]
  },
  {
   "cell_type": "code",
   "execution_count": null,
   "id": "1a4b3420",
   "metadata": {},
   "outputs": [
    {
     "name": "stderr",
     "output_type": "stream",
     "text": [
      "04/06/2021 01:40:35 PM - INFO - ***generate(generations, population, all_possible_genes, dataset)***\n",
      "04/06/2021 01:40:35 PM - INFO - ***Now in generation 1 of 50***\n",
      "04/06/2021 01:40:35 PM - INFO - --------------------------------------------------------------------------------\n",
      "04/06/2021 01:40:35 PM - INFO - {'nb_layers': 3, 'activation': 'softmax', 'optimizer': 'adam', 'nb_neurons': [32, 128, 32, 64, 16, 32]}\n",
      "04/06/2021 01:40:35 PM - INFO - Acc: 0.00%\n",
      "04/06/2021 01:40:35 PM - INFO - UniID: 1\n",
      "04/06/2021 01:40:35 PM - INFO - Mom and Dad: 0 0\n",
      "04/06/2021 01:40:35 PM - INFO - Gen: 1\n",
      "04/06/2021 01:40:35 PM - INFO - Hash: d5c6d047dc8aa7ce723b49480003d2d7\n",
      "04/06/2021 01:40:35 PM - INFO - {'nb_layers': 1, 'activation': 'softmax', 'optimizer': 'adam', 'nb_neurons': [32, 32, 128, 128, 64, 32]}\n",
      "04/06/2021 01:40:35 PM - INFO - Acc: 0.00%\n",
      "04/06/2021 01:40:35 PM - INFO - UniID: 2\n",
      "04/06/2021 01:40:35 PM - INFO - Mom and Dad: 0 0\n",
      "04/06/2021 01:40:35 PM - INFO - Gen: 1\n",
      "04/06/2021 01:40:35 PM - INFO - Hash: f2eb5f1ca6b1d441a749dd77b0d4427b\n",
      "04/06/2021 01:40:35 PM - INFO - {'nb_layers': 3, 'activation': 'sigmoid', 'optimizer': 'adamax', 'nb_neurons': [128, 128, 16, 32, 128, 16]}\n",
      "04/06/2021 01:40:35 PM - INFO - Acc: 0.00%\n",
      "04/06/2021 01:40:35 PM - INFO - UniID: 3\n",
      "04/06/2021 01:40:35 PM - INFO - Mom and Dad: 0 0\n",
      "04/06/2021 01:40:35 PM - INFO - Gen: 1\n",
      "04/06/2021 01:40:35 PM - INFO - Hash: c36fe02a1b587e3a7058f761b241ce1d\n",
      "04/06/2021 01:40:35 PM - INFO - {'nb_layers': 4, 'activation': 'softmax', 'optimizer': 'adamax', 'nb_neurons': [32, 16, 128, 128, 32, 64]}\n",
      "04/06/2021 01:40:35 PM - INFO - Acc: 0.00%\n",
      "04/06/2021 01:40:35 PM - INFO - UniID: 4\n",
      "04/06/2021 01:40:35 PM - INFO - Mom and Dad: 0 0\n",
      "04/06/2021 01:40:35 PM - INFO - Gen: 1\n",
      "04/06/2021 01:40:35 PM - INFO - Hash: 078716865b80e7349eecd30dc632f0d1\n",
      "04/06/2021 01:40:35 PM - INFO - {'nb_layers': 1, 'activation': 'relu', 'optimizer': 'adam', 'nb_neurons': [16, 32, 32, 32, 32, 128]}\n",
      "04/06/2021 01:40:35 PM - INFO - Acc: 0.00%\n",
      "04/06/2021 01:40:35 PM - INFO - UniID: 5\n",
      "04/06/2021 01:40:35 PM - INFO - Mom and Dad: 0 0\n",
      "04/06/2021 01:40:35 PM - INFO - Gen: 1\n",
      "04/06/2021 01:40:35 PM - INFO - Hash: 7e3444b9f986b61c4d7bba9f77107ba5\n",
      "04/06/2021 01:40:35 PM - INFO - {'nb_layers': 4, 'activation': 'sigmoid', 'optimizer': 'adam', 'nb_neurons': [16, 64, 16, 32, 128, 128]}\n",
      "04/06/2021 01:40:35 PM - INFO - Acc: 0.00%\n",
      "04/06/2021 01:40:35 PM - INFO - UniID: 6\n",
      "04/06/2021 01:40:35 PM - INFO - Mom and Dad: 0 0\n",
      "04/06/2021 01:40:35 PM - INFO - Gen: 1\n",
      "04/06/2021 01:40:35 PM - INFO - Hash: 0dedbbebfff66eda850a98a933782341\n",
      "04/06/2021 01:40:35 PM - INFO - {'nb_layers': 5, 'activation': 'softmax', 'optimizer': 'adamax', 'nb_neurons': [32, 16, 128, 128, 128, 16]}\n",
      "04/06/2021 01:40:35 PM - INFO - Acc: 0.00%\n",
      "04/06/2021 01:40:35 PM - INFO - UniID: 7\n",
      "04/06/2021 01:40:35 PM - INFO - Mom and Dad: 0 0\n",
      "04/06/2021 01:40:35 PM - INFO - Gen: 1\n",
      "04/06/2021 01:40:35 PM - INFO - Hash: e147a047d23aeb5a0f32aa8f91dd4c47\n",
      "04/06/2021 01:40:35 PM - INFO - {'nb_layers': 5, 'activation': 'relu', 'optimizer': 'adam', 'nb_neurons': [128, 128, 32, 32, 32, 128]}\n",
      "04/06/2021 01:40:35 PM - INFO - Acc: 0.00%\n",
      "04/06/2021 01:40:35 PM - INFO - UniID: 8\n",
      "04/06/2021 01:40:35 PM - INFO - Mom and Dad: 0 0\n",
      "04/06/2021 01:40:35 PM - INFO - Gen: 1\n",
      "04/06/2021 01:40:35 PM - INFO - Hash: f09cb5dba92e20f29f76b678099f240f\n",
      "04/06/2021 01:40:35 PM - INFO - {'nb_layers': 4, 'activation': 'relu', 'optimizer': 'adam', 'nb_neurons': [32, 16, 32, 128, 32, 16]}\n",
      "04/06/2021 01:40:35 PM - INFO - Acc: 0.00%\n",
      "04/06/2021 01:40:35 PM - INFO - UniID: 9\n",
      "04/06/2021 01:40:35 PM - INFO - Mom and Dad: 0 0\n",
      "04/06/2021 01:40:35 PM - INFO - Gen: 1\n",
      "04/06/2021 01:40:35 PM - INFO - Hash: ef1e8903c976c46e4be28a5c3659163a\n",
      "04/06/2021 01:40:35 PM - INFO - {'nb_layers': 1, 'activation': 'relu', 'optimizer': 'adamax', 'nb_neurons': [32, 64, 64, 64, 128, 64]}\n",
      "04/06/2021 01:40:35 PM - INFO - Acc: 0.00%\n",
      "04/06/2021 01:40:35 PM - INFO - UniID: 10\n",
      "04/06/2021 01:40:35 PM - INFO - Mom and Dad: 0 0\n",
      "04/06/2021 01:40:35 PM - INFO - Gen: 1\n",
      "04/06/2021 01:40:35 PM - INFO - Hash: 44c30d39e24f7a06b465983b2f29bbd1\n",
      "04/06/2021 01:40:35 PM - INFO - {'nb_layers': 2, 'activation': 'sigmoid', 'optimizer': 'adam', 'nb_neurons': [16, 64, 128, 128, 32, 128]}\n",
      "04/06/2021 01:40:35 PM - INFO - Acc: 0.00%\n",
      "04/06/2021 01:40:35 PM - INFO - UniID: 11\n",
      "04/06/2021 01:40:35 PM - INFO - Mom and Dad: 0 0\n",
      "04/06/2021 01:40:35 PM - INFO - Gen: 1\n",
      "04/06/2021 01:40:35 PM - INFO - Hash: d466f2705b5d4154e15970e4666b82aa\n",
      "04/06/2021 01:40:35 PM - INFO - {'nb_layers': 4, 'activation': 'relu', 'optimizer': 'adamax', 'nb_neurons': [16, 16, 64, 16, 64, 16]}\n",
      "04/06/2021 01:40:35 PM - INFO - Acc: 0.00%\n",
      "04/06/2021 01:40:35 PM - INFO - UniID: 12\n",
      "04/06/2021 01:40:35 PM - INFO - Mom and Dad: 0 0\n",
      "04/06/2021 01:40:35 PM - INFO - Gen: 1\n",
      "04/06/2021 01:40:35 PM - INFO - Hash: fed76614202c65060828c159d6ea5a83\n",
      "04/06/2021 01:40:35 PM - INFO - {'nb_layers': 3, 'activation': 'relu', 'optimizer': 'adam', 'nb_neurons': [32, 128, 64, 32, 128, 128]}\n",
      "04/06/2021 01:40:35 PM - INFO - Acc: 0.00%\n",
      "04/06/2021 01:40:35 PM - INFO - UniID: 13\n",
      "04/06/2021 01:40:35 PM - INFO - Mom and Dad: 0 0\n",
      "04/06/2021 01:40:35 PM - INFO - Gen: 1\n",
      "04/06/2021 01:40:35 PM - INFO - Hash: 9a555e090cd4dbe45bdefbdb56700d0c\n",
      "04/06/2021 01:40:35 PM - INFO - {'nb_layers': 2, 'activation': 'sigmoid', 'optimizer': 'adamax', 'nb_neurons': [128, 64, 64, 64, 16, 32]}\n",
      "04/06/2021 01:40:35 PM - INFO - Acc: 0.00%\n",
      "04/06/2021 01:40:35 PM - INFO - UniID: 14\n",
      "04/06/2021 01:40:35 PM - INFO - Mom and Dad: 0 0\n",
      "04/06/2021 01:40:35 PM - INFO - Gen: 1\n",
      "04/06/2021 01:40:35 PM - INFO - Hash: 7893ab58e30457cafc1cd30bafbb994a\n",
      "04/06/2021 01:40:35 PM - INFO - {'nb_layers': 1, 'activation': 'sigmoid', 'optimizer': 'adamax', 'nb_neurons': [64, 64, 64, 32, 128, 64]}\n",
      "04/06/2021 01:40:35 PM - INFO - Acc: 0.00%\n",
      "04/06/2021 01:40:35 PM - INFO - UniID: 15\n",
      "04/06/2021 01:40:35 PM - INFO - Mom and Dad: 0 0\n",
      "04/06/2021 01:40:35 PM - INFO - Gen: 1\n",
      "04/06/2021 01:40:35 PM - INFO - Hash: 0b6eabde4ac6a20f124a7f70e231acfa\n",
      "04/06/2021 01:40:35 PM - INFO - {'nb_layers': 4, 'activation': 'softmax', 'optimizer': 'adamax', 'nb_neurons': [128, 64, 64, 32, 64, 64]}\n",
      "04/06/2021 01:40:35 PM - INFO - Acc: 0.00%\n",
      "04/06/2021 01:40:35 PM - INFO - UniID: 16\n",
      "04/06/2021 01:40:35 PM - INFO - Mom and Dad: 0 0\n",
      "04/06/2021 01:40:35 PM - INFO - Gen: 1\n",
      "04/06/2021 01:40:35 PM - INFO - Hash: 620670afcaee4408437c0483090cd8cc\n",
      "04/06/2021 01:40:35 PM - INFO - {'nb_layers': 5, 'activation': 'softmax', 'optimizer': 'adamax', 'nb_neurons': [16, 16, 128, 16, 64, 32]}\n",
      "04/06/2021 01:40:35 PM - INFO - Acc: 0.00%\n",
      "04/06/2021 01:40:35 PM - INFO - UniID: 17\n",
      "04/06/2021 01:40:35 PM - INFO - Mom and Dad: 0 0\n",
      "04/06/2021 01:40:35 PM - INFO - Gen: 1\n",
      "04/06/2021 01:40:35 PM - INFO - Hash: 8038022e2d4ef4d5c01bef8f4a64b671\n",
      "04/06/2021 01:40:35 PM - INFO - {'nb_layers': 3, 'activation': 'relu', 'optimizer': 'adamax', 'nb_neurons': [16, 16, 32, 16, 64, 64]}\n",
      "04/06/2021 01:40:35 PM - INFO - Acc: 0.00%\n",
      "04/06/2021 01:40:35 PM - INFO - UniID: 18\n",
      "04/06/2021 01:40:35 PM - INFO - Mom and Dad: 0 0\n",
      "04/06/2021 01:40:35 PM - INFO - Gen: 1\n",
      "04/06/2021 01:40:35 PM - INFO - Hash: a26c6a3290e7eff22ee68e488bc477b1\n",
      "04/06/2021 01:40:35 PM - INFO - {'nb_layers': 1, 'activation': 'softmax', 'optimizer': 'adamax', 'nb_neurons': [64, 32, 32, 16, 16, 128]}\n",
      "04/06/2021 01:40:35 PM - INFO - Acc: 0.00%\n",
      "04/06/2021 01:40:35 PM - INFO - UniID: 19\n",
      "04/06/2021 01:40:35 PM - INFO - Mom and Dad: 0 0\n",
      "04/06/2021 01:40:35 PM - INFO - Gen: 1\n",
      "04/06/2021 01:40:35 PM - INFO - Hash: ef1bfaa262641348b03e69c6bc977cdd\n",
      "04/06/2021 01:40:35 PM - INFO - {'nb_layers': 4, 'activation': 'softmax', 'optimizer': 'adam', 'nb_neurons': [32, 16, 16, 128, 32, 128]}\n",
      "04/06/2021 01:40:35 PM - INFO - Acc: 0.00%\n",
      "04/06/2021 01:40:35 PM - INFO - UniID: 20\n",
      "04/06/2021 01:40:35 PM - INFO - Mom and Dad: 0 0\n",
      "04/06/2021 01:40:35 PM - INFO - Gen: 1\n",
      "04/06/2021 01:40:35 PM - INFO - Hash: 85c51bf0e9838aa7bbc23a14562ad684\n",
      "04/06/2021 01:40:35 PM - INFO - {'nb_layers': 5, 'activation': 'sigmoid', 'optimizer': 'adam', 'nb_neurons': [128, 64, 128, 16, 16, 128]}\n",
      "04/06/2021 01:40:35 PM - INFO - Acc: 0.00%\n",
      "04/06/2021 01:40:35 PM - INFO - UniID: 21\n",
      "04/06/2021 01:40:35 PM - INFO - Mom and Dad: 0 0\n",
      "04/06/2021 01:40:35 PM - INFO - Gen: 1\n"
     ]
    },
    {
     "name": "stderr",
     "output_type": "stream",
     "text": [
      "04/06/2021 01:40:35 PM - INFO - Hash: b21eebac9ea4ff2918c0af3f4175e677\n",
      "04/06/2021 01:40:35 PM - INFO - {'nb_layers': 4, 'activation': 'sigmoid', 'optimizer': 'adam', 'nb_neurons': [32, 64, 128, 16, 16, 128]}\n",
      "04/06/2021 01:40:35 PM - INFO - Acc: 0.00%\n",
      "04/06/2021 01:40:35 PM - INFO - UniID: 22\n",
      "04/06/2021 01:40:35 PM - INFO - Mom and Dad: 0 0\n",
      "04/06/2021 01:40:35 PM - INFO - Gen: 1\n",
      "04/06/2021 01:40:35 PM - INFO - Hash: 11731a7cc6d7a40f5f10de98f8a57830\n",
      "04/06/2021 01:40:35 PM - INFO - {'nb_layers': 4, 'activation': 'relu', 'optimizer': 'adamax', 'nb_neurons': [16, 16, 32, 32, 32, 64]}\n",
      "04/06/2021 01:40:35 PM - INFO - Acc: 0.00%\n",
      "04/06/2021 01:40:35 PM - INFO - UniID: 23\n",
      "04/06/2021 01:40:35 PM - INFO - Mom and Dad: 0 0\n",
      "04/06/2021 01:40:35 PM - INFO - Gen: 1\n",
      "04/06/2021 01:40:35 PM - INFO - Hash: 07015f676c5742f90efd478e874e83e2\n",
      "04/06/2021 01:40:35 PM - INFO - {'nb_layers': 2, 'activation': 'relu', 'optimizer': 'adamax', 'nb_neurons': [128, 32, 64, 16, 32, 128]}\n",
      "04/06/2021 01:40:35 PM - INFO - Acc: 0.00%\n",
      "04/06/2021 01:40:35 PM - INFO - UniID: 24\n",
      "04/06/2021 01:40:35 PM - INFO - Mom and Dad: 0 0\n",
      "04/06/2021 01:40:35 PM - INFO - Gen: 1\n",
      "04/06/2021 01:40:35 PM - INFO - Hash: b12bcbb9925ba96727694d92ea1c7918\n",
      "04/06/2021 01:40:35 PM - INFO - {'nb_layers': 3, 'activation': 'relu', 'optimizer': 'adam', 'nb_neurons': [64, 64, 128, 64, 16, 32]}\n",
      "04/06/2021 01:40:35 PM - INFO - Acc: 0.00%\n",
      "04/06/2021 01:40:35 PM - INFO - UniID: 25\n",
      "04/06/2021 01:40:35 PM - INFO - Mom and Dad: 0 0\n",
      "04/06/2021 01:40:35 PM - INFO - Gen: 1\n",
      "04/06/2021 01:40:35 PM - INFO - Hash: 23632d6d0523100e1c582ad35965a89c\n",
      "04/06/2021 01:40:35 PM - INFO - {'nb_layers': 2, 'activation': 'sigmoid', 'optimizer': 'adam', 'nb_neurons': [32, 64, 64, 16, 64, 16]}\n",
      "04/06/2021 01:40:35 PM - INFO - Acc: 0.00%\n",
      "04/06/2021 01:40:35 PM - INFO - UniID: 26\n",
      "04/06/2021 01:40:35 PM - INFO - Mom and Dad: 0 0\n",
      "04/06/2021 01:40:35 PM - INFO - Gen: 1\n",
      "04/06/2021 01:40:35 PM - INFO - Hash: 19a3e0a6843d095418b9e4f0e3a3addf\n",
      "04/06/2021 01:40:35 PM - INFO - {'nb_layers': 5, 'activation': 'sigmoid', 'optimizer': 'adamax', 'nb_neurons': [64, 16, 32, 16, 64, 128]}\n",
      "04/06/2021 01:40:35 PM - INFO - Acc: 0.00%\n",
      "04/06/2021 01:40:35 PM - INFO - UniID: 27\n",
      "04/06/2021 01:40:35 PM - INFO - Mom and Dad: 0 0\n",
      "04/06/2021 01:40:35 PM - INFO - Gen: 1\n",
      "04/06/2021 01:40:35 PM - INFO - Hash: 84bf8ef3bd996ca60c4d90b33d5a8dd7\n",
      "04/06/2021 01:40:35 PM - INFO - {'nb_layers': 4, 'activation': 'softmax', 'optimizer': 'adamax', 'nb_neurons': [64, 16, 16, 64, 16, 128]}\n",
      "04/06/2021 01:40:35 PM - INFO - Acc: 0.00%\n",
      "04/06/2021 01:40:35 PM - INFO - UniID: 28\n",
      "04/06/2021 01:40:35 PM - INFO - Mom and Dad: 0 0\n",
      "04/06/2021 01:40:35 PM - INFO - Gen: 1\n",
      "04/06/2021 01:40:35 PM - INFO - Hash: 88b6bdb2eb7373db8f5b7963dd34d4d5\n",
      "04/06/2021 01:40:35 PM - INFO - {'nb_layers': 3, 'activation': 'softmax', 'optimizer': 'adamax', 'nb_neurons': [64, 16, 128, 32, 64, 128]}\n",
      "04/06/2021 01:40:35 PM - INFO - Acc: 0.00%\n",
      "04/06/2021 01:40:35 PM - INFO - UniID: 29\n",
      "04/06/2021 01:40:35 PM - INFO - Mom and Dad: 0 0\n",
      "04/06/2021 01:40:35 PM - INFO - Gen: 1\n",
      "04/06/2021 01:40:35 PM - INFO - Hash: 3a4523851808e96b60608e640d5d472e\n",
      "04/06/2021 01:40:35 PM - INFO - {'nb_layers': 2, 'activation': 'relu', 'optimizer': 'adam', 'nb_neurons': [128, 128, 64, 128, 32, 16]}\n",
      "04/06/2021 01:40:35 PM - INFO - Acc: 0.00%\n",
      "04/06/2021 01:40:35 PM - INFO - UniID: 30\n",
      "04/06/2021 01:40:35 PM - INFO - Mom and Dad: 0 0\n",
      "04/06/2021 01:40:35 PM - INFO - Gen: 1\n",
      "04/06/2021 01:40:35 PM - INFO - Hash: 55f085a3b2c36ee6602a40b975eb1cc3\n",
      "04/06/2021 01:40:35 PM - INFO - ***train_networks(networks, dataset)***\n",
      "\n",
      "  0%|          | 0/30 [00:00<?, ?it/s]\u001b[A04/06/2021 01:40:35 PM - INFO - Getting Keras datasets\n",
      "04/06/2021 01:40:35 PM - INFO - Compling Keras model\n",
      "04/06/2021 01:40:35 PM - INFO - Architecture:[32, 128, 32, 64, 16, 32],softmax,adam,3\n"
     ]
    },
    {
     "name": "stdout",
     "output_type": "stream",
     "text": [
      "***Dataset: dataset\n",
      "***Evolving for 50 generations with population size = 30***\n",
      "(1593,)\n",
      "(1593, 4)\n",
      "(1593, 2)\n",
      "(1593, 4)\n",
      "(1593, 4)\n",
      "(1593, 2)\n",
      "Epoch 1/50\n",
      "25/25 [==============================] - 0s 5ms/step - loss: 0.6959 - accuracy: 0.4652 - val_loss: 0.6819 - val_accuracy: 0.7444\n",
      "Epoch 2/50\n",
      "25/25 [==============================] - 0s 2ms/step - loss: 0.6695 - accuracy: 0.7539 - val_loss: 0.6589 - val_accuracy: 0.7444\n",
      "Epoch 3/50\n",
      "25/25 [==============================] - 0s 1ms/step - loss: 0.6469 - accuracy: 0.7571 - val_loss: 0.6396 - val_accuracy: 0.7444\n"
     ]
    },
    {
     "name": "stderr",
     "output_type": "stream",
     "text": [
      "\n",
      "  3%|▎         | 1/30 [00:00<00:21,  1.32it/s]\u001b[A04/06/2021 01:40:35 PM - INFO - Getting Keras datasets\n",
      "04/06/2021 01:40:35 PM - INFO - Compling Keras model\n",
      "04/06/2021 01:40:35 PM - INFO - Architecture:[32, 32, 128, 128, 64, 32],softmax,adam,1\n"
     ]
    },
    {
     "name": "stdout",
     "output_type": "stream",
     "text": [
      "Test loss: 0.6395826935768127\n",
      "Test accuracy: 0.7443609237670898\n",
      "(1593,)\n",
      "(1593, 4)\n",
      "(1593, 2)\n",
      "(1593, 4)\n",
      "(1593, 4)\n",
      "(1593, 2)\n",
      "Epoch 1/50\n",
      " 1/25 [>.............................] - ETA: 0s - loss: 0.7192 - accuracy: 0.2031WARNING:tensorflow:Callbacks method `on_train_batch_end` is slow compared to the batch time (batch time: 0.0000s vs `on_train_batch_end` time: 0.0010s). Check your callbacks.\n"
     ]
    },
    {
     "name": "stderr",
     "output_type": "stream",
     "text": [
      "04/06/2021 01:40:36 PM - WARNING - Callbacks method `on_train_batch_end` is slow compared to the batch time (batch time: 0.0000s vs `on_train_batch_end` time: 0.0010s). Check your callbacks.\n"
     ]
    },
    {
     "name": "stdout",
     "output_type": "stream",
     "text": [
      "25/25 [==============================] - 0s 9ms/step - loss: 0.7007 - accuracy: 0.3867 - val_loss: 0.6866 - val_accuracy: 0.7444\n",
      "Epoch 2/50\n",
      "25/25 [==============================] - 0s 961us/step - loss: 0.6732 - accuracy: 0.7483 - val_loss: 0.6626 - val_accuracy: 0.7444\n",
      "Epoch 3/50\n",
      "25/25 [==============================] - 0s 1ms/step - loss: 0.6511 - accuracy: 0.7571 - val_loss: 0.6429 - val_accuracy: 0.7444\n"
     ]
    },
    {
     "name": "stderr",
     "output_type": "stream",
     "text": [
      "\n",
      "  7%|▋         | 2/30 [00:01<00:19,  1.40it/s]\u001b[A04/06/2021 01:40:36 PM - INFO - Getting Keras datasets\n",
      "04/06/2021 01:40:36 PM - INFO - Compling Keras model\n",
      "04/06/2021 01:40:36 PM - INFO - Architecture:[128, 128, 16, 32, 128, 16],sigmoid,adamax,3\n"
     ]
    },
    {
     "name": "stdout",
     "output_type": "stream",
     "text": [
      "Test loss: 0.642879068851471\n",
      "Test accuracy: 0.7443609237670898\n",
      "(1593,)\n",
      "(1593, 4)\n",
      "(1593, 2)\n",
      "(1593, 4)\n",
      "(1593, 4)\n",
      "(1593, 2)\n",
      "Epoch 1/50\n",
      "25/25 [==============================] - 0s 5ms/step - loss: 0.5744 - accuracy: 0.7546 - val_loss: 0.5728 - val_accuracy: 0.7444\n",
      "Epoch 2/50\n",
      "25/25 [==============================] - 0s 2ms/step - loss: 0.5732 - accuracy: 0.7552 - val_loss: 0.5682 - val_accuracy: 0.7444\n",
      "Epoch 3/50\n",
      "25/25 [==============================] - 0s 2ms/step - loss: 0.5651 - accuracy: 0.7564 - val_loss: 0.5689 - val_accuracy: 0.7444\n"
     ]
    },
    {
     "name": "stderr",
     "output_type": "stream",
     "text": [
      "\n",
      " 10%|█         | 3/30 [00:02<00:19,  1.41it/s]\u001b[A04/06/2021 01:40:37 PM - INFO - Getting Keras datasets\n",
      "04/06/2021 01:40:37 PM - INFO - Compling Keras model\n",
      "04/06/2021 01:40:37 PM - INFO - Architecture:[32, 16, 128, 128, 32, 64],softmax,adamax,4\n"
     ]
    },
    {
     "name": "stdout",
     "output_type": "stream",
     "text": [
      "Test loss: 0.5689305067062378\n",
      "Test accuracy: 0.7443609237670898\n",
      "(1593,)\n",
      "(1593, 4)\n",
      "(1593, 2)\n",
      "(1593, 4)\n",
      "(1593, 4)\n",
      "(1593, 2)\n",
      "Epoch 1/50\n",
      "25/25 [==============================] - 0s 6ms/step - loss: 0.6872 - accuracy: 0.6472 - val_loss: 0.6775 - val_accuracy: 0.7444\n",
      "Epoch 2/50\n",
      "25/25 [==============================] - 0s 2ms/step - loss: 0.6688 - accuracy: 0.7571 - val_loss: 0.6623 - val_accuracy: 0.7444\n",
      "Epoch 3/50\n",
      "25/25 [==============================] - 0s 2ms/step - loss: 0.6535 - accuracy: 0.7571 - val_loss: 0.6491 - val_accuracy: 0.7444\n"
     ]
    },
    {
     "name": "stderr",
     "output_type": "stream",
     "text": [
      "\n",
      " 13%|█▎        | 4/30 [00:02<00:19,  1.34it/s]\u001b[A04/06/2021 01:40:38 PM - INFO - Getting Keras datasets\n",
      "04/06/2021 01:40:38 PM - INFO - Compling Keras model\n",
      "04/06/2021 01:40:38 PM - INFO - Architecture:[16, 32, 32, 32, 32, 128],relu,adam,1\n"
     ]
    },
    {
     "name": "stdout",
     "output_type": "stream",
     "text": [
      "Test loss: 0.6491358876228333\n",
      "Test accuracy: 0.7443609237670898\n",
      "(1593,)\n",
      "(1593, 4)\n",
      "(1593, 2)\n",
      "(1593, 4)\n",
      "(1593, 4)\n",
      "(1593, 2)\n",
      "Epoch 1/50\n",
      "25/25 [==============================] - 0s 4ms/step - loss: 0.6503 - accuracy: 0.7125 - val_loss: 0.6468 - val_accuracy: 0.7444\n",
      "Epoch 2/50\n",
      "25/25 [==============================] - 0s 921us/step - loss: 0.6401 - accuracy: 0.7439 - val_loss: 0.6369 - val_accuracy: 0.7444\n",
      "Epoch 3/50\n",
      "25/25 [==============================] - 0s 921us/step - loss: 0.6313 - accuracy: 0.7520 - val_loss: 0.6270 - val_accuracy: 0.7444\n",
      "Test loss: 0.6270339488983154\n",
      "Test accuracy: 0.7443609237670898\n"
     ]
    },
    {
     "name": "stderr",
     "output_type": "stream",
     "text": [
      "\n",
      " 17%|█▋        | 5/30 [00:03<00:18,  1.37it/s]\u001b[A04/06/2021 01:40:38 PM - INFO - Getting Keras datasets\n",
      "04/06/2021 01:40:38 PM - INFO - Compling Keras model\n",
      "04/06/2021 01:40:38 PM - INFO - Architecture:[16, 64, 16, 32, 128, 128],sigmoid,adam,4\n"
     ]
    },
    {
     "name": "stdout",
     "output_type": "stream",
     "text": [
      "(1593,)\n",
      "(1593, 4)\n",
      "(1593, 2)\n",
      "(1593, 4)\n",
      "(1593, 4)\n",
      "(1593, 2)\n",
      "Epoch 1/50\n",
      "25/25 [==============================] - 0s 5ms/step - loss: 0.5879 - accuracy: 0.7470 - val_loss: 0.5700 - val_accuracy: 0.7444\n",
      "Epoch 2/50\n",
      "25/25 [==============================] - 0s 1ms/step - loss: 0.5747 - accuracy: 0.7546 - val_loss: 0.5692 - val_accuracy: 0.7444\n",
      "Epoch 3/50\n",
      "25/25 [==============================] - 0s 1ms/step - loss: 0.5743 - accuracy: 0.7489 - val_loss: 0.5710 - val_accuracy: 0.7444\n"
     ]
    },
    {
     "name": "stderr",
     "output_type": "stream",
     "text": [
      "\n",
      " 20%|██        | 6/30 [00:04<00:17,  1.36it/s]\u001b[A04/06/2021 01:40:39 PM - INFO - Getting Keras datasets\n",
      "04/06/2021 01:40:39 PM - INFO - Compling Keras model\n",
      "04/06/2021 01:40:39 PM - INFO - Architecture:[32, 16, 128, 128, 128, 16],softmax,adamax,5\n"
     ]
    },
    {
     "name": "stdout",
     "output_type": "stream",
     "text": [
      "Test loss: 0.5710163116455078\n",
      "Test accuracy: 0.7443609237670898\n",
      "(1593,)\n",
      "(1593, 4)\n",
      "(1593, 2)\n",
      "(1593, 4)\n",
      "(1593, 4)\n",
      "(1593, 2)\n",
      "Epoch 1/50\n",
      "25/25 [==============================] - 0s 6ms/step - loss: 0.6859 - accuracy: 0.6861 - val_loss: 0.6774 - val_accuracy: 0.7444\n",
      "Epoch 2/50\n",
      "25/25 [==============================] - 0s 2ms/step - loss: 0.6688 - accuracy: 0.7571 - val_loss: 0.6621 - val_accuracy: 0.7444\n",
      "Epoch 3/50\n",
      "25/25 [==============================] - 0s 2ms/step - loss: 0.6534 - accuracy: 0.7571 - val_loss: 0.6486 - val_accuracy: 0.7444\n"
     ]
    },
    {
     "name": "stderr",
     "output_type": "stream",
     "text": [
      "\n",
      " 23%|██▎       | 7/30 [00:05<00:19,  1.20it/s]\u001b[A04/06/2021 01:40:40 PM - INFO - Getting Keras datasets\n",
      "04/06/2021 01:40:40 PM - INFO - Compling Keras model\n",
      "04/06/2021 01:40:40 PM - INFO - Architecture:[128, 128, 32, 32, 32, 128],relu,adam,5\n"
     ]
    },
    {
     "name": "stdout",
     "output_type": "stream",
     "text": [
      "Test loss: 0.6486470699310303\n",
      "Test accuracy: 0.7443609237670898\n",
      "(1593,)\n",
      "(1593, 4)\n",
      "(1593, 2)\n",
      "(1593, 4)\n",
      "(1593, 4)\n",
      "(1593, 2)\n",
      "Epoch 1/50\n",
      "25/25 [==============================] - 0s 6ms/step - loss: 0.6292 - accuracy: 0.7483 - val_loss: 0.5988 - val_accuracy: 0.7444\n",
      "Epoch 2/50\n",
      "25/25 [==============================] - 0s 2ms/step - loss: 0.5716 - accuracy: 0.7571 - val_loss: 0.5346 - val_accuracy: 0.7444\n",
      "Epoch 3/50\n",
      "25/25 [==============================] - 0s 2ms/step - loss: 0.4868 - accuracy: 0.7571 - val_loss: 0.4001 - val_accuracy: 0.7444\n",
      "Epoch 4/50\n",
      "25/25 [==============================] - 0s 2ms/step - loss: 0.3789 - accuracy: 0.7884 - val_loss: 0.2984 - val_accuracy: 0.8847\n",
      "Epoch 5/50\n",
      "25/25 [==============================] - 0s 2ms/step - loss: 0.3265 - accuracy: 0.8468 - val_loss: 0.2633 - val_accuracy: 0.8997\n",
      "Epoch 6/50\n",
      "25/25 [==============================] - 0s 2ms/step - loss: 0.3052 - accuracy: 0.8694 - val_loss: 0.2787 - val_accuracy: 0.8672\n",
      "Test loss: 0.27866876125335693\n",
      "Test accuracy: 0.8671678900718689\n"
     ]
    },
    {
     "name": "stderr",
     "output_type": "stream",
     "text": [
      "\n",
      " 27%|██▋       | 8/30 [00:06<00:19,  1.12it/s]\u001b[A04/06/2021 01:40:41 PM - INFO - Getting Keras datasets\n",
      "04/06/2021 01:40:41 PM - INFO - Compling Keras model\n",
      "04/06/2021 01:40:41 PM - INFO - Architecture:[32, 16, 32, 128, 32, 16],relu,adam,4\n"
     ]
    },
    {
     "name": "stdout",
     "output_type": "stream",
     "text": [
      "(1593,)\n",
      "(1593, 4)\n",
      "(1593, 2)\n",
      "(1593, 4)\n",
      "(1593, 4)\n",
      "(1593, 2)\n",
      "Epoch 1/50\n",
      "25/25 [==============================] - 0s 5ms/step - loss: 0.6401 - accuracy: 0.7357 - val_loss: 0.6042 - val_accuracy: 0.7444\n",
      "Epoch 2/50\n",
      "25/25 [==============================] - 0s 1ms/step - loss: 0.5838 - accuracy: 0.7571 - val_loss: 0.5726 - val_accuracy: 0.7444\n",
      "Epoch 3/50\n",
      "25/25 [==============================] - 0s 1ms/step - loss: 0.5601 - accuracy: 0.7571 - val_loss: 0.5382 - val_accuracy: 0.7444\n"
     ]
    },
    {
     "name": "stderr",
     "output_type": "stream",
     "text": [
      "\n",
      " 30%|███       | 9/30 [00:07<00:18,  1.11it/s]\u001b[A04/06/2021 01:40:42 PM - INFO - Getting Keras datasets\n",
      "04/06/2021 01:40:42 PM - INFO - Compling Keras model\n",
      "04/06/2021 01:40:42 PM - INFO - Architecture:[32, 64, 64, 64, 128, 64],relu,adamax,1\n"
     ]
    },
    {
     "name": "stdout",
     "output_type": "stream",
     "text": [
      "Test loss: 0.5382036566734314\n",
      "Test accuracy: 0.7443609237670898\n",
      "(1593,)\n",
      "(1593, 4)\n",
      "(1593, 2)\n",
      "(1593, 4)\n",
      "(1593, 4)\n",
      "(1593, 2)\n",
      "Epoch 1/50\n",
      "25/25 [==============================] - 0s 4ms/step - loss: 0.7077 - accuracy: 0.5179 - val_loss: 0.6741 - val_accuracy: 0.6516\n",
      "Epoch 2/50\n",
      "25/25 [==============================] - 0s 961us/step - loss: 0.6566 - accuracy: 0.6968 - val_loss: 0.6447 - val_accuracy: 0.7419\n",
      "Epoch 3/50\n",
      "25/25 [==============================] - 0s 1ms/step - loss: 0.6355 - accuracy: 0.7508 - val_loss: 0.6312 - val_accuracy: 0.7444\n",
      "Test loss: 0.6312336921691895\n",
      "Test accuracy: 0.7443609237670898\n"
     ]
    },
    {
     "name": "stderr",
     "output_type": "stream",
     "text": [
      "\n",
      " 33%|███▎      | 10/30 [00:07<00:15,  1.26it/s]\u001b[A04/06/2021 01:40:43 PM - INFO - Getting Keras datasets\n",
      "04/06/2021 01:40:43 PM - INFO - Compling Keras model\n",
      "04/06/2021 01:40:43 PM - INFO - Architecture:[16, 64, 128, 128, 32, 128],sigmoid,adam,2\n"
     ]
    },
    {
     "name": "stdout",
     "output_type": "stream",
     "text": [
      "(1593,)\n",
      "(1593, 4)\n",
      "(1593, 2)\n",
      "(1593, 4)\n",
      "(1593, 4)\n",
      "(1593, 2)\n",
      "Epoch 1/50\n",
      " 1/25 [>.............................] - ETA: 0s - loss: 0.4640 - accuracy: 0.8281WARNING:tensorflow:Callbacks method `on_test_batch_begin` is slow compared to the batch time (batch time: 0.0000s vs `on_test_batch_begin` time: 0.0010s). Check your callbacks.\n"
     ]
    },
    {
     "name": "stderr",
     "output_type": "stream",
     "text": [
      "04/06/2021 01:40:43 PM - WARNING - Callbacks method `on_test_batch_begin` is slow compared to the batch time (batch time: 0.0000s vs `on_test_batch_begin` time: 0.0010s). Check your callbacks.\n"
     ]
    },
    {
     "name": "stdout",
     "output_type": "stream",
     "text": [
      "25/25 [==============================] - 0s 5ms/step - loss: 0.5871 - accuracy: 0.7502 - val_loss: 0.5709 - val_accuracy: 0.7444\n",
      "Epoch 2/50\n",
      "25/25 [==============================] - 0s 1ms/step - loss: 0.5825 - accuracy: 0.7489 - val_loss: 0.5649 - val_accuracy: 0.7444\n",
      "Epoch 3/50\n",
      "25/25 [==============================] - 0s 1ms/step - loss: 0.5662 - accuracy: 0.7564 - val_loss: 0.5632 - val_accuracy: 0.7444\n"
     ]
    },
    {
     "name": "stderr",
     "output_type": "stream",
     "text": [
      "\n",
      " 37%|███▋      | 11/30 [00:08<00:14,  1.34it/s]\u001b[A04/06/2021 01:40:43 PM - INFO - Getting Keras datasets\n",
      "04/06/2021 01:40:43 PM - INFO - Compling Keras model\n",
      "04/06/2021 01:40:43 PM - INFO - Architecture:[16, 16, 64, 16, 64, 16],relu,adamax,4\n"
     ]
    },
    {
     "name": "stdout",
     "output_type": "stream",
     "text": [
      "Test loss: 0.5632110238075256\n",
      "Test accuracy: 0.7443609237670898\n",
      "(1593,)\n",
      "(1593, 4)\n",
      "(1593, 2)\n",
      "(1593, 4)\n",
      "(1593, 4)\n",
      "(1593, 2)\n",
      "Epoch 1/50\n",
      "25/25 [==============================] - 0s 5ms/step - loss: 0.6615 - accuracy: 0.7546 - val_loss: 0.6440 - val_accuracy: 0.7444\n",
      "Epoch 2/50\n",
      "25/25 [==============================] - 0s 1ms/step - loss: 0.6166 - accuracy: 0.7571 - val_loss: 0.6042 - val_accuracy: 0.7444\n",
      "Epoch 3/50\n",
      "25/25 [==============================] - 0s 1ms/step - loss: 0.5900 - accuracy: 0.7571 - val_loss: 0.5784 - val_accuracy: 0.7444\n"
     ]
    },
    {
     "name": "stderr",
     "output_type": "stream",
     "text": [
      "\n",
      " 40%|████      | 12/30 [00:09<00:14,  1.26it/s]\u001b[A04/06/2021 01:40:44 PM - INFO - Getting Keras datasets\n",
      "04/06/2021 01:40:44 PM - INFO - Compling Keras model\n",
      "04/06/2021 01:40:44 PM - INFO - Architecture:[32, 128, 64, 32, 128, 128],relu,adam,3\n"
     ]
    },
    {
     "name": "stdout",
     "output_type": "stream",
     "text": [
      "Test loss: 0.5783621668815613\n",
      "Test accuracy: 0.7443609237670898\n",
      "(1593,)\n",
      "(1593, 4)\n",
      "(1593, 2)\n",
      "(1593, 4)\n",
      "(1593, 4)\n",
      "(1593, 2)\n",
      "Epoch 1/50\n",
      "25/25 [==============================] - 0s 5ms/step - loss: 0.6329 - accuracy: 0.7307 - val_loss: 0.6184 - val_accuracy: 0.7444\n",
      "Epoch 2/50\n",
      "25/25 [==============================] - 0s 1ms/step - loss: 0.5901 - accuracy: 0.7571 - val_loss: 0.5713 - val_accuracy: 0.7444\n",
      "Epoch 3/50\n",
      "25/25 [==============================] - 0s 2ms/step - loss: 0.5415 - accuracy: 0.7583 - val_loss: 0.4853 - val_accuracy: 0.7444\n",
      "Epoch 4/50\n",
      "25/25 [==============================] - 0s 2ms/step - loss: 0.4518 - accuracy: 0.7954 - val_loss: 0.3651 - val_accuracy: 0.8195\n",
      "Epoch 5/50\n",
      "25/25 [==============================] - 0s 2ms/step - loss: 0.3837 - accuracy: 0.8267 - val_loss: 0.2890 - val_accuracy: 0.8722\n",
      "Epoch 6/50\n",
      "25/25 [==============================] - 0s 1ms/step - loss: 0.3306 - accuracy: 0.8449 - val_loss: 0.2557 - val_accuracy: 0.8847\n",
      "Epoch 7/50\n",
      "25/25 [==============================] - 0s 1ms/step - loss: 0.3123 - accuracy: 0.8575 - val_loss: 0.2478 - val_accuracy: 0.8897\n",
      "Epoch 8/50\n",
      "25/25 [==============================] - 0s 1ms/step - loss: 0.3016 - accuracy: 0.8650 - val_loss: 0.2482 - val_accuracy: 0.8872\n",
      "Test loss: 0.2481614500284195\n",
      "Test accuracy: 0.8872180581092834\n"
     ]
    },
    {
     "name": "stderr",
     "output_type": "stream",
     "text": [
      "\n",
      " 43%|████▎     | 13/30 [00:10<00:14,  1.21it/s]\u001b[A04/06/2021 01:40:45 PM - INFO - Getting Keras datasets\n",
      "04/06/2021 01:40:45 PM - INFO - Compling Keras model\n",
      "04/06/2021 01:40:45 PM - INFO - Architecture:[128, 64, 64, 64, 16, 32],sigmoid,adamax,2\n"
     ]
    },
    {
     "name": "stdout",
     "output_type": "stream",
     "text": [
      "(1593,)\n",
      "(1593, 4)\n",
      "(1593, 2)\n",
      "(1593, 4)\n",
      "(1593, 4)\n",
      "(1593, 2)\n",
      "Epoch 1/50\n",
      "25/25 [==============================] - 0s 5ms/step - loss: 0.5670 - accuracy: 0.7546 - val_loss: 0.5666 - val_accuracy: 0.7444\n",
      "Epoch 2/50\n",
      "25/25 [==============================] - 0s 1ms/step - loss: 0.5781 - accuracy: 0.7489 - val_loss: 0.5658 - val_accuracy: 0.7444\n",
      "Epoch 3/50\n",
      "25/25 [==============================] - 0s 1ms/step - loss: 0.5574 - accuracy: 0.7502 - val_loss: 0.5689 - val_accuracy: 0.7444\n"
     ]
    },
    {
     "name": "stderr",
     "output_type": "stream",
     "text": [
      "\n",
      " 47%|████▋     | 14/30 [00:10<00:12,  1.31it/s]\u001b[A04/06/2021 01:40:46 PM - INFO - Getting Keras datasets\n",
      "04/06/2021 01:40:46 PM - INFO - Compling Keras model\n",
      "04/06/2021 01:40:46 PM - INFO - Architecture:[64, 64, 64, 32, 128, 64],sigmoid,adamax,1\n"
     ]
    },
    {
     "name": "stdout",
     "output_type": "stream",
     "text": [
      "Test loss: 0.5689237713813782\n",
      "Test accuracy: 0.7443609237670898\n",
      "(1593,)\n",
      "(1593, 4)\n",
      "(1593, 2)\n",
      "(1593, 4)\n",
      "(1593, 4)\n",
      "(1593, 2)\n",
      "Epoch 1/50\n",
      "25/25 [==============================] - 0s 4ms/step - loss: 0.7924 - accuracy: 0.4476 - val_loss: 0.6203 - val_accuracy: 0.7444\n",
      "Epoch 2/50\n",
      "25/25 [==============================] - 0s 1ms/step - loss: 0.6072 - accuracy: 0.7056 - val_loss: 0.5748 - val_accuracy: 0.7444\n",
      "Epoch 3/50\n",
      "25/25 [==============================] - 0s 1ms/step - loss: 0.5816 - accuracy: 0.7464 - val_loss: 0.5721 - val_accuracy: 0.7444\n",
      "Test loss: 0.5721239447593689\n",
      "Test accuracy: 0.7443609237670898\n"
     ]
    },
    {
     "name": "stderr",
     "output_type": "stream",
     "text": [
      "\n",
      " 50%|█████     | 15/30 [00:11<00:11,  1.35it/s]\u001b[A04/06/2021 01:40:46 PM - INFO - Getting Keras datasets\n",
      "04/06/2021 01:40:46 PM - INFO - Compling Keras model\n",
      "04/06/2021 01:40:46 PM - INFO - Architecture:[128, 64, 64, 32, 64, 64],softmax,adamax,4\n"
     ]
    },
    {
     "name": "stdout",
     "output_type": "stream",
     "text": [
      "(1593,)\n",
      "(1593, 4)\n",
      "(1593, 2)\n",
      "(1593, 4)\n",
      "(1593, 4)\n",
      "(1593, 2)\n",
      "Epoch 1/50\n",
      "25/25 [==============================] - 0s 6ms/step - loss: 0.7029 - accuracy: 0.3315 - val_loss: 0.6925 - val_accuracy: 0.7444\n",
      "Epoch 2/50\n",
      "25/25 [==============================] - 0s 2ms/step - loss: 0.6842 - accuracy: 0.6623 - val_loss: 0.6757 - val_accuracy: 0.7444\n",
      "Epoch 3/50\n",
      "25/25 [==============================] - 0s 2ms/step - loss: 0.6671 - accuracy: 0.7546 - val_loss: 0.6607 - val_accuracy: 0.7444\n"
     ]
    },
    {
     "name": "stderr",
     "output_type": "stream",
     "text": [
      "\n",
      " 53%|█████▎    | 16/30 [00:12<00:10,  1.30it/s]\u001b[A04/06/2021 01:40:47 PM - INFO - Getting Keras datasets\n",
      "04/06/2021 01:40:47 PM - INFO - Compling Keras model\n",
      "04/06/2021 01:40:47 PM - INFO - Architecture:[16, 16, 128, 16, 64, 32],softmax,adamax,5\n"
     ]
    },
    {
     "name": "stdout",
     "output_type": "stream",
     "text": [
      "Test loss: 0.6607023477554321\n",
      "Test accuracy: 0.7443609237670898\n",
      "(1593,)\n",
      "(1593, 4)\n",
      "(1593, 2)\n",
      "(1593, 4)\n",
      "(1593, 4)\n",
      "(1593, 2)\n",
      "Epoch 1/50\n",
      "25/25 [==============================] - 0s 6ms/step - loss: 0.6730 - accuracy: 0.7571 - val_loss: 0.6647 - val_accuracy: 0.7444\n",
      "Epoch 2/50\n",
      "25/25 [==============================] - 0s 2ms/step - loss: 0.6560 - accuracy: 0.7571 - val_loss: 0.6513 - val_accuracy: 0.7444\n",
      "Epoch 3/50\n",
      "25/25 [==============================] - 0s 2ms/step - loss: 0.6435 - accuracy: 0.7571 - val_loss: 0.6401 - val_accuracy: 0.7444\n"
     ]
    },
    {
     "name": "stderr",
     "output_type": "stream",
     "text": [
      "\n",
      " 57%|█████▋    | 17/30 [00:13<00:10,  1.18it/s]\u001b[A04/06/2021 01:40:48 PM - INFO - Getting Keras datasets\n",
      "04/06/2021 01:40:48 PM - INFO - Compling Keras model\n",
      "04/06/2021 01:40:48 PM - INFO - Architecture:[16, 16, 32, 16, 64, 64],relu,adamax,3\n"
     ]
    },
    {
     "name": "stdout",
     "output_type": "stream",
     "text": [
      "Test loss: 0.6401031613349915\n",
      "Test accuracy: 0.7443609237670898\n",
      "(1593,)\n",
      "(1593, 4)\n",
      "(1593, 2)\n",
      "(1593, 4)\n",
      "(1593, 4)\n",
      "(1593, 2)\n",
      "Epoch 1/50\n",
      "25/25 [==============================] - 0s 5ms/step - loss: 0.6396 - accuracy: 0.7489 - val_loss: 0.6220 - val_accuracy: 0.7444\n",
      "Epoch 2/50\n",
      "25/25 [==============================] - 0s 1ms/step - loss: 0.6130 - accuracy: 0.7571 - val_loss: 0.6065 - val_accuracy: 0.7444\n",
      "Epoch 3/50\n",
      "25/25 [==============================] - 0s 1ms/step - loss: 0.5947 - accuracy: 0.7571 - val_loss: 0.5967 - val_accuracy: 0.7444\n",
      "Test loss: 0.5967058539390564\n",
      "Test accuracy: 0.7443609237670898\n"
     ]
    },
    {
     "name": "stderr",
     "output_type": "stream",
     "text": [
      "\n",
      " 60%|██████    | 18/30 [00:14<00:09,  1.25it/s]\u001b[A04/06/2021 01:40:49 PM - INFO - Getting Keras datasets\n",
      "04/06/2021 01:40:49 PM - INFO - Compling Keras model\n",
      "04/06/2021 01:40:49 PM - INFO - Architecture:[64, 32, 32, 16, 16, 128],softmax,adamax,1\n"
     ]
    },
    {
     "name": "stdout",
     "output_type": "stream",
     "text": [
      "(1593,)\n",
      "(1593, 4)\n",
      "(1593, 2)\n",
      "(1593, 4)\n",
      "(1593, 4)\n",
      "(1593, 2)\n",
      "Epoch 1/50\n",
      "25/25 [==============================] - 0s 4ms/step - loss: 0.6923 - accuracy: 0.5223 - val_loss: 0.6829 - val_accuracy: 0.7444\n",
      "Epoch 2/50\n",
      "25/25 [==============================] - 0s 1ms/step - loss: 0.6734 - accuracy: 0.7571 - val_loss: 0.6665 - val_accuracy: 0.7444\n",
      "Epoch 3/50\n",
      "25/25 [==============================] - 0s 1ms/step - loss: 0.6570 - accuracy: 0.7571 - val_loss: 0.6520 - val_accuracy: 0.7444\n",
      "Test loss: 0.6519783139228821\n",
      "Test accuracy: 0.7443609237670898\n"
     ]
    },
    {
     "name": "stderr",
     "output_type": "stream",
     "text": [
      "\n",
      " 63%|██████▎   | 19/30 [00:14<00:08,  1.37it/s]\u001b[A04/06/2021 01:40:49 PM - INFO - Getting Keras datasets\n",
      "04/06/2021 01:40:49 PM - INFO - Compling Keras model\n",
      "04/06/2021 01:40:49 PM - INFO - Architecture:[32, 16, 16, 128, 32, 128],softmax,adam,4\n"
     ]
    },
    {
     "name": "stdout",
     "output_type": "stream",
     "text": [
      "(1593,)\n",
      "(1593, 4)\n",
      "(1593, 2)\n",
      "(1593, 4)\n",
      "(1593, 4)\n",
      "(1593, 2)\n",
      "Epoch 1/50\n",
      "25/25 [==============================] - 0s 5ms/step - loss: 0.6842 - accuracy: 0.6773 - val_loss: 0.6723 - val_accuracy: 0.7444\n",
      "Epoch 2/50\n",
      "25/25 [==============================] - 0s 2ms/step - loss: 0.6602 - accuracy: 0.7571 - val_loss: 0.6513 - val_accuracy: 0.7444\n",
      "Epoch 3/50\n",
      "25/25 [==============================] - 0s 2ms/step - loss: 0.6396 - accuracy: 0.7571 - val_loss: 0.6340 - val_accuracy: 0.7444\n"
     ]
    },
    {
     "name": "stderr",
     "output_type": "stream",
     "text": [
      "\n",
      " 67%|██████▋   | 20/30 [00:15<00:07,  1.26it/s]\u001b[A04/06/2021 01:40:50 PM - INFO - Getting Keras datasets\n",
      "04/06/2021 01:40:50 PM - INFO - Compling Keras model\n",
      "04/06/2021 01:40:50 PM - INFO - Architecture:[128, 64, 128, 16, 16, 128],sigmoid,adam,5\n"
     ]
    },
    {
     "name": "stdout",
     "output_type": "stream",
     "text": [
      "Test loss: 0.6339849233627319\n",
      "Test accuracy: 0.7443609237670898\n",
      "(1593,)\n",
      "(1593, 4)\n",
      "(1593, 2)\n",
      "(1593, 4)\n",
      "(1593, 4)\n",
      "(1593, 2)\n",
      "Epoch 1/50\n",
      "25/25 [==============================] - 0s 6ms/step - loss: 0.5835 - accuracy: 0.7439 - val_loss: 0.5695 - val_accuracy: 0.7444\n",
      "Epoch 2/50\n",
      "25/25 [==============================] - 0s 2ms/step - loss: 0.5627 - accuracy: 0.7527 - val_loss: 0.5695 - val_accuracy: 0.7444\n",
      "Epoch 3/50\n",
      "25/25 [==============================] - 0s 2ms/step - loss: 0.5639 - accuracy: 0.7546 - val_loss: 0.5685 - val_accuracy: 0.7444\n"
     ]
    },
    {
     "name": "stderr",
     "output_type": "stream",
     "text": [
      "\n",
      " 70%|███████   | 21/30 [00:16<00:07,  1.24it/s]\u001b[A04/06/2021 01:40:51 PM - INFO - Getting Keras datasets\n",
      "04/06/2021 01:40:51 PM - INFO - Compling Keras model\n",
      "04/06/2021 01:40:51 PM - INFO - Architecture:[32, 64, 128, 16, 16, 128],sigmoid,adam,4\n"
     ]
    },
    {
     "name": "stdout",
     "output_type": "stream",
     "text": [
      "Test loss: 0.5685464143753052\n",
      "Test accuracy: 0.7443609237670898\n",
      "(1593,)\n",
      "(1593, 4)\n",
      "(1593, 2)\n",
      "(1593, 4)\n",
      "(1593, 4)\n",
      "(1593, 2)\n",
      "Epoch 1/50\n",
      "25/25 [==============================] - 0s 11ms/step - loss: 0.6436 - accuracy: 0.6748 - val_loss: 0.5907 - val_accuracy: 0.7444\n",
      "Epoch 2/50\n",
      "25/25 [==============================] - 0s 2ms/step - loss: 0.5948 - accuracy: 0.7502 - val_loss: 0.5682 - val_accuracy: 0.7444\n",
      "Epoch 3/50\n",
      "25/25 [==============================] - 0s 2ms/step - loss: 0.5893 - accuracy: 0.7433 - val_loss: 0.5695 - val_accuracy: 0.7444\n"
     ]
    },
    {
     "name": "stderr",
     "output_type": "stream",
     "text": [
      "\n",
      " 73%|███████▎  | 22/30 [00:17<00:06,  1.19it/s]\u001b[A04/06/2021 01:40:52 PM - INFO - Getting Keras datasets\n",
      "04/06/2021 01:40:52 PM - INFO - Compling Keras model\n",
      "04/06/2021 01:40:52 PM - INFO - Architecture:[16, 16, 32, 32, 32, 64],relu,adamax,4\n"
     ]
    },
    {
     "name": "stdout",
     "output_type": "stream",
     "text": [
      "Test loss: 0.569527268409729\n",
      "Test accuracy: 0.7443609237670898\n",
      "(1593,)\n",
      "(1593, 4)\n",
      "(1593, 2)\n",
      "(1593, 4)\n",
      "(1593, 4)\n",
      "(1593, 2)\n",
      "Epoch 1/50\n",
      " 1/25 [>.............................] - ETA: 0s - loss: 0.6939 - accuracy: 0.5781WARNING:tensorflow:Callbacks method `on_train_batch_end` is slow compared to the batch time (batch time: 0.0000s vs `on_train_batch_end` time: 0.0010s). Check your callbacks.\n"
     ]
    },
    {
     "name": "stderr",
     "output_type": "stream",
     "text": [
      "04/06/2021 01:40:53 PM - WARNING - Callbacks method `on_train_batch_end` is slow compared to the batch time (batch time: 0.0000s vs `on_train_batch_end` time: 0.0010s). Check your callbacks.\n"
     ]
    },
    {
     "name": "stdout",
     "output_type": "stream",
     "text": [
      "25/25 [==============================] - 0s 5ms/step - loss: 0.6496 - accuracy: 0.6930 - val_loss: 0.6170 - val_accuracy: 0.7444\n",
      "Epoch 2/50\n",
      "25/25 [==============================] - 0s 1ms/step - loss: 0.5976 - accuracy: 0.7571 - val_loss: 0.5918 - val_accuracy: 0.7444\n",
      "Epoch 3/50\n",
      "25/25 [==============================] - 0s 2ms/step - loss: 0.5871 - accuracy: 0.7583 - val_loss: 0.5772 - val_accuracy: 0.7444\n"
     ]
    },
    {
     "name": "stderr",
     "output_type": "stream",
     "text": [
      "\n",
      " 77%|███████▋  | 23/30 [00:18<00:05,  1.23it/s]\u001b[A04/06/2021 01:40:53 PM - INFO - Getting Keras datasets\n",
      "04/06/2021 01:40:53 PM - INFO - Compling Keras model\n",
      "04/06/2021 01:40:53 PM - INFO - Architecture:[128, 32, 64, 16, 32, 128],relu,adamax,2\n"
     ]
    },
    {
     "name": "stdout",
     "output_type": "stream",
     "text": [
      "Test loss: 0.5771865844726562\n",
      "Test accuracy: 0.7443609237670898\n",
      "(1593,)\n",
      "(1593, 4)\n",
      "(1593, 2)\n",
      "(1593, 4)\n",
      "(1593, 4)\n",
      "(1593, 2)\n",
      "Epoch 1/50\n",
      " 1/25 [>.............................] - ETA: 0s - loss: 0.6577 - accuracy: 0.7812WARNING:tensorflow:Callbacks method `on_test_batch_end` is slow compared to the batch time (batch time: 0.0000s vs `on_test_batch_end` time: 0.0010s). Check your callbacks.\n"
     ]
    },
    {
     "name": "stderr",
     "output_type": "stream",
     "text": [
      "04/06/2021 01:40:53 PM - WARNING - Callbacks method `on_test_batch_end` is slow compared to the batch time (batch time: 0.0000s vs `on_test_batch_end` time: 0.0010s). Check your callbacks.\n"
     ]
    },
    {
     "name": "stdout",
     "output_type": "stream",
     "text": [
      "25/25 [==============================] - 0s 5ms/step - loss: 0.6204 - accuracy: 0.7546 - val_loss: 0.6091 - val_accuracy: 0.7444\n",
      "Epoch 2/50\n",
      "25/25 [==============================] - 0s 1ms/step - loss: 0.5940 - accuracy: 0.7571 - val_loss: 0.5930 - val_accuracy: 0.7444\n",
      "Epoch 3/50\n",
      "25/25 [==============================] - 0s 1ms/step - loss: 0.5774 - accuracy: 0.7571 - val_loss: 0.5702 - val_accuracy: 0.7444\n"
     ]
    },
    {
     "name": "stderr",
     "output_type": "stream",
     "text": [
      "\n",
      " 80%|████████  | 24/30 [00:18<00:04,  1.32it/s]\u001b[A04/06/2021 01:40:53 PM - INFO - Getting Keras datasets\n",
      "04/06/2021 01:40:53 PM - INFO - Compling Keras model\n",
      "04/06/2021 01:40:53 PM - INFO - Architecture:[64, 64, 128, 64, 16, 32],relu,adam,3\n"
     ]
    },
    {
     "name": "stdout",
     "output_type": "stream",
     "text": [
      "Test loss: 0.5701777338981628\n",
      "Test accuracy: 0.7443609237670898\n",
      "(1593,)\n",
      "(1593, 4)\n",
      "(1593, 2)\n",
      "(1593, 4)\n",
      "(1593, 4)\n",
      "(1593, 2)\n",
      "Epoch 1/50\n",
      " 1/25 [>.............................] - ETA: 0s - loss: 0.6973 - accuracy: 0.5000WARNING:tensorflow:Callbacks method `on_test_batch_end` is slow compared to the batch time (batch time: 0.0000s vs `on_test_batch_end` time: 0.0010s). Check your callbacks.\n"
     ]
    },
    {
     "name": "stderr",
     "output_type": "stream",
     "text": [
      "04/06/2021 01:40:54 PM - WARNING - Callbacks method `on_test_batch_end` is slow compared to the batch time (batch time: 0.0000s vs `on_test_batch_end` time: 0.0010s). Check your callbacks.\n"
     ]
    },
    {
     "name": "stdout",
     "output_type": "stream",
     "text": [
      "25/25 [==============================] - 0s 5ms/step - loss: 0.6253 - accuracy: 0.7370 - val_loss: 0.5993 - val_accuracy: 0.7444\n",
      "Epoch 2/50\n",
      "25/25 [==============================] - 0s 2ms/step - loss: 0.5635 - accuracy: 0.7571 - val_loss: 0.5283 - val_accuracy: 0.7444\n",
      "Epoch 3/50\n",
      "25/25 [==============================] - 0s 2ms/step - loss: 0.4914 - accuracy: 0.7740 - val_loss: 0.3986 - val_accuracy: 0.8421\n",
      "Epoch 4/50\n",
      "25/25 [==============================] - 0s 2ms/step - loss: 0.3794 - accuracy: 0.8280 - val_loss: 0.2863 - val_accuracy: 0.8797\n",
      "Epoch 5/50\n",
      "25/25 [==============================] - 0s 1ms/step - loss: 0.3188 - accuracy: 0.8519 - val_loss: 0.2572 - val_accuracy: 0.8847\n",
      "Epoch 6/50\n",
      "25/25 [==============================] - 0s 1ms/step - loss: 0.2998 - accuracy: 0.8556 - val_loss: 0.2386 - val_accuracy: 0.8972\n",
      "Test loss: 0.2386055588722229\n",
      "Test accuracy: 0.897243082523346\n"
     ]
    },
    {
     "name": "stderr",
     "output_type": "stream",
     "text": [
      "\n",
      " 83%|████████▎ | 25/30 [00:19<00:04,  1.20it/s]\u001b[A04/06/2021 01:40:54 PM - INFO - Getting Keras datasets\n",
      "04/06/2021 01:40:54 PM - INFO - Compling Keras model\n",
      "04/06/2021 01:40:54 PM - INFO - Architecture:[32, 64, 64, 16, 64, 16],sigmoid,adam,2\n"
     ]
    },
    {
     "name": "stdout",
     "output_type": "stream",
     "text": [
      "(1593,)\n",
      "(1593, 4)\n",
      "(1593, 2)\n",
      "(1593, 4)\n",
      "(1593, 4)\n",
      "(1593, 2)\n",
      "Epoch 1/50\n",
      "25/25 [==============================] - 0s 5ms/step - loss: 0.6221 - accuracy: 0.6949 - val_loss: 0.5778 - val_accuracy: 0.7444\n",
      "Epoch 2/50\n",
      "25/25 [==============================] - 0s 1ms/step - loss: 0.5760 - accuracy: 0.7558 - val_loss: 0.5676 - val_accuracy: 0.7444\n",
      "Epoch 3/50\n",
      "25/25 [==============================] - 0s 1ms/step - loss: 0.5713 - accuracy: 0.7514 - val_loss: 0.5682 - val_accuracy: 0.7444\n"
     ]
    },
    {
     "name": "stderr",
     "output_type": "stream",
     "text": [
      "\n",
      " 87%|████████▋ | 26/30 [00:20<00:03,  1.29it/s]\u001b[A04/06/2021 01:40:55 PM - INFO - Getting Keras datasets\n",
      "04/06/2021 01:40:55 PM - INFO - Compling Keras model\n",
      "04/06/2021 01:40:55 PM - INFO - Architecture:[64, 16, 32, 16, 64, 128],sigmoid,adamax,5\n"
     ]
    },
    {
     "name": "stdout",
     "output_type": "stream",
     "text": [
      "Test loss: 0.5682154893875122\n",
      "Test accuracy: 0.7443609237670898\n",
      "(1593,)\n",
      "(1593, 4)\n",
      "(1593, 2)\n",
      "(1593, 4)\n",
      "(1593, 4)\n",
      "(1593, 2)\n",
      "Epoch 1/50\n",
      "25/25 [==============================] - 0s 10ms/step - loss: 0.6067 - accuracy: 0.6974 - val_loss: 0.5729 - val_accuracy: 0.7444\n",
      "Epoch 2/50\n",
      "25/25 [==============================] - 0s 1ms/step - loss: 0.5777 - accuracy: 0.7533 - val_loss: 0.5712 - val_accuracy: 0.7444\n",
      "Epoch 3/50\n",
      "25/25 [==============================] - 0s 1ms/step - loss: 0.5800 - accuracy: 0.7514 - val_loss: 0.5694 - val_accuracy: 0.7444\n"
     ]
    },
    {
     "name": "stderr",
     "output_type": "stream",
     "text": [
      "\n",
      " 90%|█████████ | 27/30 [00:21<00:02,  1.21it/s]\u001b[A04/06/2021 01:40:56 PM - INFO - Getting Keras datasets\n",
      "04/06/2021 01:40:56 PM - INFO - Compling Keras model\n",
      "04/06/2021 01:40:56 PM - INFO - Architecture:[64, 16, 16, 64, 16, 128],softmax,adamax,4\n"
     ]
    },
    {
     "name": "stdout",
     "output_type": "stream",
     "text": [
      "Test loss: 0.5693802833557129\n",
      "Test accuracy: 0.7443609237670898\n",
      "(1593,)\n",
      "(1593, 4)\n",
      "(1593, 2)\n",
      "(1593, 4)\n",
      "(1593, 4)\n",
      "(1593, 2)\n",
      "Epoch 1/50\n",
      "25/25 [==============================] - 0s 5ms/step - loss: 0.6891 - accuracy: 0.5932 - val_loss: 0.6803 - val_accuracy: 0.7444\n",
      "Epoch 2/50\n",
      "25/25 [==============================] - 0s 1ms/step - loss: 0.6722 - accuracy: 0.7571 - val_loss: 0.6656 - val_accuracy: 0.7444\n",
      "Epoch 3/50\n",
      "25/25 [==============================] - 0s 1ms/step - loss: 0.6577 - accuracy: 0.7571 - val_loss: 0.6528 - val_accuracy: 0.7444\n"
     ]
    },
    {
     "name": "stderr",
     "output_type": "stream",
     "text": [
      "\n",
      " 93%|█████████▎| 28/30 [00:22<00:01,  1.24it/s]\u001b[A04/06/2021 01:40:57 PM - INFO - Getting Keras datasets\n",
      "04/06/2021 01:40:57 PM - INFO - Compling Keras model\n",
      "04/06/2021 01:40:57 PM - INFO - Architecture:[64, 16, 128, 32, 64, 128],softmax,adamax,3\n"
     ]
    },
    {
     "name": "stdout",
     "output_type": "stream",
     "text": [
      "Test loss: 0.6528381705284119\n",
      "Test accuracy: 0.7443609237670898\n",
      "(1593,)\n",
      "(1593, 4)\n",
      "(1593, 2)\n",
      "(1593, 4)\n",
      "(1593, 4)\n",
      "(1593, 2)\n",
      "Epoch 1/50\n",
      "25/25 [==============================] - 0s 5ms/step - loss: 0.6803 - accuracy: 0.7558 - val_loss: 0.6721 - val_accuracy: 0.7444\n",
      "Epoch 2/50\n",
      "25/25 [==============================] - 0s 1ms/step - loss: 0.6642 - accuracy: 0.7571 - val_loss: 0.6586 - val_accuracy: 0.7444\n",
      "Epoch 3/50\n",
      "25/25 [==============================] - 0s 1ms/step - loss: 0.6507 - accuracy: 0.7571 - val_loss: 0.6464 - val_accuracy: 0.7444\n"
     ]
    },
    {
     "name": "stderr",
     "output_type": "stream",
     "text": [
      "\n",
      " 97%|█████████▋| 29/30 [00:22<00:00,  1.29it/s]\u001b[A04/06/2021 01:40:58 PM - INFO - Getting Keras datasets\n",
      "04/06/2021 01:40:58 PM - INFO - Compling Keras model\n",
      "04/06/2021 01:40:58 PM - INFO - Architecture:[128, 128, 64, 128, 32, 16],relu,adam,2\n"
     ]
    },
    {
     "name": "stdout",
     "output_type": "stream",
     "text": [
      "Test loss: 0.6463702321052551\n",
      "Test accuracy: 0.7443609237670898\n",
      "(1593,)\n",
      "(1593, 4)\n",
      "(1593, 2)\n",
      "(1593, 4)\n",
      "(1593, 4)\n",
      "(1593, 2)\n",
      "Epoch 1/50\n",
      "25/25 [==============================] - 0s 5ms/step - loss: 0.6077 - accuracy: 0.7458 - val_loss: 0.5917 - val_accuracy: 0.7444\n",
      "Epoch 2/50\n",
      "25/25 [==============================] - 0s 2ms/step - loss: 0.5466 - accuracy: 0.7589 - val_loss: 0.4945 - val_accuracy: 0.7870\n",
      "Epoch 3/50\n",
      "25/25 [==============================] - 0s 2ms/step - loss: 0.4437 - accuracy: 0.7935 - val_loss: 0.3719 - val_accuracy: 0.8421\n",
      "Epoch 4/50\n",
      "25/25 [==============================] - 0s 2ms/step - loss: 0.3393 - accuracy: 0.8619 - val_loss: 0.2772 - val_accuracy: 0.8947\n",
      "Epoch 5/50\n",
      "25/25 [==============================] - 0s 1ms/step - loss: 0.2903 - accuracy: 0.8707 - val_loss: 0.2458 - val_accuracy: 0.8972\n",
      "Epoch 6/50\n",
      "25/25 [==============================] - 0s 1ms/step - loss: 0.2763 - accuracy: 0.8657 - val_loss: 0.2562 - val_accuracy: 0.8797\n",
      "Epoch 7/50\n",
      "25/25 [==============================] - 0s 2ms/step - loss: 0.2609 - accuracy: 0.8826 - val_loss: 0.2306 - val_accuracy: 0.8997\n",
      "Test loss: 0.23060929775238037\n",
      "Test accuracy: 0.8997493982315063\n"
     ]
    },
    {
     "name": "stderr",
     "output_type": "stream",
     "text": [
      "\n",
      "100%|██████████| 30/30 [00:23<00:00,  1.25it/s]\u001b[A\n",
      "04/06/2021 01:40:58 PM - INFO - Generation average: 76.35%\n",
      "04/06/2021 01:40:58 PM - INFO - --------------------------------------------------------------------------------\n",
      "04/06/2021 01:40:58 PM - INFO - ***Now in generation 2 of 50***\n",
      "04/06/2021 01:40:58 PM - INFO - --------------------------------------------------------------------------------\n",
      "04/06/2021 01:40:58 PM - INFO - {'nb_layers': 2, 'activation': 'relu', 'optimizer': 'adam', 'nb_neurons': [128, 128, 64, 128, 32, 16]}\n",
      "04/06/2021 01:40:58 PM - INFO - Acc: 89.97%\n",
      "04/06/2021 01:40:58 PM - INFO - UniID: 30\n",
      "04/06/2021 01:40:58 PM - INFO - Mom and Dad: 0 0\n",
      "04/06/2021 01:40:59 PM - INFO - Gen: 1\n",
      "04/06/2021 01:40:59 PM - INFO - Hash: 55f085a3b2c36ee6602a40b975eb1cc3\n",
      "04/06/2021 01:40:59 PM - INFO - {'nb_layers': 3, 'activation': 'relu', 'optimizer': 'adam', 'nb_neurons': [64, 64, 128, 64, 16, 32]}\n",
      "04/06/2021 01:40:59 PM - INFO - Acc: 89.72%\n",
      "04/06/2021 01:40:59 PM - INFO - UniID: 25\n",
      "04/06/2021 01:40:59 PM - INFO - Mom and Dad: 0 0\n",
      "04/06/2021 01:40:59 PM - INFO - Gen: 1\n",
      "04/06/2021 01:40:59 PM - INFO - Hash: 23632d6d0523100e1c582ad35965a89c\n",
      "04/06/2021 01:40:59 PM - INFO - {'nb_layers': 3, 'activation': 'relu', 'optimizer': 'adam', 'nb_neurons': [32, 128, 64, 32, 128, 128]}\n",
      "04/06/2021 01:40:59 PM - INFO - Acc: 88.72%\n",
      "04/06/2021 01:40:59 PM - INFO - UniID: 13\n",
      "04/06/2021 01:40:59 PM - INFO - Mom and Dad: 0 0\n",
      "04/06/2021 01:40:59 PM - INFO - Gen: 1\n",
      "04/06/2021 01:40:59 PM - INFO - Hash: 9a555e090cd4dbe45bdefbdb56700d0c\n",
      "04/06/2021 01:40:59 PM - INFO - {'nb_layers': 5, 'activation': 'relu', 'optimizer': 'adam', 'nb_neurons': [128, 128, 32, 32, 32, 128]}\n",
      "04/06/2021 01:40:59 PM - INFO - Acc: 86.72%\n",
      "04/06/2021 01:40:59 PM - INFO - UniID: 8\n",
      "04/06/2021 01:40:59 PM - INFO - Mom and Dad: 0 0\n",
      "04/06/2021 01:40:59 PM - INFO - Gen: 1\n",
      "04/06/2021 01:40:59 PM - INFO - Hash: f09cb5dba92e20f29f76b678099f240f\n",
      "04/06/2021 01:40:59 PM - INFO - {'nb_layers': 1, 'activation': 'sigmoid', 'optimizer': 'adam', 'nb_neurons': [16, 32, 32, 32, 32, 128]}\n",
      "04/06/2021 01:40:59 PM - INFO - Acc: 0.00%\n",
      "04/06/2021 01:40:59 PM - INFO - UniID: 5\n",
      "04/06/2021 01:40:59 PM - INFO - Mom and Dad: 0 0\n",
      "04/06/2021 01:40:59 PM - INFO - Gen: 2\n",
      "04/06/2021 01:40:59 PM - INFO - Hash: 23089ed17a7e7301cb68e8b60f554870\n",
      "04/06/2021 01:40:59 PM - INFO - {'nb_layers': 4, 'activation': 'relu', 'optimizer': 'adamax', 'nb_neurons': [32, 16, 32, 128, 32, 16]}\n",
      "04/06/2021 01:40:59 PM - INFO - Acc: 0.00%\n",
      "04/06/2021 01:40:59 PM - INFO - UniID: 9\n",
      "04/06/2021 01:40:59 PM - INFO - Mom and Dad: 0 0\n",
      "04/06/2021 01:40:59 PM - INFO - Gen: 2\n",
      "04/06/2021 01:40:59 PM - INFO - Hash: 834a683ae259ad748de7d0da1f8395df\n",
      "04/06/2021 01:40:59 PM - INFO - {'nb_layers': 4, 'activation': 'softmax', 'optimizer': 'adam', 'nb_neurons': [32, 16, 16, 64, 32, 128]}\n",
      "04/06/2021 01:40:59 PM - INFO - Acc: 0.00%\n",
      "04/06/2021 01:40:59 PM - INFO - UniID: 20\n",
      "04/06/2021 01:40:59 PM - INFO - Mom and Dad: 0 0\n",
      "04/06/2021 01:40:59 PM - INFO - Gen: 2\n",
      "04/06/2021 01:40:59 PM - INFO - Hash: 797ccb34d71162ad7107aaab536346b4\n",
      "04/06/2021 01:40:59 PM - INFO - {'activation': 'relu', 'nb_layers': 3, 'optimizer': 'adamax', 'nb_neurons': [32, 16, 32, 128, 32, 16]}\n",
      "04/06/2021 01:40:59 PM - INFO - Acc: 0.00%\n",
      "04/06/2021 01:40:59 PM - INFO - UniID: 31\n",
      "04/06/2021 01:40:59 PM - INFO - Mom and Dad: 13 9\n",
      "04/06/2021 01:40:59 PM - INFO - Gen: 2\n",
      "04/06/2021 01:40:59 PM - INFO - Hash: 7968c99ea58f41454890ce59e8f8bccb\n",
      "04/06/2021 01:40:59 PM - INFO - {'activation': 'relu', 'nb_layers': 4, 'optimizer': 'adam', 'nb_neurons': [32, 128, 64, 32, 128, 128]}\n",
      "04/06/2021 01:40:59 PM - INFO - Acc: 0.00%\n",
      "04/06/2021 01:40:59 PM - INFO - UniID: 32\n",
      "04/06/2021 01:40:59 PM - INFO - Mom and Dad: 13 9\n",
      "04/06/2021 01:40:59 PM - INFO - Gen: 2\n",
      "04/06/2021 01:40:59 PM - INFO - Hash: b71d6f127008fb78d316eb825930f408\n",
      "04/06/2021 01:40:59 PM - INFO - {'activation': 'relu', 'nb_layers': 3, 'optimizer': 'adam', 'nb_neurons': [64, 64, 128, 32, 128, 128]}\n",
      "04/06/2021 01:40:59 PM - INFO - Acc: 0.00%\n",
      "04/06/2021 01:40:59 PM - INFO - UniID: 33\n",
      "04/06/2021 01:40:59 PM - INFO - Mom and Dad: 25 13\n",
      "04/06/2021 01:40:59 PM - INFO - Gen: 2\n",
      "04/06/2021 01:40:59 PM - INFO - Hash: 844e41539c556fe66c921ccf1f3bc921\n",
      "04/06/2021 01:40:59 PM - INFO - {'activation': 'relu', 'nb_layers': 3, 'optimizer': 'adam', 'nb_neurons': [32, 128, 32, 64, 16, 32]}\n",
      "04/06/2021 01:40:59 PM - INFO - Acc: 0.00%\n",
      "04/06/2021 01:40:59 PM - INFO - UniID: 34\n",
      "04/06/2021 01:40:59 PM - INFO - Mom and Dad: 25 13\n",
      "04/06/2021 01:40:59 PM - INFO - Gen: 2\n",
      "04/06/2021 01:40:59 PM - INFO - Hash: abd71d6a0af480ea15f122c8c72db64c\n",
      "04/06/2021 01:40:59 PM - INFO - {'activation': 'relu', 'nb_layers': 2, 'optimizer': 'adam', 'nb_neurons': [128, 128, 64, 32, 128, 128]}\n",
      "04/06/2021 01:40:59 PM - INFO - Acc: 0.00%\n",
      "04/06/2021 01:40:59 PM - INFO - UniID: 35\n",
      "04/06/2021 01:40:59 PM - INFO - Mom and Dad: 30 13\n",
      "04/06/2021 01:40:59 PM - INFO - Gen: 2\n",
      "04/06/2021 01:40:59 PM - INFO - Hash: 3c5f2f22451b1266da3b468d44863d05\n",
      "04/06/2021 01:40:59 PM - INFO - {'activation': 'relu', 'nb_layers': 3, 'optimizer': 'adamax', 'nb_neurons': [32, 128, 64, 128, 32, 16]}\n",
      "04/06/2021 01:40:59 PM - INFO - Acc: 0.00%\n",
      "04/06/2021 01:40:59 PM - INFO - UniID: 36\n",
      "04/06/2021 01:40:59 PM - INFO - Mom and Dad: 30 13\n",
      "04/06/2021 01:40:59 PM - INFO - Gen: 2\n",
      "04/06/2021 01:40:59 PM - INFO - Hash: 6562d0f4e53b66388af07690f910d315\n",
      "04/06/2021 01:40:59 PM - INFO - {'activation': 'relu', 'nb_layers': 3, 'optimizer': 'adam', 'nb_neurons': [32, 16, 32, 128, 32, 128]}\n",
      "04/06/2021 01:40:59 PM - INFO - Acc: 0.00%\n",
      "04/06/2021 01:40:59 PM - INFO - UniID: 37\n",
      "04/06/2021 01:40:59 PM - INFO - Mom and Dad: 9 8\n",
      "04/06/2021 01:40:59 PM - INFO - Gen: 2\n",
      "04/06/2021 01:40:59 PM - INFO - Hash: 592a3e28c182fe5ee43b0c2cf60e0863\n",
      "04/06/2021 01:40:59 PM - INFO - {'activation': 'relu', 'nb_layers': 1, 'optimizer': 'adamax', 'nb_neurons': [128, 128, 32, 32, 32, 16]}\n",
      "04/06/2021 01:40:59 PM - INFO - Acc: 0.00%\n",
      "04/06/2021 01:40:59 PM - INFO - UniID: 38\n",
      "04/06/2021 01:40:59 PM - INFO - Mom and Dad: 9 8\n",
      "04/06/2021 01:40:59 PM - INFO - Gen: 2\n",
      "04/06/2021 01:40:59 PM - INFO - Hash: db28e5b2c22d31e55f8edb52a7be5fd1\n",
      "04/06/2021 01:40:59 PM - INFO - {'activation': 'relu', 'nb_layers': 2, 'optimizer': 'adam', 'nb_neurons': [128, 16, 64, 128, 32, 16]}\n",
      "04/06/2021 01:40:59 PM - INFO - Acc: 0.00%\n",
      "04/06/2021 01:40:59 PM - INFO - UniID: 39\n",
      "04/06/2021 01:40:59 PM - INFO - Mom and Dad: 30 8\n",
      "04/06/2021 01:40:59 PM - INFO - Gen: 2\n",
      "04/06/2021 01:40:59 PM - INFO - Hash: 7da31f8d6d2109f005a1106ce8658fad\n",
      "04/06/2021 01:40:59 PM - INFO - {'activation': 'sigmoid', 'nb_layers': 5, 'optimizer': 'adam', 'nb_neurons': [128, 128, 32, 32, 32, 128]}\n",
      "04/06/2021 01:40:59 PM - INFO - Acc: 0.00%\n",
      "04/06/2021 01:40:59 PM - INFO - UniID: 40\n",
      "04/06/2021 01:40:59 PM - INFO - Mom and Dad: 30 8\n",
      "04/06/2021 01:40:59 PM - INFO - Gen: 2\n",
      "04/06/2021 01:40:59 PM - INFO - Hash: cf8db190151c7aa830f1e9101f1cf7a5\n",
      "04/06/2021 01:40:59 PM - INFO - {'activation': 'relu', 'nb_layers': 2, 'optimizer': 'adam', 'nb_neurons': [128, 128, 32, 32, 32, 128]}\n",
      "04/06/2021 01:40:59 PM - INFO - Acc: 0.00%\n",
      "04/06/2021 01:40:59 PM - INFO - UniID: 41\n",
      "04/06/2021 01:40:59 PM - INFO - Mom and Dad: 30 8\n",
      "04/06/2021 01:40:59 PM - INFO - Gen: 2\n",
      "04/06/2021 01:40:59 PM - INFO - Hash: 4a1a62158ef47cd4d91a50e6f6e0f231\n",
      "04/06/2021 01:40:59 PM - INFO - {'activation': 'relu', 'nb_layers': 5, 'optimizer': 'adam', 'nb_neurons': [128, 128, 64, 128, 32, 16]}\n",
      "04/06/2021 01:40:59 PM - INFO - Acc: 0.00%\n",
      "04/06/2021 01:40:59 PM - INFO - UniID: 42\n",
      "04/06/2021 01:40:59 PM - INFO - Mom and Dad: 30 8\n",
      "04/06/2021 01:40:59 PM - INFO - Gen: 2\n",
      "04/06/2021 01:40:59 PM - INFO - Hash: 4f93aa4a201785be58f835ec934953f1\n",
      "04/06/2021 01:40:59 PM - INFO - {'activation': 'sigmoid', 'nb_layers': 1, 'optimizer': 'adam', 'nb_neurons': [16, 128, 32, 32, 16, 128]}\n",
      "04/06/2021 01:40:59 PM - INFO - Acc: 0.00%\n",
      "04/06/2021 01:40:59 PM - INFO - UniID: 43\n",
      "04/06/2021 01:40:59 PM - INFO - Mom and Dad: 5 8\n",
      "04/06/2021 01:40:59 PM - INFO - Gen: 2\n",
      "04/06/2021 01:40:59 PM - INFO - Hash: 4ad433cb79504bca959b7380b0df6aec\n",
      "04/06/2021 01:40:59 PM - INFO - {'activation': 'relu', 'nb_layers': 5, 'optimizer': 'adam', 'nb_neurons': [128, 32, 32, 32, 32, 128]}\n",
      "04/06/2021 01:40:59 PM - INFO - Acc: 0.00%\n",
      "04/06/2021 01:40:59 PM - INFO - UniID: 44\n"
     ]
    },
    {
     "name": "stderr",
     "output_type": "stream",
     "text": [
      "04/06/2021 01:40:59 PM - INFO - Mom and Dad: 5 8\n",
      "04/06/2021 01:40:59 PM - INFO - Gen: 2\n",
      "04/06/2021 01:40:59 PM - INFO - Hash: 3f103ef13a9b80154c97d60aabac5ea2\n",
      "04/06/2021 01:40:59 PM - INFO - {'activation': 'relu', 'nb_layers': 3, 'optimizer': 'adam', 'nb_neurons': [16, 32, 32, 32, 32, 128]}\n",
      "04/06/2021 01:40:59 PM - INFO - Acc: 0.00%\n",
      "04/06/2021 01:40:59 PM - INFO - UniID: 45\n",
      "04/06/2021 01:40:59 PM - INFO - Mom and Dad: 13 5\n",
      "04/06/2021 01:40:59 PM - INFO - Gen: 2\n",
      "04/06/2021 01:40:59 PM - INFO - Hash: fea648495045efa6532d041e3867a38b\n",
      "04/06/2021 01:40:59 PM - INFO - {'activation': 'sigmoid', 'nb_layers': 1, 'optimizer': 'adam', 'nb_neurons': [32, 128, 64, 32, 128, 128]}\n",
      "04/06/2021 01:40:59 PM - INFO - Acc: 0.00%\n",
      "04/06/2021 01:40:59 PM - INFO - UniID: 46\n",
      "04/06/2021 01:40:59 PM - INFO - Mom and Dad: 13 5\n",
      "04/06/2021 01:40:59 PM - INFO - Gen: 2\n",
      "04/06/2021 01:40:59 PM - INFO - Hash: 03f7f09c38377cac0744777d22dcd4df\n",
      "04/06/2021 01:40:59 PM - INFO - {'activation': 'relu', 'nb_layers': 2, 'optimizer': 'adam', 'nb_neurons': [128, 128, 64, 128, 32, 128]}\n",
      "04/06/2021 01:40:59 PM - INFO - Acc: 0.00%\n",
      "04/06/2021 01:40:59 PM - INFO - UniID: 47\n",
      "04/06/2021 01:40:59 PM - INFO - Mom and Dad: 30 8\n",
      "04/06/2021 01:40:59 PM - INFO - Gen: 2\n",
      "04/06/2021 01:40:59 PM - INFO - Hash: 3e9f1e864fca4088a2939973900cd2c9\n",
      "04/06/2021 01:40:59 PM - INFO - {'activation': 'relu', 'nb_layers': 2, 'optimizer': 'adam', 'nb_neurons': [128, 128, 32, 32, 32, 16]}\n",
      "04/06/2021 01:40:59 PM - INFO - Acc: 0.00%\n",
      "04/06/2021 01:40:59 PM - INFO - UniID: 48\n",
      "04/06/2021 01:40:59 PM - INFO - Mom and Dad: 30 8\n",
      "04/06/2021 01:40:59 PM - INFO - Gen: 2\n",
      "04/06/2021 01:40:59 PM - INFO - Hash: 6b120721f2bd655bfaf0f7e7d2d15045\n",
      "04/06/2021 01:40:59 PM - INFO - {'activation': 'relu', 'nb_layers': 3, 'optimizer': 'adam', 'nb_neurons': [64, 64, 128, 64, 128, 32]}\n",
      "04/06/2021 01:40:59 PM - INFO - Acc: 0.00%\n",
      "04/06/2021 01:40:59 PM - INFO - UniID: 49\n",
      "04/06/2021 01:40:59 PM - INFO - Mom and Dad: 13 25\n",
      "04/06/2021 01:40:59 PM - INFO - Gen: 2\n",
      "04/06/2021 01:40:59 PM - INFO - Hash: 482587a84ee42f50ec202d6aa34be429\n",
      "04/06/2021 01:40:59 PM - INFO - {'activation': 'relu', 'nb_layers': 3, 'optimizer': 'adam', 'nb_neurons': [32, 128, 64, 16, 128, 128]}\n",
      "04/06/2021 01:40:59 PM - INFO - Acc: 0.00%\n",
      "04/06/2021 01:40:59 PM - INFO - UniID: 50\n",
      "04/06/2021 01:40:59 PM - INFO - Mom and Dad: 13 25\n",
      "04/06/2021 01:40:59 PM - INFO - Gen: 2\n",
      "04/06/2021 01:40:59 PM - INFO - Hash: 5c4b45fc8bd6c81382fd6b22547cccaf\n",
      "04/06/2021 01:40:59 PM - INFO - {'activation': 'sigmoid', 'nb_layers': 1, 'optimizer': 'adam', 'nb_neurons': [16, 32, 32, 64, 32, 16]}\n",
      "04/06/2021 01:40:59 PM - INFO - Acc: 0.00%\n",
      "04/06/2021 01:40:59 PM - INFO - UniID: 51\n",
      "04/06/2021 01:40:59 PM - INFO - Mom and Dad: 5 30\n",
      "04/06/2021 01:40:59 PM - INFO - Gen: 2\n",
      "04/06/2021 01:40:59 PM - INFO - Hash: 8c3f0f1aa0063b23395f5806832d826b\n",
      "04/06/2021 01:40:59 PM - INFO - {'activation': 'relu', 'nb_layers': 2, 'optimizer': 'adam', 'nb_neurons': [128, 32, 64, 128, 32, 128]}\n",
      "04/06/2021 01:40:59 PM - INFO - Acc: 0.00%\n",
      "04/06/2021 01:40:59 PM - INFO - UniID: 52\n",
      "04/06/2021 01:40:59 PM - INFO - Mom and Dad: 5 30\n",
      "04/06/2021 01:40:59 PM - INFO - Gen: 2\n",
      "04/06/2021 01:40:59 PM - INFO - Hash: 4d49cc5ce964354cb37cf37c06876a57\n",
      "04/06/2021 01:40:59 PM - INFO - {'activation': 'relu', 'nb_layers': 3, 'optimizer': 'adam', 'nb_neurons': [32, 16, 32, 128, 32, 16]}\n",
      "04/06/2021 01:40:59 PM - INFO - Acc: 0.00%\n",
      "04/06/2021 01:40:59 PM - INFO - UniID: 53\n",
      "04/06/2021 01:40:59 PM - INFO - Mom and Dad: 25 9\n",
      "04/06/2021 01:40:59 PM - INFO - Gen: 2\n",
      "04/06/2021 01:40:59 PM - INFO - Hash: c1e29525a9271906a2f5420a37ba67ab\n",
      "04/06/2021 01:40:59 PM - INFO - {'activation': 'relu', 'nb_layers': 4, 'optimizer': 'adam', 'nb_neurons': [64, 64, 128, 64, 16, 32]}\n",
      "04/06/2021 01:40:59 PM - INFO - Acc: 0.00%\n",
      "04/06/2021 01:40:59 PM - INFO - UniID: 54\n",
      "04/06/2021 01:40:59 PM - INFO - Mom and Dad: 25 9\n",
      "04/06/2021 01:40:59 PM - INFO - Gen: 2\n",
      "04/06/2021 01:40:59 PM - INFO - Hash: d3458b514d6d7e794ffba7b3f3d0ef93\n",
      "04/06/2021 01:40:59 PM - INFO - ***train_networks(networks, dataset)***\n",
      "\n",
      "  0%|          | 0/31 [00:00<?, ?it/s]\u001b[A04/06/2021 01:40:59 PM - INFO - Getting Keras datasets\n",
      "04/06/2021 01:40:59 PM - INFO - Compling Keras model\n",
      "04/06/2021 01:40:59 PM - INFO - Architecture:[16, 32, 32, 32, 32, 128],sigmoid,adam,1\n"
     ]
    },
    {
     "name": "stdout",
     "output_type": "stream",
     "text": [
      "(1593,)\n",
      "(1593, 4)\n",
      "(1593, 2)\n",
      "(1593, 4)\n",
      "(1593, 4)\n",
      "(1593, 2)\n",
      "Epoch 1/50\n",
      "25/25 [==============================] - 0s 4ms/step - loss: 1.0176 - accuracy: 0.2680 - val_loss: 0.8613 - val_accuracy: 0.2556\n",
      "Epoch 2/50\n",
      "25/25 [==============================] - 0s 921us/step - loss: 0.8102 - accuracy: 0.3653 - val_loss: 0.7140 - val_accuracy: 0.2231\n",
      "Epoch 3/50\n",
      "25/25 [==============================] - 0s 961us/step - loss: 0.6935 - accuracy: 0.5417 - val_loss: 0.6354 - val_accuracy: 0.7444\n",
      "Epoch 4/50\n",
      "25/25 [==============================] - 0s 961us/step - loss: 0.6394 - accuracy: 0.6604 - val_loss: 0.6007 - val_accuracy: 0.7444\n",
      "Epoch 5/50\n",
      "25/25 [==============================] - 0s 1ms/step - loss: 0.6072 - accuracy: 0.7200 - val_loss: 0.5863 - val_accuracy: 0.7444\n",
      "Epoch 6/50\n",
      "25/25 [==============================] - 0s 921us/step - loss: 0.5945 - accuracy: 0.7357 - val_loss: 0.5798 - val_accuracy: 0.7444\n"
     ]
    },
    {
     "name": "stderr",
     "output_type": "stream",
     "text": [
      "\n",
      " 16%|█▌        | 5/31 [00:00<00:03,  7.58it/s]\u001b[A04/06/2021 01:40:59 PM - INFO - Getting Keras datasets\n",
      "04/06/2021 01:40:59 PM - INFO - Compling Keras model\n",
      "04/06/2021 01:40:59 PM - INFO - Architecture:[32, 16, 32, 128, 32, 16],relu,adamax,4\n"
     ]
    },
    {
     "name": "stdout",
     "output_type": "stream",
     "text": [
      "Test loss: 0.5797817707061768\n",
      "Test accuracy: 0.7443609237670898\n",
      "(1593,)\n",
      "(1593, 4)\n",
      "(1593, 2)\n",
      "(1593, 4)\n",
      "(1593, 4)\n",
      "(1593, 2)\n",
      "Epoch 1/50\n",
      "25/25 [==============================] - 0s 5ms/step - loss: 0.6518 - accuracy: 0.7031 - val_loss: 0.6256 - val_accuracy: 0.7444\n",
      "Epoch 2/50\n",
      "25/25 [==============================] - 0s 1ms/step - loss: 0.6048 - accuracy: 0.7571 - val_loss: 0.6028 - val_accuracy: 0.7444\n",
      "Epoch 3/50\n",
      "25/25 [==============================] - 0s 1ms/step - loss: 0.5905 - accuracy: 0.7571 - val_loss: 0.5885 - val_accuracy: 0.7444\n",
      "Test loss: 0.5884539484977722\n",
      "Test accuracy: 0.7443609237670898\n"
     ]
    },
    {
     "name": "stderr",
     "output_type": "stream",
     "text": [
      "\n",
      " 19%|█▉        | 6/31 [00:01<00:07,  3.36it/s]\u001b[A04/06/2021 01:41:00 PM - INFO - Getting Keras datasets\n",
      "04/06/2021 01:41:00 PM - INFO - Compling Keras model\n",
      "04/06/2021 01:41:00 PM - INFO - Architecture:[32, 16, 16, 64, 32, 128],softmax,adam,4\n"
     ]
    },
    {
     "name": "stdout",
     "output_type": "stream",
     "text": [
      "(1593,)\n",
      "(1593, 4)\n",
      "(1593, 2)\n",
      "(1593, 4)\n",
      "(1593, 4)\n",
      "(1593, 2)\n",
      "Epoch 1/50\n",
      "25/25 [==============================] - 0s 5ms/step - loss: 0.6730 - accuracy: 0.7583 - val_loss: 0.6623 - val_accuracy: 0.7444\n",
      "Epoch 2/50\n",
      "25/25 [==============================] - 0s 1ms/step - loss: 0.6498 - accuracy: 0.7571 - val_loss: 0.6421 - val_accuracy: 0.7444\n",
      "Epoch 3/50\n",
      "25/25 [==============================] - 0s 1ms/step - loss: 0.6303 - accuracy: 0.7571 - val_loss: 0.6257 - val_accuracy: 0.7444\n"
     ]
    },
    {
     "name": "stderr",
     "output_type": "stream",
     "text": [
      "\n",
      " 23%|██▎       | 7/31 [00:02<00:09,  2.44it/s]\u001b[A04/06/2021 01:41:01 PM - INFO - Getting Keras datasets\n",
      "04/06/2021 01:41:01 PM - INFO - Compling Keras model\n",
      "04/06/2021 01:41:01 PM - INFO - Architecture:[32, 16, 32, 128, 32, 16],relu,adamax,3\n"
     ]
    },
    {
     "name": "stdout",
     "output_type": "stream",
     "text": [
      "Test loss: 0.6256881356239319\n",
      "Test accuracy: 0.7443609237670898\n",
      "(1593,)\n",
      "(1593, 4)\n",
      "(1593, 2)\n",
      "(1593, 4)\n",
      "(1593, 4)\n",
      "(1593, 2)\n",
      "Epoch 1/50\n",
      "25/25 [==============================] - 0s 5ms/step - loss: 0.6588 - accuracy: 0.7382 - val_loss: 0.6431 - val_accuracy: 0.7444\n",
      "Epoch 2/50\n",
      "25/25 [==============================] - 0s 1ms/step - loss: 0.6173 - accuracy: 0.7571 - val_loss: 0.6089 - val_accuracy: 0.7444\n",
      "Epoch 3/50\n",
      "25/25 [==============================] - 0s 1ms/step - loss: 0.5929 - accuracy: 0.7571 - val_loss: 0.5905 - val_accuracy: 0.7444\n",
      "Test loss: 0.5905452966690063\n",
      "Test accuracy: 0.7443609237670898\n"
     ]
    },
    {
     "name": "stderr",
     "output_type": "stream",
     "text": [
      "\n",
      " 26%|██▌       | 8/31 [00:02<00:10,  2.09it/s]\u001b[A04/06/2021 01:41:02 PM - INFO - Getting Keras datasets\n",
      "04/06/2021 01:41:02 PM - INFO - Compling Keras model\n",
      "04/06/2021 01:41:02 PM - INFO - Architecture:[32, 128, 64, 32, 128, 128],relu,adam,4\n"
     ]
    },
    {
     "name": "stdout",
     "output_type": "stream",
     "text": [
      "(1593,)\n",
      "(1593, 4)\n",
      "(1593, 2)\n",
      "(1593, 4)\n",
      "(1593, 4)\n",
      "(1593, 2)\n",
      "Epoch 1/50\n",
      "25/25 [==============================] - 0s 5ms/step - loss: 0.6421 - accuracy: 0.7407 - val_loss: 0.6133 - val_accuracy: 0.7444\n",
      "Epoch 2/50\n",
      "25/25 [==============================] - 0s 2ms/step - loss: 0.5899 - accuracy: 0.7571 - val_loss: 0.5778 - val_accuracy: 0.7444\n",
      "Epoch 3/50\n",
      "25/25 [==============================] - 0s 2ms/step - loss: 0.5532 - accuracy: 0.7583 - val_loss: 0.5007 - val_accuracy: 0.7444\n",
      "Epoch 4/50\n",
      "25/25 [==============================] - 0s 2ms/step - loss: 0.4666 - accuracy: 0.7866 - val_loss: 0.3853 - val_accuracy: 0.8421\n",
      "Epoch 5/50\n",
      "25/25 [==============================] - 0s 2ms/step - loss: 0.3910 - accuracy: 0.8293 - val_loss: 0.2818 - val_accuracy: 0.8847\n",
      "Epoch 6/50\n",
      "25/25 [==============================] - 0s 2ms/step - loss: 0.3475 - accuracy: 0.8443 - val_loss: 0.2493 - val_accuracy: 0.8972\n",
      "Epoch 7/50\n",
      "25/25 [==============================] - 0s 2ms/step - loss: 0.3427 - accuracy: 0.8406 - val_loss: 0.2477 - val_accuracy: 0.8947\n"
     ]
    },
    {
     "name": "stderr",
     "output_type": "stream",
     "text": [
      "\n",
      " 29%|██▉       | 9/31 [00:04<00:14,  1.54it/s]\u001b[A04/06/2021 01:41:03 PM - INFO - Getting Keras datasets\n",
      "04/06/2021 01:41:03 PM - INFO - Compling Keras model\n",
      "04/06/2021 01:41:03 PM - INFO - Architecture:[64, 64, 128, 32, 128, 128],relu,adam,3\n"
     ]
    },
    {
     "name": "stdout",
     "output_type": "stream",
     "text": [
      "Test loss: 0.2477075159549713\n",
      "Test accuracy: 0.8947368264198303\n",
      "(1593,)\n",
      "(1593, 4)\n",
      "(1593, 2)\n",
      "(1593, 4)\n",
      "(1593, 4)\n",
      "(1593, 2)\n",
      "Epoch 1/50\n",
      "25/25 [==============================] - 0s 5ms/step - loss: 0.6221 - accuracy: 0.7024 - val_loss: 0.6036 - val_accuracy: 0.7444\n",
      "Epoch 2/50\n",
      "25/25 [==============================] - 0s 1ms/step - loss: 0.5691 - accuracy: 0.7571 - val_loss: 0.5389 - val_accuracy: 0.7444\n",
      "Epoch 3/50\n",
      "25/25 [==============================] - 0s 1ms/step - loss: 0.5056 - accuracy: 0.7709 - val_loss: 0.4408 - val_accuracy: 0.8221\n",
      "Epoch 4/50\n",
      "25/25 [==============================] - 0s 1ms/step - loss: 0.4118 - accuracy: 0.8123 - val_loss: 0.3116 - val_accuracy: 0.8596\n",
      "Epoch 5/50\n",
      "25/25 [==============================] - 0s 2ms/step - loss: 0.3372 - accuracy: 0.8437 - val_loss: 0.2601 - val_accuracy: 0.8972\n",
      "Epoch 6/50\n",
      "25/25 [==============================] - 0s 2ms/step - loss: 0.3004 - accuracy: 0.8726 - val_loss: 0.2459 - val_accuracy: 0.9023\n",
      "Test loss: 0.24585337936878204\n",
      "Test accuracy: 0.902255654335022\n"
     ]
    },
    {
     "name": "stderr",
     "output_type": "stream",
     "text": [
      "\n",
      " 32%|███▏      | 10/31 [00:04<00:14,  1.43it/s]\u001b[A04/06/2021 01:41:03 PM - INFO - Getting Keras datasets\n",
      "04/06/2021 01:41:03 PM - INFO - Compling Keras model\n",
      "04/06/2021 01:41:03 PM - INFO - Architecture:[32, 128, 32, 64, 16, 32],relu,adam,3\n"
     ]
    },
    {
     "name": "stdout",
     "output_type": "stream",
     "text": [
      "(1593,)\n",
      "(1593, 4)\n",
      "(1593, 2)\n",
      "(1593, 4)\n",
      "(1593, 4)\n",
      "(1593, 2)\n",
      "Epoch 1/50\n",
      "25/25 [==============================] - 0s 5ms/step - loss: 0.6327 - accuracy: 0.7376 - val_loss: 0.6050 - val_accuracy: 0.7444\n",
      "Epoch 2/50\n",
      "25/25 [==============================] - 0s 1ms/step - loss: 0.5767 - accuracy: 0.7571 - val_loss: 0.5500 - val_accuracy: 0.7444\n",
      "Epoch 3/50\n",
      "25/25 [==============================] - 0s 1ms/step - loss: 0.5242 - accuracy: 0.7596 - val_loss: 0.4657 - val_accuracy: 0.7769\n",
      "Epoch 4/50\n",
      "25/25 [==============================] - 0s 1ms/step - loss: 0.4357 - accuracy: 0.7891 - val_loss: 0.3504 - val_accuracy: 0.8897\n",
      "Epoch 5/50\n",
      "25/25 [==============================] - 0s 2ms/step - loss: 0.3513 - accuracy: 0.8355 - val_loss: 0.2807 - val_accuracy: 0.8997\n",
      "Epoch 6/50\n",
      "25/25 [==============================] - 0s 2ms/step - loss: 0.3154 - accuracy: 0.8657 - val_loss: 0.2627 - val_accuracy: 0.8947\n",
      "Test loss: 0.26265206933021545\n",
      "Test accuracy: 0.8947368264198303\n"
     ]
    },
    {
     "name": "stderr",
     "output_type": "stream",
     "text": [
      "\n",
      " 35%|███▌      | 11/31 [00:05<00:14,  1.36it/s]\u001b[A04/06/2021 01:41:04 PM - INFO - Getting Keras datasets\n",
      "04/06/2021 01:41:04 PM - INFO - Compling Keras model\n",
      "04/06/2021 01:41:04 PM - INFO - Architecture:[128, 128, 64, 32, 128, 128],relu,adam,2\n"
     ]
    },
    {
     "name": "stdout",
     "output_type": "stream",
     "text": [
      "(1593,)\n",
      "(1593, 4)\n",
      "(1593, 2)\n",
      "(1593, 4)\n",
      "(1593, 4)\n",
      "(1593, 2)\n",
      "Epoch 1/50\n",
      "25/25 [==============================] - 0s 5ms/step - loss: 0.6089 - accuracy: 0.7564 - val_loss: 0.5952 - val_accuracy: 0.7444\n",
      "Epoch 2/50\n",
      "25/25 [==============================] - 0s 2ms/step - loss: 0.5521 - accuracy: 0.7589 - val_loss: 0.5123 - val_accuracy: 0.7444\n",
      "Epoch 3/50\n",
      "25/25 [==============================] - 0s 2ms/step - loss: 0.4566 - accuracy: 0.7954 - val_loss: 0.3852 - val_accuracy: 0.8271\n",
      "Epoch 4/50\n",
      "25/25 [==============================] - 0s 1ms/step - loss: 0.3509 - accuracy: 0.8500 - val_loss: 0.2840 - val_accuracy: 0.8872\n",
      "Epoch 5/50\n",
      "25/25 [==============================] - 0s 2ms/step - loss: 0.2908 - accuracy: 0.8782 - val_loss: 0.2488 - val_accuracy: 0.9048\n",
      "Epoch 6/50\n",
      "25/25 [==============================] - 0s 2ms/step - loss: 0.2684 - accuracy: 0.8807 - val_loss: 0.2482 - val_accuracy: 0.8897\n",
      "Test loss:"
     ]
    },
    {
     "name": "stderr",
     "output_type": "stream",
     "text": [
      "\n",
      " 39%|███▊      | 12/31 [00:06<00:14,  1.27it/s]\u001b[A04/06/2021 01:41:05 PM - INFO - Getting Keras datasets\n",
      "04/06/2021 01:41:05 PM - INFO - Compling Keras model\n",
      "04/06/2021 01:41:05 PM - INFO - Architecture:[32, 128, 64, 128, 32, 16],relu,adamax,3\n"
     ]
    },
    {
     "name": "stdout",
     "output_type": "stream",
     "text": [
      " 0.2482060045003891\n",
      "Test accuracy: 0.8897243142127991\n",
      "(1593,)\n",
      "(1593, 4)\n",
      "(1593, 2)\n",
      "(1593, 4)\n",
      "(1593, 4)\n",
      "(1593, 2)\n",
      "Epoch 1/50\n",
      "25/25 [==============================] - 0s 5ms/step - loss: 0.6498 - accuracy: 0.7232 - val_loss: 0.6239 - val_accuracy: 0.7444\n",
      "Epoch 2/50\n",
      "25/25 [==============================] - 0s 1ms/step - loss: 0.6002 - accuracy: 0.7571 - val_loss: 0.6014 - val_accuracy: 0.7444\n",
      "Epoch 3/50\n",
      "25/25 [==============================] - 0s 1ms/step - loss: 0.5862 - accuracy: 0.7571 - val_loss: 0.5790 - val_accuracy: 0.7444\n"
     ]
    },
    {
     "name": "stderr",
     "output_type": "stream",
     "text": [
      "\n",
      " 42%|████▏     | 13/31 [00:07<00:13,  1.33it/s]\u001b[A04/06/2021 01:41:06 PM - INFO - Getting Keras datasets\n",
      "04/06/2021 01:41:06 PM - INFO - Compling Keras model\n",
      "04/06/2021 01:41:06 PM - INFO - Architecture:[32, 16, 32, 128, 32, 128],relu,adam,3\n"
     ]
    },
    {
     "name": "stdout",
     "output_type": "stream",
     "text": [
      "Test loss: 0.5790114402770996\n",
      "Test accuracy: 0.7443609237670898\n",
      "(1593,)\n",
      "(1593, 4)\n",
      "(1593, 2)\n",
      "(1593, 4)\n",
      "(1593, 4)\n",
      "(1593, 2)\n",
      "Epoch 1/50\n",
      "25/25 [==============================] - 0s 5ms/step - loss: 0.6222 - accuracy: 0.7533 - val_loss: 0.6082 - val_accuracy: 0.7444\n",
      "Epoch 2/50\n",
      "25/25 [==============================] - 0s 1ms/step - loss: 0.5990 - accuracy: 0.7577 - val_loss: 0.5820 - val_accuracy: 0.7444\n",
      "Epoch 3/50\n",
      "25/25 [==============================] - 0s 1ms/step - loss: 0.5714 - accuracy: 0.7577 - val_loss: 0.5468 - val_accuracy: 0.7444\n",
      "Test loss: 0.5468349456787109\n",
      "Test accuracy: 0.7443609237670898\n"
     ]
    },
    {
     "name": "stderr",
     "output_type": "stream",
     "text": [
      "\n",
      " 45%|████▌     | 14/31 [00:08<00:13,  1.29it/s]\u001b[A04/06/2021 01:41:07 PM - INFO - Getting Keras datasets\n",
      "04/06/2021 01:41:07 PM - INFO - Compling Keras model\n",
      "04/06/2021 01:41:07 PM - INFO - Architecture:[128, 128, 32, 32, 32, 16],relu,adamax,1\n"
     ]
    },
    {
     "name": "stdout",
     "output_type": "stream",
     "text": [
      "(1593,)\n",
      "(1593, 4)\n",
      "(1593, 2)\n",
      "(1593, 4)\n",
      "(1593, 4)\n",
      "(1593, 2)\n",
      "Epoch 1/50\n",
      " 1/25 [>.............................] - ETA: 0s - loss: 0.6628 - accuracy: 0.8125WARNING:tensorflow:Callbacks method `on_train_batch_end` is slow compared to the batch time (batch time: 0.0000s vs `on_train_batch_end` time: 0.0010s). Check your callbacks.\n"
     ]
    },
    {
     "name": "stderr",
     "output_type": "stream",
     "text": [
      "04/06/2021 01:41:07 PM - WARNING - Callbacks method `on_train_batch_end` is slow compared to the batch time (batch time: 0.0000s vs `on_train_batch_end` time: 0.0010s). Check your callbacks.\n"
     ]
    },
    {
     "name": "stdout",
     "output_type": "stream",
     "text": [
      "25/25 [==============================] - 0s 4ms/step - loss: 0.6353 - accuracy: 0.7589 - val_loss: 0.6221 - val_accuracy: 0.7444\n",
      "Epoch 2/50\n",
      "25/25 [==============================] - 0s 1ms/step - loss: 0.6048 - accuracy: 0.7571 - val_loss: 0.6079 - val_accuracy: 0.7444\n",
      "Epoch 3/50\n",
      "25/25 [==============================] - 0s 1ms/step - loss: 0.5894 - accuracy: 0.7571 - val_loss: 0.5926 - val_accuracy: 0.7444\n",
      "Test loss:"
     ]
    },
    {
     "name": "stderr",
     "output_type": "stream",
     "text": [
      "\n",
      " 48%|████▊     | 15/31 [00:08<00:11,  1.40it/s]\u001b[A04/06/2021 01:41:07 PM - INFO - Getting Keras datasets\n",
      "04/06/2021 01:41:07 PM - INFO - Compling Keras model\n",
      "04/06/2021 01:41:07 PM - INFO - Architecture:[128, 16, 64, 128, 32, 16],relu,adam,2\n"
     ]
    },
    {
     "name": "stdout",
     "output_type": "stream",
     "text": [
      " 0.5926436185836792\n",
      "Test accuracy: 0.7443609237670898\n",
      "(1593,)\n",
      "(1593, 4)\n",
      "(1593, 2)\n",
      "(1593, 4)\n",
      "(1593, 4)\n",
      "(1593, 2)\n",
      "Epoch 1/50\n",
      "25/25 [==============================] - 0s 5ms/step - loss: 0.7008 - accuracy: 0.5524 - val_loss: 0.6273 - val_accuracy: 0.7444\n",
      "Epoch 2/50\n",
      "25/25 [==============================] - 0s 1ms/step - loss: 0.6055 - accuracy: 0.7564 - val_loss: 0.6023 - val_accuracy: 0.7444\n",
      "Epoch 3/50\n",
      "25/25 [==============================] - 0s 1ms/step - loss: 0.5811 - accuracy: 0.7564 - val_loss: 0.5711 - val_accuracy: 0.7444\n"
     ]
    },
    {
     "name": "stderr",
     "output_type": "stream",
     "text": [
      "\n",
      " 52%|█████▏    | 16/31 [00:09<00:10,  1.46it/s]\u001b[A04/06/2021 01:41:08 PM - INFO - Getting Keras datasets\n",
      "04/06/2021 01:41:08 PM - INFO - Compling Keras model\n",
      "04/06/2021 01:41:08 PM - INFO - Architecture:[128, 128, 32, 32, 32, 128],sigmoid,adam,5\n"
     ]
    },
    {
     "name": "stdout",
     "output_type": "stream",
     "text": [
      "Test loss: 0.5710622668266296\n",
      "Test accuracy: 0.7443609237670898\n",
      "(1593,)\n",
      "(1593, 4)\n",
      "(1593, 2)\n",
      "(1593, 4)\n",
      "(1593, 4)\n",
      "(1593, 2)\n",
      "Epoch 1/50\n",
      "25/25 [==============================] - 0s 6ms/step - loss: 0.6126 - accuracy: 0.6937 - val_loss: 0.5750 - val_accuracy: 0.7444\n",
      "Epoch 2/50\n",
      "25/25 [==============================] - 0s 2ms/step - loss: 0.5813 - accuracy: 0.7520 - val_loss: 0.5700 - val_accuracy: 0.7444\n",
      "Epoch 3/50\n",
      "25/25 [==============================] - 0s 2ms/step - loss: 0.5727 - accuracy: 0.7514 - val_loss: 0.5688 - val_accuracy: 0.7444\n"
     ]
    },
    {
     "name": "stderr",
     "output_type": "stream",
     "text": [
      "\n",
      " 55%|█████▍    | 17/31 [00:10<00:10,  1.29it/s]\u001b[A04/06/2021 01:41:09 PM - INFO - Getting Keras datasets\n",
      "04/06/2021 01:41:09 PM - INFO - Compling Keras model\n",
      "04/06/2021 01:41:09 PM - INFO - Architecture:[128, 128, 32, 32, 32, 128],relu,adam,2\n"
     ]
    },
    {
     "name": "stdout",
     "output_type": "stream",
     "text": [
      "Test loss: 0.5688444375991821\n",
      "Test accuracy: 0.7443609237670898\n",
      "(1593,)\n",
      "(1593, 4)\n",
      "(1593, 2)\n",
      "(1593, 4)\n",
      "(1593, 4)\n",
      "(1593, 2)\n",
      "Epoch 1/50\n",
      "25/25 [==============================] - 0s 5ms/step - loss: 0.6117 - accuracy: 0.7351 - val_loss: 0.5895 - val_accuracy: 0.7444\n",
      "Epoch 2/50\n",
      "25/25 [==============================] - 0s 2ms/step - loss: 0.5413 - accuracy: 0.7615 - val_loss: 0.4822 - val_accuracy: 0.7820\n",
      "Epoch 3/50\n",
      "25/25 [==============================] - 0s 2ms/step - loss: 0.4283 - accuracy: 0.8067 - val_loss: 0.3514 - val_accuracy: 0.8747\n",
      "Epoch 4/50\n",
      "25/25 [==============================] - 0s 2ms/step - loss: 0.3217 - accuracy: 0.8701 - val_loss: 0.2688 - val_accuracy: 0.8922\n",
      "Epoch 5/50\n",
      "25/25 [==============================] - 0s 1ms/step - loss: 0.2867 - accuracy: 0.8745 - val_loss: 0.2601 - val_accuracy: 0.8822\n",
      "Test loss: 0.26009103655815125\n",
      "Test accuracy: 0.8822054862976074\n"
     ]
    },
    {
     "name": "stderr",
     "output_type": "stream",
     "text": [
      "\n",
      " 58%|█████▊    | 18/31 [00:11<00:09,  1.31it/s]\u001b[A04/06/2021 01:41:10 PM - INFO - Getting Keras datasets\n",
      "04/06/2021 01:41:10 PM - INFO - Compling Keras model\n",
      "04/06/2021 01:41:10 PM - INFO - Architecture:[128, 128, 64, 128, 32, 16],relu,adam,5\n"
     ]
    },
    {
     "name": "stdout",
     "output_type": "stream",
     "text": [
      "(1593,)\n",
      "(1593, 4)\n",
      "(1593, 2)\n",
      "(1593, 4)\n",
      "(1593, 4)\n",
      "(1593, 2)\n",
      "Epoch 1/50\n",
      "25/25 [==============================] - 0s 6ms/step - loss: 0.6304 - accuracy: 0.6955 - val_loss: 0.5925 - val_accuracy: 0.7444\n",
      "Epoch 2/50\n",
      "25/25 [==============================] - 0s 2ms/step - loss: 0.5522 - accuracy: 0.7571 - val_loss: 0.4897 - val_accuracy: 0.7444\n",
      "Epoch 3/50\n",
      "25/25 [==============================] - 0s 2ms/step - loss: 0.4293 - accuracy: 0.7734 - val_loss: 0.3200 - val_accuracy: 0.8797\n",
      "Epoch 4/50\n",
      "25/25 [==============================] - 0s 2ms/step - loss: 0.3247 - accuracy: 0.8562 - val_loss: 0.3044 - val_accuracy: 0.8246\n",
      "Epoch 5/50\n",
      "25/25 [==============================] - 0s 2ms/step - loss: 0.3130 - accuracy: 0.8569 - val_loss: 0.2847 - val_accuracy: 0.8672\n",
      "Test loss: 0.28469106554985046\n",
      "Test accuracy: 0.8671678900718689\n"
     ]
    },
    {
     "name": "stderr",
     "output_type": "stream",
     "text": [
      "\n",
      " 61%|██████▏   | 19/31 [00:12<00:10,  1.15it/s]\u001b[A04/06/2021 01:41:11 PM - INFO - Getting Keras datasets\n"
     ]
    },
    {
     "name": "stdout",
     "output_type": "stream",
     "text": [
      "(1593,)\n",
      "(1593, 4)\n"
     ]
    },
    {
     "name": "stderr",
     "output_type": "stream",
     "text": [
      "04/06/2021 01:41:11 PM - INFO - Compling Keras model\n",
      "04/06/2021 01:41:11 PM - INFO - Architecture:[16, 128, 32, 32, 16, 128],sigmoid,adam,1\n"
     ]
    },
    {
     "name": "stdout",
     "output_type": "stream",
     "text": [
      "(1593, 2)\n",
      "(1593, 4)\n",
      "(1593, 4)\n",
      "(1593, 2)\n",
      "Epoch 1/50\n",
      "25/25 [==============================] - 0s 4ms/step - loss: 0.7124 - accuracy: 0.5173 - val_loss: 0.6373 - val_accuracy: 0.7444\n",
      "Epoch 2/50\n",
      "25/25 [==============================] - 0s 921us/step - loss: 0.6364 - accuracy: 0.6729 - val_loss: 0.5961 - val_accuracy: 0.7444\n",
      "Epoch 3/50\n",
      "25/25 [==============================] - 0s 921us/step - loss: 0.6147 - accuracy: 0.7094 - val_loss: 0.5857 - val_accuracy: 0.7444\n",
      "Test loss: 0.5856757164001465\n",
      "Test accuracy: 0.7443609237670898\n"
     ]
    },
    {
     "name": "stderr",
     "output_type": "stream",
     "text": [
      "\n",
      " 65%|██████▍   | 20/31 [00:12<00:08,  1.29it/s]\u001b[A04/06/2021 01:41:11 PM - INFO - Getting Keras datasets\n",
      "04/06/2021 01:41:11 PM - INFO - Compling Keras model\n",
      "04/06/2021 01:41:11 PM - INFO - Architecture:[128, 32, 32, 32, 32, 128],relu,adam,5\n"
     ]
    },
    {
     "name": "stdout",
     "output_type": "stream",
     "text": [
      "(1593,)\n",
      "(1593, 4)\n",
      "(1593, 2)\n",
      "(1593, 4)\n",
      "(1593, 4)\n",
      "(1593, 2)\n",
      "Epoch 1/50\n",
      "25/25 [==============================] - 0s 5ms/step - loss: 0.6449 - accuracy: 0.7012 - val_loss: 0.6050 - val_accuracy: 0.7444\n",
      "Epoch 2/50\n",
      "25/25 [==============================] - 0s 2ms/step - loss: 0.5830 - accuracy: 0.7571 - val_loss: 0.5612 - val_accuracy: 0.7444\n",
      "Epoch 3/50\n",
      "25/25 [==============================] - 0s 2ms/step - loss: 0.5361 - accuracy: 0.7571 - val_loss: 0.4728 - val_accuracy: 0.7444\n",
      "Epoch 4/50\n",
      "25/25 [==============================] - 0s 2ms/step - loss: 0.4468 - accuracy: 0.7765 - val_loss: 0.3431 - val_accuracy: 0.8872\n",
      "Epoch 5/50\n",
      "25/25 [==============================] - 0s 2ms/step - loss: 0.3573 - accuracy: 0.8362 - val_loss: 0.2751 - val_accuracy: 0.8922\n",
      "Epoch 6/50\n",
      "25/25 [==============================] - 0s 2ms/step - loss: 0.3162 - accuracy: 0.8594 - val_loss: 0.2456 - val_accuracy: 0.9073\n",
      "Test loss: 0.24562522768974304\n",
      "Test accuracy: 0.9072681665420532\n"
     ]
    },
    {
     "name": "stderr",
     "output_type": "stream",
     "text": [
      "\n",
      " 68%|██████▊   | 21/31 [00:13<00:08,  1.22it/s]\u001b[A04/06/2021 01:41:12 PM - INFO - Getting Keras datasets\n",
      "04/06/2021 01:41:12 PM - INFO - Compling Keras model\n",
      "04/06/2021 01:41:12 PM - INFO - Architecture:[16, 32, 32, 32, 32, 128],relu,adam,3\n"
     ]
    },
    {
     "name": "stdout",
     "output_type": "stream",
     "text": [
      "(1593,)\n",
      "(1593, 4)\n",
      "(1593, 2)\n",
      "(1593, 4)\n",
      "(1593, 4)\n",
      "(1593, 2)\n",
      "Epoch 1/50\n",
      "25/25 [==============================] - 0s 5ms/step - loss: 0.6807 - accuracy: 0.5731 - val_loss: 0.6347 - val_accuracy: 0.7444\n",
      "Epoch 2/50\n",
      "25/25 [==============================] - 0s 1ms/step - loss: 0.6200 - accuracy: 0.7564 - val_loss: 0.6107 - val_accuracy: 0.7444\n",
      "Epoch 3/50\n",
      "25/25 [==============================] - 0s 1ms/step - loss: 0.5931 - accuracy: 0.7571 - val_loss: 0.5801 - val_accuracy: 0.7444\n"
     ]
    },
    {
     "name": "stderr",
     "output_type": "stream",
     "text": [
      "\n",
      " 71%|███████   | 22/31 [00:14<00:07,  1.22it/s]\u001b[A04/06/2021 01:41:13 PM - INFO - Getting Keras datasets\n",
      "04/06/2021 01:41:13 PM - INFO - Compling Keras model\n",
      "04/06/2021 01:41:13 PM - INFO - Architecture:[32, 128, 64, 32, 128, 128],sigmoid,adam,1\n"
     ]
    },
    {
     "name": "stdout",
     "output_type": "stream",
     "text": [
      "Test loss: 0.5801491141319275\n",
      "Test accuracy: 0.7443609237670898\n",
      "(1593,)\n",
      "(1593, 4)\n",
      "(1593, 2)\n",
      "(1593, 4)\n",
      "(1593, 4)\n",
      "(1593, 2)\n",
      "Epoch 1/50\n",
      "25/25 [==============================] - 0s 4ms/step - loss: 0.7279 - accuracy: 0.5097 - val_loss: 0.6150 - val_accuracy: 0.7444\n",
      "Epoch 2/50\n",
      "25/25 [==============================] - 0s 961us/step - loss: 0.6088 - accuracy: 0.7112 - val_loss: 0.5800 - val_accuracy: 0.7444\n",
      "Epoch 3/50\n",
      "25/25 [==============================] - 0s 921us/step - loss: 0.5870 - accuracy: 0.7476 - val_loss: 0.5756 - val_accuracy: 0.7444\n"
     ]
    },
    {
     "name": "stderr",
     "output_type": "stream",
     "text": [
      "\n",
      " 74%|███████▍  | 23/31 [00:15<00:05,  1.35it/s]\u001b[A04/06/2021 01:41:14 PM - INFO - Getting Keras datasets\n",
      "04/06/2021 01:41:14 PM - INFO - Compling Keras model\n",
      "04/06/2021 01:41:14 PM - INFO - Architecture:[128, 128, 64, 128, 32, 128],relu,adam,2\n"
     ]
    },
    {
     "name": "stdout",
     "output_type": "stream",
     "text": [
      "Test loss: 0.5755598545074463\n",
      "Test accuracy: 0.7443609237670898\n",
      "(1593,)\n",
      "(1593, 4)\n",
      "(1593, 2)\n",
      "(1593, 4)\n",
      "(1593, 4)\n",
      "(1593, 2)\n",
      "Epoch 1/50\n",
      "25/25 [==============================] - 0s 5ms/step - loss: 0.6339 - accuracy: 0.6987 - val_loss: 0.6093 - val_accuracy: 0.7444\n",
      "Epoch 2/50\n",
      "25/25 [==============================] - 0s 2ms/step - loss: 0.5601 - accuracy: 0.7571 - val_loss: 0.5194 - val_accuracy: 0.7444\n",
      "Epoch 3/50\n",
      "25/25 [==============================] - 0s 2ms/step - loss: 0.4649 - accuracy: 0.7884 - val_loss: 0.4025 - val_accuracy: 0.7920\n",
      "Epoch 4/50\n",
      "25/25 [==============================] - 0s 2ms/step - loss: 0.3619 - accuracy: 0.8368 - val_loss: 0.2921 - val_accuracy: 0.8947\n",
      "Epoch 5/50\n",
      "25/25 [==============================] - 0s 2ms/step - loss: 0.3021 - accuracy: 0.8675 - val_loss: 0.2567 - val_accuracy: 0.8947\n",
      "Epoch 6/50\n",
      "25/25 [==============================] - 0s 2ms/step - loss: 0.2767 - accuracy: 0.8770 - val_loss: 0.2375 - val_accuracy: 0.9073\n",
      "Test loss: 0.2374773919582367\n",
      "Test accuracy: 0.9072681665420532\n"
     ]
    },
    {
     "name": "stderr",
     "output_type": "stream",
     "text": [
      "\n",
      " 77%|███████▋  | 24/31 [00:15<00:05,  1.34it/s]\u001b[A04/06/2021 01:41:14 PM - INFO - Getting Keras datasets\n",
      "04/06/2021 01:41:14 PM - INFO - Compling Keras model\n",
      "04/06/2021 01:41:14 PM - INFO - Architecture:[128, 128, 32, 32, 32, 16],relu,adam,2\n"
     ]
    },
    {
     "name": "stdout",
     "output_type": "stream",
     "text": [
      "(1593,)\n",
      "(1593, 4)\n",
      "(1593, 2)\n",
      "(1593, 4)\n",
      "(1593, 4)\n",
      "(1593, 2)\n",
      "Epoch 1/50\n",
      "25/25 [==============================] - 0s 5ms/step - loss: 0.6291 - accuracy: 0.6893 - val_loss: 0.6015 - val_accuracy: 0.7444\n",
      "Epoch 2/50\n",
      "25/25 [==============================] - 0s 2ms/step - loss: 0.5557 - accuracy: 0.7589 - val_loss: 0.5072 - val_accuracy: 0.7569\n",
      "Epoch 3/50\n",
      "25/25 [==============================] - 0s 2ms/step - loss: 0.4545 - accuracy: 0.8073 - val_loss: 0.3819 - val_accuracy: 0.8346\n",
      "Epoch 4/50\n",
      "25/25 [==============================] - 0s 2ms/step - loss: 0.3501 - accuracy: 0.8556 - val_loss: 0.2938 - val_accuracy: 0.8972\n",
      "Epoch 5/50\n",
      "25/25 [==============================] - 0s 2ms/step - loss: 0.2934 - accuracy: 0.8738 - val_loss: 0.2679 - val_accuracy: 0.8772\n",
      "Epoch 6/50\n",
      "25/25 [==============================] - 0s 1ms/step - loss: 0.2732 - accuracy: 0.8776 - val_loss: 0.2397 - val_accuracy: 0.8947\n",
      "Epoch 7/50\n",
      "25/25 [==============================] - 0s 1ms/step - loss: 0.2770 - accuracy: 0.8701 - val_loss: 0.2333 - val_accuracy: 0.8997\n",
      "Test loss: 0.2332882285118103\n",
      "Test accuracy: 0.8997493982315063\n"
     ]
    },
    {
     "name": "stderr",
     "output_type": "stream",
     "text": [
      "\n",
      " 81%|████████  | 25/31 [00:16<00:04,  1.24it/s]\u001b[A04/06/2021 01:41:15 PM - INFO - Getting Keras datasets\n",
      "04/06/2021 01:41:15 PM - INFO - Compling Keras model\n",
      "04/06/2021 01:41:15 PM - INFO - Architecture:[64, 64, 128, 64, 128, 32],relu,adam,3\n"
     ]
    },
    {
     "name": "stdout",
     "output_type": "stream",
     "text": [
      "(1593,)\n",
      "(1593, 4)\n",
      "(1593, 2)\n",
      "(1593, 4)\n",
      "(1593, 4)\n",
      "(1593, 2)\n",
      "Epoch 1/50\n",
      "25/25 [==============================] - 0s 5ms/step - loss: 0.6260 - accuracy: 0.7338 - val_loss: 0.6023 - val_accuracy: 0.7444\n",
      "Epoch 2/50\n",
      "25/25 [==============================] - 0s 2ms/step - loss: 0.5753 - accuracy: 0.7571 - val_loss: 0.5413 - val_accuracy: 0.7444\n",
      "Epoch 3/50\n",
      "25/25 [==============================] - 0s 1ms/step - loss: 0.5103 - accuracy: 0.7715 - val_loss: 0.4365 - val_accuracy: 0.8446\n",
      "Epoch 4/50\n",
      "25/25 [==============================] - 0s 2ms/step - loss: 0.4059 - accuracy: 0.8236 - val_loss: 0.3062 - val_accuracy: 0.8822\n",
      "Epoch 5/50\n",
      "25/25 [==============================] - 0s 1ms/step - loss: 0.3469 - accuracy: 0.8468 - val_loss: 0.2592 - val_accuracy: 0.8872\n",
      "Epoch 6/50\n",
      "25/25 [==============================] - 0s 2ms/step - loss: 0.3346 - accuracy: 0.8374 - val_loss: 0.2529 - val_accuracy: 0.8872\n",
      "Test loss: 0.25289487838745117\n",
      "Test accuracy: 0.8872180581092834\n"
     ]
    },
    {
     "name": "stderr",
     "output_type": "stream",
     "text": [
      "\n",
      " 84%|████████▍ | 26/31 [00:17<00:04,  1.23it/s]\u001b[A04/06/2021 01:41:16 PM - INFO - Getting Keras datasets\n",
      "04/06/2021 01:41:16 PM - INFO - Compling Keras model\n",
      "04/06/2021 01:41:16 PM - INFO - Architecture:[32, 128, 64, 16, 128, 128],relu,adam,3\n"
     ]
    },
    {
     "name": "stdout",
     "output_type": "stream",
     "text": [
      "(1593,)\n",
      "(1593, 4)\n",
      "(1593, 2)\n",
      "(1593, 4)\n",
      "(1593, 4)\n",
      "(1593, 2)\n",
      "Epoch 1/50\n",
      "25/25 [==============================] - 0s 5ms/step - loss: 0.6452 - accuracy: 0.6560 - val_loss: 0.6071 - val_accuracy: 0.7444\n",
      "Epoch 2/50\n",
      "25/25 [==============================] - 0s 1ms/step - loss: 0.5772 - accuracy: 0.7571 - val_loss: 0.5463 - val_accuracy: 0.7444\n",
      "Epoch 3/50\n",
      "25/25 [==============================] - 0s 1ms/step - loss: 0.5191 - accuracy: 0.7608 - val_loss: 0.4485 - val_accuracy: 0.8246\n",
      "Epoch 4/50\n",
      "25/25 [==============================] - 0s 1ms/step - loss: 0.4227 - accuracy: 0.8098 - val_loss: 0.3310 - val_accuracy: 0.8521\n",
      "Epoch 5/50\n",
      "25/25 [==============================] - 0s 1ms/step - loss: 0.3544 - accuracy: 0.8487 - val_loss: 0.2654 - val_accuracy: 0.8872\n",
      "Epoch 6/50\n",
      "25/25 [==============================] - 0s 1ms/step - loss: 0.3231 - accuracy: 0.8575 - val_loss: 0.2588 - val_accuracy: 0.8872\n",
      "Test loss: 0.25881603360176086\n",
      "Test accuracy: 0.8872180581092834\n"
     ]
    },
    {
     "name": "stderr",
     "output_type": "stream",
     "text": [
      "\n",
      " 87%|████████▋ | 27/31 [00:18<00:03,  1.22it/s]\u001b[A04/06/2021 01:41:17 PM - INFO - Getting Keras datasets\n",
      "04/06/2021 01:41:17 PM - INFO - Compling Keras model\n",
      "04/06/2021 01:41:17 PM - INFO - Architecture:[16, 32, 32, 64, 32, 16],sigmoid,adam,1\n"
     ]
    },
    {
     "name": "stdout",
     "output_type": "stream",
     "text": [
      "(1593,)\n",
      "(1593, 4)\n",
      "(1593, 2)\n",
      "(1593, 4)\n",
      "(1593, 4)\n",
      "(1593, 2)\n",
      "Epoch 1/50\n",
      "25/25 [==============================] - 0s 4ms/step - loss: 0.9158 - accuracy: 0.3139 - val_loss: 0.7811 - val_accuracy: 0.2556\n",
      "Epoch 2/50\n",
      "25/25 [==============================] - 0s 921us/step - loss: 0.7534 - accuracy: 0.4520 - val_loss: 0.6639 - val_accuracy: 0.7444\n",
      "Epoch 3/50\n",
      "25/25 [==============================] - 0s 921us/step - loss: 0.6503 - accuracy: 0.6202 - val_loss: 0.6107 - val_accuracy: 0.7444\n",
      "Epoch 4/50\n",
      "25/25 [==============================] - 0s 921us/step - loss: 0.6050 - accuracy: 0.7043 - val_loss: 0.5900 - val_accuracy: 0.7444\n"
     ]
    },
    {
     "name": "stderr",
     "output_type": "stream",
     "text": [
      "\n",
      " 90%|█████████ | 28/31 [00:19<00:02,  1.28it/s]\u001b[A04/06/2021 01:41:18 PM - INFO - Getting Keras datasets\n",
      "04/06/2021 01:41:18 PM - INFO - Compling Keras model\n",
      "04/06/2021 01:41:18 PM - INFO - Architecture:[128, 32, 64, 128, 32, 128],relu,adam,2\n"
     ]
    },
    {
     "name": "stdout",
     "output_type": "stream",
     "text": [
      "Test loss: 0.589973509311676\n",
      "Test accuracy: 0.7443609237670898\n",
      "(1593,)\n",
      "(1593, 4)\n",
      "(1593, 2)\n",
      "(1593, 4)\n",
      "(1593, 4)\n",
      "(1593, 2)\n",
      "Epoch 1/50\n",
      "25/25 [==============================] - 0s 5ms/step - loss: 0.6316 - accuracy: 0.7527 - val_loss: 0.6203 - val_accuracy: 0.7444\n",
      "Epoch 2/50\n",
      "25/25 [==============================] - 0s 1ms/step - loss: 0.5987 - accuracy: 0.7571 - val_loss: 0.5923 - val_accuracy: 0.7444\n",
      "Epoch 3/50\n",
      "25/25 [==============================] - 0s 1ms/step - loss: 0.5622 - accuracy: 0.7571 - val_loss: 0.5462 - val_accuracy: 0.7444\n"
     ]
    },
    {
     "name": "stderr",
     "output_type": "stream",
     "text": [
      "\n",
      " 94%|█████████▎| 29/31 [00:19<00:01,  1.35it/s]\u001b[A04/06/2021 01:41:18 PM - INFO - Getting Keras datasets\n",
      "04/06/2021 01:41:18 PM - INFO - Compling Keras model\n",
      "04/06/2021 01:41:18 PM - INFO - Architecture:[32, 16, 32, 128, 32, 16],relu,adam,3\n"
     ]
    },
    {
     "name": "stdout",
     "output_type": "stream",
     "text": [
      "Test loss: 0.5462312698364258\n",
      "Test accuracy: 0.7443609237670898\n",
      "(1593,)\n",
      "(1593, 4)\n",
      "(1593, 2)\n",
      "(1593, 4)\n",
      "(1593, 4)\n",
      "(1593, 2)\n",
      "Epoch 1/50\n",
      "25/25 [==============================] - 0s 11ms/step - loss: 0.6591 - accuracy: 0.7043 - val_loss: 0.6198 - val_accuracy: 0.7444\n",
      "Epoch 2/50\n",
      "25/25 [==============================] - 0s 1ms/step - loss: 0.5985 - accuracy: 0.7571 - val_loss: 0.5889 - val_accuracy: 0.7444\n",
      "Epoch 3/50\n",
      "25/25 [==============================] - 0s 1ms/step - loss: 0.5710 - accuracy: 0.7571 - val_loss: 0.5621 - val_accuracy: 0.7444\n"
     ]
    },
    {
     "name": "stderr",
     "output_type": "stream",
     "text": [
      "\n",
      " 97%|█████████▋| 30/31 [00:20<00:00,  1.31it/s]\u001b[A04/06/2021 01:41:19 PM - INFO - Getting Keras datasets\n",
      "04/06/2021 01:41:19 PM - INFO - Compling Keras model\n",
      "04/06/2021 01:41:19 PM - INFO - Architecture:[64, 64, 128, 64, 16, 32],relu,adam,4\n"
     ]
    },
    {
     "name": "stdout",
     "output_type": "stream",
     "text": [
      "Test loss: 0.5620893239974976\n",
      "Test accuracy: 0.7443609237670898\n",
      "(1593,)\n",
      "(1593, 4)\n",
      "(1593, 2)\n",
      "(1593, 4)\n",
      "(1593, 4)\n",
      "(1593, 2)\n",
      "Epoch 1/50\n",
      "25/25 [==============================] - 0s 5ms/step - loss: 0.6299 - accuracy: 0.7288 - val_loss: 0.5943 - val_accuracy: 0.7444\n",
      "Epoch 2/50\n",
      "25/25 [==============================] - 0s 2ms/step - loss: 0.5579 - accuracy: 0.7571 - val_loss: 0.5187 - val_accuracy: 0.7444\n",
      "Epoch 3/50\n",
      "25/25 [==============================] - 0s 2ms/step - loss: 0.4834 - accuracy: 0.7765 - val_loss: 0.3790 - val_accuracy: 0.8596\n",
      "Epoch 4/50\n",
      "25/25 [==============================] - 0s 2ms/step - loss: 0.3732 - accuracy: 0.8330 - val_loss: 0.3248 - val_accuracy: 0.8471\n",
      "Epoch 5/50\n",
      "25/25 [==============================] - 0s 2ms/step - loss: 0.3421 - accuracy: 0.8393 - val_loss: 0.2713 - val_accuracy: 0.8897\n",
      "Epoch 6/50\n",
      "25/25 [==============================] - 0s 2ms/step - loss: 0.2998 - accuracy: 0.8694 - val_loss: 0.2590 - val_accuracy: 0.8947\n",
      "Epoch 7/50\n",
      "25/25 [==============================] - 0s 2ms/step - loss: 0.2934 - accuracy: 0.8707 - val_loss: 0.2404 - val_accuracy: 0.9023\n"
     ]
    },
    {
     "name": "stderr",
     "output_type": "stream",
     "text": [
      "\n",
      "100%|██████████| 31/31 [00:21<00:00,  1.44it/s]\u001b[A\n",
      "04/06/2021 01:41:20 PM - INFO - Generation average: 82.06%\n",
      "04/06/2021 01:41:20 PM - INFO - --------------------------------------------------------------------------------\n",
      "04/06/2021 01:41:20 PM - INFO - ***Now in generation 3 of 50***\n"
     ]
    },
    {
     "name": "stdout",
     "output_type": "stream",
     "text": [
      "Test loss: 0.2404327392578125\n",
      "Test accuracy: 0.902255654335022\n"
     ]
    },
    {
     "name": "stderr",
     "output_type": "stream",
     "text": [
      "04/06/2021 01:41:20 PM - INFO - --------------------------------------------------------------------------------\n",
      "04/06/2021 01:41:20 PM - INFO - {'activation': 'relu', 'nb_layers': 5, 'optimizer': 'adam', 'nb_neurons': [128, 32, 32, 32, 32, 128]}\n",
      "04/06/2021 01:41:20 PM - INFO - Acc: 90.73%\n",
      "04/06/2021 01:41:20 PM - INFO - UniID: 44\n",
      "04/06/2021 01:41:20 PM - INFO - Mom and Dad: 5 8\n",
      "04/06/2021 01:41:20 PM - INFO - Gen: 2\n",
      "04/06/2021 01:41:20 PM - INFO - Hash: 3f103ef13a9b80154c97d60aabac5ea2\n",
      "04/06/2021 01:41:20 PM - INFO - {'activation': 'relu', 'nb_layers': 2, 'optimizer': 'adam', 'nb_neurons': [128, 128, 64, 128, 32, 128]}\n",
      "04/06/2021 01:41:20 PM - INFO - Acc: 90.73%\n",
      "04/06/2021 01:41:20 PM - INFO - UniID: 47\n",
      "04/06/2021 01:41:20 PM - INFO - Mom and Dad: 30 8\n",
      "04/06/2021 01:41:20 PM - INFO - Gen: 2\n",
      "04/06/2021 01:41:20 PM - INFO - Hash: 3e9f1e864fca4088a2939973900cd2c9\n",
      "04/06/2021 01:41:20 PM - INFO - {'activation': 'relu', 'nb_layers': 3, 'optimizer': 'adam', 'nb_neurons': [64, 64, 128, 32, 128, 128]}\n",
      "04/06/2021 01:41:20 PM - INFO - Acc: 90.23%\n",
      "04/06/2021 01:41:20 PM - INFO - UniID: 33\n",
      "04/06/2021 01:41:20 PM - INFO - Mom and Dad: 25 13\n",
      "04/06/2021 01:41:20 PM - INFO - Gen: 2\n",
      "04/06/2021 01:41:20 PM - INFO - Hash: 844e41539c556fe66c921ccf1f3bc921\n",
      "04/06/2021 01:41:20 PM - INFO - {'activation': 'relu', 'nb_layers': 4, 'optimizer': 'adam', 'nb_neurons': [64, 64, 128, 64, 16, 32]}\n",
      "04/06/2021 01:41:20 PM - INFO - Acc: 90.23%\n",
      "04/06/2021 01:41:20 PM - INFO - UniID: 54\n",
      "04/06/2021 01:41:20 PM - INFO - Mom and Dad: 25 9\n",
      "04/06/2021 01:41:20 PM - INFO - Gen: 2\n",
      "04/06/2021 01:41:20 PM - INFO - Hash: d3458b514d6d7e794ffba7b3f3d0ef93\n",
      "04/06/2021 01:41:20 PM - INFO - {'activation': 'relu', 'nb_layers': 1, 'optimizer': 'adamax', 'nb_neurons': [128, 128, 32, 32, 32, 128]}\n",
      "04/06/2021 01:41:20 PM - INFO - Acc: 0.00%\n",
      "04/06/2021 01:41:20 PM - INFO - UniID: 38\n",
      "04/06/2021 01:41:20 PM - INFO - Mom and Dad: 9 8\n",
      "04/06/2021 01:41:20 PM - INFO - Gen: 3\n",
      "04/06/2021 01:41:20 PM - INFO - Hash: f523ec96db8a6c4922584a5c51912b13\n",
      "04/06/2021 01:41:20 PM - INFO - {'activation': 'sigmoid', 'nb_layers': 5, 'optimizer': 'adam', 'nb_neurons': [128, 128, 32, 32, 32, 64]}\n",
      "04/06/2021 01:41:20 PM - INFO - Acc: 0.00%\n",
      "04/06/2021 01:41:20 PM - INFO - UniID: 40\n",
      "04/06/2021 01:41:20 PM - INFO - Mom and Dad: 30 8\n",
      "04/06/2021 01:41:20 PM - INFO - Gen: 3\n",
      "04/06/2021 01:41:20 PM - INFO - Hash: 5a94bb7e24e33de3517386e3ffcb9cc7\n",
      "04/06/2021 01:41:20 PM - INFO - {'activation': 'relu', 'nb_layers': 2, 'optimizer': 'adam', 'nb_neurons': [128, 32, 64, 32, 32, 128]}\n",
      "04/06/2021 01:41:20 PM - INFO - Acc: 0.00%\n",
      "04/06/2021 01:41:20 PM - INFO - UniID: 52\n",
      "04/06/2021 01:41:20 PM - INFO - Mom and Dad: 5 30\n",
      "04/06/2021 01:41:20 PM - INFO - Gen: 3\n",
      "04/06/2021 01:41:20 PM - INFO - Hash: 158a566fe36ad1b257db7a37886c846d\n",
      "04/06/2021 01:41:20 PM - INFO - {'activation': 'sigmoid', 'nb_layers': 3, 'optimizer': 'adamax', 'nb_neurons': [32, 16, 32, 128, 32, 16]}\n",
      "04/06/2021 01:41:20 PM - INFO - Acc: 0.00%\n",
      "04/06/2021 01:41:20 PM - INFO - UniID: 53\n",
      "04/06/2021 01:41:20 PM - INFO - Mom and Dad: 25 9\n",
      "04/06/2021 01:41:20 PM - INFO - Gen: 3\n",
      "04/06/2021 01:41:20 PM - INFO - Hash: bd9e48d263786d84ef1de90cd5f3327c\n",
      "04/06/2021 01:41:20 PM - INFO - {'activation': 'sigmoid', 'nb_layers': 3, 'optimizer': 'adam', 'nb_neurons': [64, 64, 128, 32, 128, 128]}\n",
      "04/06/2021 01:41:20 PM - INFO - Acc: 0.00%\n",
      "04/06/2021 01:41:20 PM - INFO - UniID: 55\n",
      "04/06/2021 01:41:20 PM - INFO - Mom and Dad: 33 47\n",
      "04/06/2021 01:41:20 PM - INFO - Gen: 3\n",
      "04/06/2021 01:41:20 PM - INFO - Hash: 89bbf25b586ef448f107457f98b15951\n",
      "04/06/2021 01:41:20 PM - INFO - {'activation': 'relu', 'nb_layers': 2, 'optimizer': 'adam', 'nb_neurons': [128, 128, 64, 128, 16, 128]}\n",
      "04/06/2021 01:41:20 PM - INFO - Acc: 0.00%\n",
      "04/06/2021 01:41:20 PM - INFO - UniID: 56\n",
      "04/06/2021 01:41:20 PM - INFO - Mom and Dad: 33 47\n",
      "04/06/2021 01:41:20 PM - INFO - Gen: 3\n",
      "04/06/2021 01:41:20 PM - INFO - Hash: 4c0bc17f4282244896c515a81c0d4d10\n",
      "04/06/2021 01:41:20 PM - INFO - {'activation': 'relu', 'nb_layers': 2, 'optimizer': 'adam', 'nb_neurons': [128, 32, 128, 32, 32, 128]}\n",
      "04/06/2021 01:41:20 PM - INFO - Acc: 0.00%\n",
      "04/06/2021 01:41:20 PM - INFO - UniID: 57\n",
      "04/06/2021 01:41:20 PM - INFO - Mom and Dad: 47 52\n",
      "04/06/2021 01:41:20 PM - INFO - Gen: 3\n",
      "04/06/2021 01:41:20 PM - INFO - Hash: 85fee8a5dc6093c790ad96e3f76cef86\n",
      "04/06/2021 01:41:20 PM - INFO - {'activation': 'relu', 'nb_layers': 2, 'optimizer': 'adam', 'nb_neurons': [32, 128, 64, 128, 32, 128]}\n",
      "04/06/2021 01:41:20 PM - INFO - Acc: 0.00%\n",
      "04/06/2021 01:41:20 PM - INFO - UniID: 58\n",
      "04/06/2021 01:41:20 PM - INFO - Mom and Dad: 47 52\n",
      "04/06/2021 01:41:20 PM - INFO - Gen: 3\n",
      "04/06/2021 01:41:20 PM - INFO - Hash: a852caf7bad3e998bd4820cdc70a31cf\n",
      "04/06/2021 01:41:20 PM - INFO - {'activation': 'relu', 'nb_layers': 4, 'optimizer': 'adam', 'nb_neurons': [64, 64, 128, 128, 16, 128]}\n",
      "04/06/2021 01:41:20 PM - INFO - Acc: 0.00%\n",
      "04/06/2021 01:41:20 PM - INFO - UniID: 59\n",
      "04/06/2021 01:41:20 PM - INFO - Mom and Dad: 54 44\n",
      "04/06/2021 01:41:20 PM - INFO - Gen: 3\n",
      "04/06/2021 01:41:20 PM - INFO - Hash: 387932e07da88ad63b897e62c93e283c\n",
      "04/06/2021 01:41:20 PM - INFO - {'activation': 'relu', 'nb_layers': 5, 'optimizer': 'adam', 'nb_neurons': [128, 32, 32, 32, 128, 32]}\n",
      "04/06/2021 01:41:20 PM - INFO - Acc: 0.00%\n",
      "04/06/2021 01:41:20 PM - INFO - UniID: 60\n",
      "04/06/2021 01:41:20 PM - INFO - Mom and Dad: 54 44\n",
      "04/06/2021 01:41:20 PM - INFO - Gen: 3\n",
      "04/06/2021 01:41:20 PM - INFO - Hash: a2eb6e11ea73c3ba9a98e9077f30d484\n",
      "04/06/2021 01:41:20 PM - INFO - {'activation': 'relu', 'nb_layers': 2, 'optimizer': 'adam', 'nb_neurons': [128, 32, 64, 32, 32, 16]}\n",
      "04/06/2021 01:41:20 PM - INFO - Acc: 0.00%\n",
      "04/06/2021 01:41:20 PM - INFO - UniID: 61\n",
      "04/06/2021 01:41:20 PM - INFO - Mom and Dad: 52 47\n",
      "04/06/2021 01:41:20 PM - INFO - Gen: 3\n",
      "04/06/2021 01:41:20 PM - INFO - Hash: 0d16a11ba6aa64da1e98803658e86dcc\n",
      "04/06/2021 01:41:20 PM - INFO - {'activation': 'softmax', 'nb_layers': 2, 'optimizer': 'adam', 'nb_neurons': [128, 128, 64, 128, 32, 128]}\n",
      "04/06/2021 01:41:20 PM - INFO - Acc: 0.00%\n",
      "04/06/2021 01:41:20 PM - INFO - UniID: 62\n",
      "04/06/2021 01:41:20 PM - INFO - Mom and Dad: 52 47\n",
      "04/06/2021 01:41:20 PM - INFO - Gen: 3\n",
      "04/06/2021 01:41:20 PM - INFO - Hash: 1ddb92f88255d0fc912d46379f3f842b\n",
      "04/06/2021 01:41:20 PM - INFO - {'activation': 'relu', 'nb_layers': 2, 'optimizer': 'adam', 'nb_neurons': [64, 64, 128, 32, 128, 128]}\n",
      "04/06/2021 01:41:20 PM - INFO - Acc: 0.00%\n",
      "04/06/2021 01:41:20 PM - INFO - UniID: 63\n",
      "04/06/2021 01:41:20 PM - INFO - Mom and Dad: 52 33\n",
      "04/06/2021 01:41:20 PM - INFO - Gen: 3\n",
      "04/06/2021 01:41:20 PM - INFO - Hash: c8f92a3c7fa6a354abe9b3c8da3cdf94\n",
      "04/06/2021 01:41:20 PM - INFO - {'activation': 'relu', 'nb_layers': 3, 'optimizer': 'adam', 'nb_neurons': [128, 32, 64, 32, 32, 32]}\n",
      "04/06/2021 01:41:20 PM - INFO - Acc: 0.00%\n",
      "04/06/2021 01:41:20 PM - INFO - UniID: 64\n",
      "04/06/2021 01:41:20 PM - INFO - Mom and Dad: 52 33\n",
      "04/06/2021 01:41:20 PM - INFO - Gen: 3\n",
      "04/06/2021 01:41:20 PM - INFO - Hash: 8b0248695dacb6295b711748cbf9395c\n",
      "04/06/2021 01:41:20 PM - INFO - {'activation': 'relu', 'nb_layers': 3, 'optimizer': 'adam', 'nb_neurons': [16, 64, 128, 64, 16, 32]}\n",
      "04/06/2021 01:41:20 PM - INFO - Acc: 0.00%\n",
      "04/06/2021 01:41:20 PM - INFO - UniID: 65\n",
      "04/06/2021 01:41:20 PM - INFO - Mom and Dad: 33 54\n",
      "04/06/2021 01:41:20 PM - INFO - Gen: 3\n",
      "04/06/2021 01:41:20 PM - INFO - Hash: 29410d131b8e24f7164a902cf7df1ccb\n",
      "04/06/2021 01:41:20 PM - INFO - {'activation': 'relu', 'nb_layers': 4, 'optimizer': 'adam', 'nb_neurons': [64, 64, 128, 16, 128, 128]}\n",
      "04/06/2021 01:41:20 PM - INFO - Acc: 0.00%\n",
      "04/06/2021 01:41:20 PM - INFO - UniID: 66\n",
      "04/06/2021 01:41:20 PM - INFO - Mom and Dad: 33 54\n",
      "04/06/2021 01:41:20 PM - INFO - Gen: 3\n",
      "04/06/2021 01:41:20 PM - INFO - Hash: 695ea21bf24e4482d0558f68627d547e\n",
      "04/06/2021 01:41:20 PM - INFO - {'activation': 'relu', 'nb_layers': 4, 'optimizer': 'adam', 'nb_neurons': [32, 64, 128, 64, 16, 32]}\n",
      "04/06/2021 01:41:20 PM - INFO - Acc: 0.00%\n",
      "04/06/2021 01:41:20 PM - INFO - UniID: 67\n",
      "04/06/2021 01:41:20 PM - INFO - Mom and Dad: 47 54\n",
      "04/06/2021 01:41:20 PM - INFO - Gen: 3\n",
      "04/06/2021 01:41:20 PM - INFO - Hash: d999af9bc04d387b00764c6d3f17f172\n",
      "04/06/2021 01:41:20 PM - INFO - {'activation': 'sigmoid', 'nb_layers': 2, 'optimizer': 'adam', 'nb_neurons': [128, 128, 64, 128, 32, 128]}\n"
     ]
    },
    {
     "name": "stderr",
     "output_type": "stream",
     "text": [
      "04/06/2021 01:41:20 PM - INFO - Acc: 0.00%\n",
      "04/06/2021 01:41:20 PM - INFO - UniID: 68\n",
      "04/06/2021 01:41:20 PM - INFO - Mom and Dad: 47 54\n",
      "04/06/2021 01:41:20 PM - INFO - Gen: 3\n",
      "04/06/2021 01:41:20 PM - INFO - Hash: 1bbac88e1073a27a925b49b28c445f8b\n",
      "04/06/2021 01:41:20 PM - INFO - {'activation': 'relu', 'nb_layers': 1, 'optimizer': 'adam', 'nb_neurons': [128, 32, 32, 32, 32, 64]}\n",
      "04/06/2021 01:41:20 PM - INFO - Acc: 0.00%\n",
      "04/06/2021 01:41:20 PM - INFO - UniID: 69\n",
      "04/06/2021 01:41:20 PM - INFO - Mom and Dad: 38 40\n",
      "04/06/2021 01:41:20 PM - INFO - Gen: 3\n",
      "04/06/2021 01:41:20 PM - INFO - Hash: ff62242e6c59f72429cc9bd3e1528853\n",
      "04/06/2021 01:41:20 PM - INFO - {'activation': 'sigmoid', 'nb_layers': 5, 'optimizer': 'adamax', 'nb_neurons': [128, 128, 32, 32, 32, 128]}\n",
      "04/06/2021 01:41:20 PM - INFO - Acc: 0.00%\n",
      "04/06/2021 01:41:20 PM - INFO - UniID: 70\n",
      "04/06/2021 01:41:20 PM - INFO - Mom and Dad: 38 40\n",
      "04/06/2021 01:41:20 PM - INFO - Gen: 3\n",
      "04/06/2021 01:41:20 PM - INFO - Hash: d97648899f88196d8ffafb21ab322269\n",
      "04/06/2021 01:41:20 PM - INFO - {'activation': 'relu', 'nb_layers': 5, 'optimizer': 'adam', 'nb_neurons': [128, 64, 128, 64, 16, 32]}\n",
      "04/06/2021 01:41:20 PM - INFO - Acc: 0.00%\n",
      "04/06/2021 01:41:20 PM - INFO - UniID: 71\n",
      "04/06/2021 01:41:20 PM - INFO - Mom and Dad: 44 54\n",
      "04/06/2021 01:41:20 PM - INFO - Gen: 3\n",
      "04/06/2021 01:41:20 PM - INFO - Hash: 7f7ad311399fa60ef3889f294076adcd\n",
      "04/06/2021 01:41:20 PM - INFO - {'activation': 'relu', 'nb_layers': 4, 'optimizer': 'adam', 'nb_neurons': [64, 32, 32, 32, 32, 128]}\n",
      "04/06/2021 01:41:20 PM - INFO - Acc: 0.00%\n",
      "04/06/2021 01:41:20 PM - INFO - UniID: 72\n",
      "04/06/2021 01:41:20 PM - INFO - Mom and Dad: 44 54\n",
      "04/06/2021 01:41:20 PM - INFO - Gen: 3\n",
      "04/06/2021 01:41:20 PM - INFO - Hash: 7cd7deb39b00bdabde617e9791718a82\n",
      "04/06/2021 01:41:20 PM - INFO - {'activation': 'relu', 'nb_layers': 2, 'optimizer': 'adam', 'nb_neurons': [128, 128, 64, 128, 32, 32]}\n",
      "04/06/2021 01:41:20 PM - INFO - Acc: 0.00%\n",
      "04/06/2021 01:41:20 PM - INFO - UniID: 73\n",
      "04/06/2021 01:41:20 PM - INFO - Mom and Dad: 47 33\n",
      "04/06/2021 01:41:20 PM - INFO - Gen: 3\n",
      "04/06/2021 01:41:20 PM - INFO - Hash: 35600d488eecf3001d9f34c76bc1447d\n",
      "04/06/2021 01:41:20 PM - INFO - {'activation': 'relu', 'nb_layers': 3, 'optimizer': 'adam', 'nb_neurons': [64, 64, 128, 32, 128, 32]}\n",
      "04/06/2021 01:41:20 PM - INFO - Acc: 0.00%\n",
      "04/06/2021 01:41:20 PM - INFO - UniID: 74\n",
      "04/06/2021 01:41:20 PM - INFO - Mom and Dad: 47 33\n",
      "04/06/2021 01:41:20 PM - INFO - Gen: 3\n",
      "04/06/2021 01:41:20 PM - INFO - Hash: 40a7b9d4bd657d4e4e161694ed07b5fb\n",
      "04/06/2021 01:41:20 PM - INFO - {'activation': 'relu', 'nb_layers': 4, 'optimizer': 'adamax', 'nb_neurons': [64, 64, 32, 32, 32, 128]}\n",
      "04/06/2021 01:41:20 PM - INFO - Acc: 0.00%\n",
      "04/06/2021 01:41:20 PM - INFO - UniID: 75\n",
      "04/06/2021 01:41:20 PM - INFO - Mom and Dad: 54 38\n",
      "04/06/2021 01:41:20 PM - INFO - Gen: 3\n",
      "04/06/2021 01:41:20 PM - INFO - Hash: 41334ee1edae39bc60e68c0fb83a7b06\n",
      "04/06/2021 01:41:20 PM - INFO - {'activation': 'relu', 'nb_layers': 1, 'optimizer': 'adamax', 'nb_neurons': [128, 128, 32, 64, 16, 32]}\n",
      "04/06/2021 01:41:20 PM - INFO - Acc: 0.00%\n",
      "04/06/2021 01:41:20 PM - INFO - UniID: 76\n",
      "04/06/2021 01:41:20 PM - INFO - Mom and Dad: 54 38\n",
      "04/06/2021 01:41:20 PM - INFO - Gen: 3\n",
      "04/06/2021 01:41:20 PM - INFO - Hash: f5898445f6843f9eee96ec3a2f8e1dec\n",
      "04/06/2021 01:41:20 PM - INFO - {'activation': 'sigmoid', 'nb_layers': 5, 'optimizer': 'adam', 'nb_neurons': [128, 64, 128, 64, 16, 32]}\n",
      "04/06/2021 01:41:20 PM - INFO - Acc: 0.00%\n",
      "04/06/2021 01:41:20 PM - INFO - UniID: 77\n",
      "04/06/2021 01:41:20 PM - INFO - Mom and Dad: 40 54\n",
      "04/06/2021 01:41:20 PM - INFO - Gen: 3\n",
      "04/06/2021 01:41:20 PM - INFO - Hash: b6e29abe28b4022a70cb289f20a055f4\n",
      "04/06/2021 01:41:20 PM - INFO - {'activation': 'relu', 'nb_layers': 4, 'optimizer': 'adam', 'nb_neurons': [64, 128, 32, 16, 32, 64]}\n",
      "04/06/2021 01:41:20 PM - INFO - Acc: 0.00%\n",
      "04/06/2021 01:41:20 PM - INFO - UniID: 78\n",
      "04/06/2021 01:41:20 PM - INFO - Mom and Dad: 40 54\n",
      "04/06/2021 01:41:20 PM - INFO - Gen: 3\n",
      "04/06/2021 01:41:20 PM - INFO - Hash: 85ffb7a8a80b38b9400ae8a5ec6b6559\n",
      "04/06/2021 01:41:20 PM - INFO - ***train_networks(networks, dataset)***\n",
      "\n",
      "  0%|          | 0/32 [00:00<?, ?it/s]\u001b[A04/06/2021 01:41:20 PM - INFO - Getting Keras datasets\n",
      "04/06/2021 01:41:20 PM - INFO - Compling Keras model\n",
      "04/06/2021 01:41:20 PM - INFO - Architecture:[128, 128, 32, 32, 32, 128],relu,adamax,1\n"
     ]
    },
    {
     "name": "stdout",
     "output_type": "stream",
     "text": [
      "(1593,)\n",
      "(1593, 4)\n",
      "(1593, 2)\n",
      "(1593, 4)\n",
      "(1593, 4)\n",
      "(1593, 2)\n",
      "Epoch 1/50\n",
      "25/25 [==============================] - 0s 4ms/step - loss: 0.6433 - accuracy: 0.7407 - val_loss: 0.6290 - val_accuracy: 0.7444\n",
      "Epoch 2/50\n",
      "25/25 [==============================] - 0s 1ms/step - loss: 0.6110 - accuracy: 0.7571 - val_loss: 0.6169 - val_accuracy: 0.7444\n",
      "Epoch 3/50\n",
      "25/25 [==============================] - 0s 1ms/step - loss: 0.5991 - accuracy: 0.7571 - val_loss: 0.6050 - val_accuracy: 0.7444\n",
      "Test loss: 0.6050280928611755\n",
      "Test accuracy: 0.7443609237670898\n"
     ]
    },
    {
     "name": "stderr",
     "output_type": "stream",
     "text": [
      "\n",
      " 16%|█▌        | 5/32 [00:00<00:03,  8.75it/s]\u001b[A04/06/2021 01:41:21 PM - INFO - Getting Keras datasets\n",
      "04/06/2021 01:41:21 PM - INFO - Compling Keras model\n",
      "04/06/2021 01:41:21 PM - INFO - Architecture:[128, 128, 32, 32, 32, 64],sigmoid,adam,5\n"
     ]
    },
    {
     "name": "stdout",
     "output_type": "stream",
     "text": [
      "(1593,)\n",
      "(1593, 4)\n",
      "(1593, 2)\n",
      "(1593, 4)\n",
      "(1593, 4)\n",
      "(1593, 2)\n",
      "Epoch 1/50\n",
      "25/25 [==============================] - 0s 6ms/step - loss: 0.7510 - accuracy: 0.5304 - val_loss: 0.5685 - val_accuracy: 0.7444\n",
      "Epoch 2/50\n",
      "25/25 [==============================] - 0s 2ms/step - loss: 0.5941 - accuracy: 0.7489 - val_loss: 0.5737 - val_accuracy: 0.7444\n",
      "Epoch 3/50\n",
      "25/25 [==============================] - 0s 2ms/step - loss: 0.5994 - accuracy: 0.7376 - val_loss: 0.5701 - val_accuracy: 0.7444\n"
     ]
    },
    {
     "name": "stderr",
     "output_type": "stream",
     "text": [
      "\n",
      " 19%|█▉        | 6/32 [00:01<00:08,  3.14it/s]\u001b[A04/06/2021 01:41:22 PM - INFO - Getting Keras datasets\n",
      "04/06/2021 01:41:22 PM - INFO - Compling Keras model\n",
      "04/06/2021 01:41:22 PM - INFO - Architecture:[128, 32, 64, 32, 32, 128],relu,adam,2\n"
     ]
    },
    {
     "name": "stdout",
     "output_type": "stream",
     "text": [
      "Test loss: 0.5701081156730652\n",
      "Test accuracy: 0.7443609237670898\n",
      "(1593,)\n",
      "(1593, 4)\n",
      "(1593, 2)\n",
      "(1593, 4)\n",
      "(1593, 4)\n",
      "(1593, 2)\n",
      "Epoch 1/50\n",
      "25/25 [==============================] - 0s 6ms/step - loss: 0.6453 - accuracy: 0.7207 - val_loss: 0.6211 - val_accuracy: 0.7444\n",
      "Epoch 2/50\n",
      "25/25 [==============================] - 0s 1ms/step - loss: 0.6012 - accuracy: 0.7571 - val_loss: 0.5843 - val_accuracy: 0.7444\n",
      "Epoch 3/50\n",
      "25/25 [==============================] - 0s 1ms/step - loss: 0.5586 - accuracy: 0.7571 - val_loss: 0.5334 - val_accuracy: 0.7444\n"
     ]
    },
    {
     "name": "stderr",
     "output_type": "stream",
     "text": [
      "\n",
      " 22%|██▏       | 7/32 [00:02<00:10,  2.42it/s]\u001b[A04/06/2021 01:41:22 PM - INFO - Getting Keras datasets\n",
      "04/06/2021 01:41:22 PM - INFO - Compling Keras model\n",
      "04/06/2021 01:41:22 PM - INFO - Architecture:[32, 16, 32, 128, 32, 16],sigmoid,adamax,3\n"
     ]
    },
    {
     "name": "stdout",
     "output_type": "stream",
     "text": [
      "Test loss: 0.5333769917488098\n",
      "Test accuracy: 0.7443609237670898\n",
      "(1593,)\n",
      "(1593, 4)\n",
      "(1593, 2)\n",
      "(1593, 4)\n",
      "(1593, 4)\n",
      "(1593, 2)\n",
      "Epoch 1/50\n",
      "25/25 [==============================] - 0s 5ms/step - loss: 0.6727 - accuracy: 0.5926 - val_loss: 0.5873 - val_accuracy: 0.7444\n",
      "Epoch 2/50\n",
      "25/25 [==============================] - 0s 1ms/step - loss: 0.5876 - accuracy: 0.7407 - val_loss: 0.5705 - val_accuracy: 0.7444\n",
      "Epoch 3/50\n",
      "25/25 [==============================] - 0s 1ms/step - loss: 0.5708 - accuracy: 0.7508 - val_loss: 0.5698 - val_accuracy: 0.7444\n"
     ]
    },
    {
     "name": "stderr",
     "output_type": "stream",
     "text": [
      "\n",
      " 25%|██▌       | 8/32 [00:02<00:11,  2.09it/s]\u001b[A04/06/2021 01:41:23 PM - INFO - Getting Keras datasets\n",
      "04/06/2021 01:41:23 PM - INFO - Compling Keras model\n",
      "04/06/2021 01:41:23 PM - INFO - Architecture:[64, 64, 128, 32, 128, 128],sigmoid,adam,3\n"
     ]
    },
    {
     "name": "stdout",
     "output_type": "stream",
     "text": [
      "Test loss: 0.5697804093360901\n",
      "Test accuracy: 0.7443609237670898\n",
      "(1593,)\n",
      "(1593, 4)\n",
      "(1593, 2)\n",
      "(1593, 4)\n",
      "(1593, 4)\n",
      "(1593, 2)\n",
      "Epoch 1/50\n",
      " 1/25 [>.............................] - ETA: 0s - loss: 0.7447 - accuracy: 0.4531WARNING:tensorflow:Callbacks method `on_test_batch_begin` is slow compared to the batch time (batch time: 0.0000s vs `on_test_batch_begin` time: 0.0010s). Check your callbacks.\n"
     ]
    },
    {
     "name": "stderr",
     "output_type": "stream",
     "text": [
      "04/06/2021 01:41:24 PM - WARNING - Callbacks method `on_test_batch_begin` is slow compared to the batch time (batch time: 0.0000s vs `on_test_batch_begin` time: 0.0010s). Check your callbacks.\n"
     ]
    },
    {
     "name": "stdout",
     "output_type": "stream",
     "text": [
      "25/25 [==============================] - 0s 5ms/step - loss: 0.6057 - accuracy: 0.7288 - val_loss: 0.5717 - val_accuracy: 0.7444\n",
      "Epoch 2/50\n",
      "25/25 [==============================] - 0s 2ms/step - loss: 0.5800 - accuracy: 0.7508 - val_loss: 0.5685 - val_accuracy: 0.7444\n",
      "Epoch 3/50\n",
      "25/25 [==============================] - 0s 2ms/step - loss: 0.5701 - accuracy: 0.7502 - val_loss: 0.5800 - val_accuracy: 0.7444\n"
     ]
    },
    {
     "name": "stderr",
     "output_type": "stream",
     "text": [
      "\n",
      " 28%|██▊       | 9/32 [00:03<00:13,  1.73it/s]\u001b[A04/06/2021 01:41:24 PM - INFO - Getting Keras datasets\n",
      "04/06/2021 01:41:24 PM - INFO - Compling Keras model\n",
      "04/06/2021 01:41:24 PM - INFO - Architecture:[128, 128, 64, 128, 16, 128],relu,adam,2\n"
     ]
    },
    {
     "name": "stdout",
     "output_type": "stream",
     "text": [
      "Test loss: 0.5799794793128967\n",
      "Test accuracy: 0.7443609237670898\n",
      "(1593,)\n",
      "(1593, 4)\n",
      "(1593, 2)\n",
      "(1593, 4)\n",
      "(1593, 4)\n",
      "(1593, 2)\n",
      "Epoch 1/50\n",
      "25/25 [==============================] - 0s 5ms/step - loss: 0.6318 - accuracy: 0.7175 - val_loss: 0.6039 - val_accuracy: 0.7444\n",
      "Epoch 2/50\n",
      "25/25 [==============================] - 0s 2ms/step - loss: 0.5580 - accuracy: 0.7571 - val_loss: 0.5198 - val_accuracy: 0.7444\n",
      "Epoch 3/50\n",
      "25/25 [==============================] - 0s 2ms/step - loss: 0.4665 - accuracy: 0.7847 - val_loss: 0.3953 - val_accuracy: 0.8246\n",
      "Epoch 4/50\n",
      "25/25 [==============================] - 0s 2ms/step - loss: 0.3599 - accuracy: 0.8456 - val_loss: 0.3088 - val_accuracy: 0.8371\n",
      "Epoch 5/50\n",
      "25/25 [==============================] - 0s 2ms/step - loss: 0.2942 - accuracy: 0.8726 - val_loss: 0.2573 - val_accuracy: 0.8847\n",
      "Epoch 6/50\n",
      "25/25 [==============================] - 0s 1ms/step - loss: 0.2771 - accuracy: 0.8669 - val_loss: 0.2355 - val_accuracy: 0.8972\n",
      "Epoch 7/50\n",
      "25/25 [==============================] - 0s 1ms/step - loss: 0.2697 - accuracy: 0.8814 - val_loss: 0.2320 - val_accuracy: 0.8972\n",
      "Test loss: 0.23197965323925018\n",
      "Test accuracy: 0.897243082523346\n"
     ]
    },
    {
     "name": "stderr",
     "output_type": "stream",
     "text": [
      "\n",
      " 31%|███▏      | 10/32 [00:04<00:14,  1.55it/s]\u001b[A04/06/2021 01:41:25 PM - INFO - Getting Keras datasets\n",
      "04/06/2021 01:41:25 PM - INFO - Compling Keras model\n",
      "04/06/2021 01:41:25 PM - INFO - Architecture:[128, 32, 128, 32, 32, 128],relu,adam,2\n"
     ]
    },
    {
     "name": "stdout",
     "output_type": "stream",
     "text": [
      "(1593,)\n",
      "(1593, 4)\n",
      "(1593, 2)\n",
      "(1593, 4)\n",
      "(1593, 4)\n",
      "(1593, 2)\n",
      "Epoch 1/50\n",
      " 1/25 [>.............................] - ETA: 0s - loss: 0.7027 - accuracy: 0.3906WARNING:tensorflow:Callbacks method `on_train_batch_end` is slow compared to the batch time (batch time: 0.0000s vs `on_train_batch_end` time: 0.0010s). Check your callbacks.\n"
     ]
    },
    {
     "name": "stderr",
     "output_type": "stream",
     "text": [
      "04/06/2021 01:41:25 PM - WARNING - Callbacks method `on_train_batch_end` is slow compared to the batch time (batch time: 0.0000s vs `on_train_batch_end` time: 0.0010s). Check your callbacks.\n"
     ]
    },
    {
     "name": "stdout",
     "output_type": "stream",
     "text": [
      "25/25 [==============================] - 0s 5ms/step - loss: 0.6397 - accuracy: 0.7125 - val_loss: 0.6075 - val_accuracy: 0.7444\n",
      "Epoch 2/50\n",
      "25/25 [==============================] - 0s 1ms/step - loss: 0.5795 - accuracy: 0.7571 - val_loss: 0.5733 - val_accuracy: 0.7444\n",
      "Epoch 3/50\n",
      "25/25 [==============================] - 0s 1ms/step - loss: 0.5513 - accuracy: 0.7571 - val_loss: 0.5151 - val_accuracy: 0.7444\n"
     ]
    },
    {
     "name": "stderr",
     "output_type": "stream",
     "text": [
      "\n",
      " 34%|███▍      | 11/32 [00:05<00:13,  1.56it/s]\u001b[A04/06/2021 01:41:25 PM - INFO - Getting Keras datasets\n",
      "04/06/2021 01:41:25 PM - INFO - Compling Keras model\n",
      "04/06/2021 01:41:25 PM - INFO - Architecture:[32, 128, 64, 128, 32, 128],relu,adam,2\n"
     ]
    },
    {
     "name": "stdout",
     "output_type": "stream",
     "text": [
      "Test loss: 0.5151228904724121\n",
      "Test accuracy: 0.7443609237670898\n",
      "(1593,)\n",
      "(1593, 4)\n",
      "(1593, 2)\n",
      "(1593, 4)\n",
      "(1593, 4)\n",
      "(1593, 2)\n",
      "Epoch 1/50\n",
      "25/25 [==============================] - 0s 5ms/step - loss: 0.6284 - accuracy: 0.7313 - val_loss: 0.6064 - val_accuracy: 0.7444\n",
      "Epoch 2/50\n",
      "25/25 [==============================] - 0s 1ms/step - loss: 0.5878 - accuracy: 0.7571 - val_loss: 0.5689 - val_accuracy: 0.7444\n",
      "Epoch 3/50\n",
      "25/25 [==============================] - 0s 1ms/step - loss: 0.5511 - accuracy: 0.7571 - val_loss: 0.5230 - val_accuracy: 0.7444\n"
     ]
    },
    {
     "name": "stderr",
     "output_type": "stream",
     "text": [
      "\n",
      " 38%|███▊      | 12/32 [00:06<00:13,  1.47it/s]\u001b[A04/06/2021 01:41:26 PM - INFO - Getting Keras datasets\n",
      "04/06/2021 01:41:26 PM - INFO - Compling Keras model\n",
      "04/06/2021 01:41:26 PM - INFO - Architecture:[64, 64, 128, 128, 16, 128],relu,adam,4\n"
     ]
    },
    {
     "name": "stdout",
     "output_type": "stream",
     "text": [
      "Test loss: 0.5230004787445068\n",
      "Test accuracy: 0.7443609237670898\n",
      "(1593,)\n",
      "(1593, 4)\n",
      "(1593, 2)\n",
      "(1593, 4)\n",
      "(1593, 4)\n",
      "(1593, 2)\n",
      "Epoch 1/50\n",
      "25/25 [==============================] - 0s 6ms/step - loss: 0.6157 - accuracy: 0.7451 - val_loss: 0.5835 - val_accuracy: 0.7444\n",
      "Epoch 2/50\n",
      "25/25 [==============================] - 0s 2ms/step - loss: 0.5515 - accuracy: 0.7577 - val_loss: 0.4935 - val_accuracy: 0.7544\n",
      "Epoch 3/50\n",
      "25/25 [==============================] - 0s 2ms/step - loss: 0.4636 - accuracy: 0.7878 - val_loss: 0.3229 - val_accuracy: 0.8872\n",
      "Epoch 4/50\n",
      "25/25 [==============================] - 0s 2ms/step - loss: 0.3574 - accuracy: 0.8475 - val_loss: 0.2640 - val_accuracy: 0.8847\n",
      "Epoch 5/50\n",
      "25/25 [==============================] - 0s 2ms/step - loss: 0.3326 - accuracy: 0.8550 - val_loss: 0.2437 - val_accuracy: 0.9098\n",
      "Test loss: 0.24365483224391937\n",
      "Test accuracy: 0.9097744226455688\n"
     ]
    },
    {
     "name": "stderr",
     "output_type": "stream",
     "text": [
      "\n",
      " 41%|████      | 13/32 [00:06<00:14,  1.34it/s]\u001b[A04/06/2021 01:41:27 PM - INFO - Getting Keras datasets\n",
      "04/06/2021 01:41:27 PM - INFO - Compling Keras model\n",
      "04/06/2021 01:41:27 PM - INFO - Architecture:[128, 32, 32, 32, 128, 32],relu,adam,5\n"
     ]
    },
    {
     "name": "stdout",
     "output_type": "stream",
     "text": [
      "(1593,)\n",
      "(1593, 4)\n",
      "(1593, 2)\n",
      "(1593, 4)\n",
      "(1593, 4)\n",
      "(1593, 2)\n",
      "Epoch 1/50\n",
      "25/25 [==============================] - 0s 6ms/step - loss: 0.6263 - accuracy: 0.7483 - val_loss: 0.5985 - val_accuracy: 0.7444\n",
      "Epoch 2/50\n",
      "25/25 [==============================] - 0s 2ms/step - loss: 0.5741 - accuracy: 0.7571 - val_loss: 0.5512 - val_accuracy: 0.7444\n",
      "Epoch 3/50\n",
      "25/25 [==============================] - 0s 2ms/step - loss: 0.5089 - accuracy: 0.7577 - val_loss: 0.4259 - val_accuracy: 0.7444\n",
      "Epoch 4/50\n",
      "25/25 [==============================] - 0s 2ms/step - loss: 0.3892 - accuracy: 0.8085 - val_loss: 0.2660 - val_accuracy: 0.8947\n",
      "Epoch 5/50\n",
      "25/25 [==============================] - 0s 2ms/step - loss: 0.3206 - accuracy: 0.8544 - val_loss: 0.2662 - val_accuracy: 0.8772\n",
      "Epoch 6/50\n",
      "25/25 [==============================] - 0s 2ms/step - loss: 0.3148 - accuracy: 0.8550 - val_loss: 0.2357 - val_accuracy: 0.8997\n",
      "Test loss: 0.2357400506734848\n",
      "Test accuracy: 0.8997493982315063\n"
     ]
    },
    {
     "name": "stderr",
     "output_type": "stream",
     "text": [
      "\n",
      " 44%|████▍     | 14/32 [00:08<00:15,  1.16it/s]\u001b[A04/06/2021 01:41:28 PM - INFO - Getting Keras datasets\n",
      "04/06/2021 01:41:28 PM - INFO - Compling Keras model\n",
      "04/06/2021 01:41:28 PM - INFO - Architecture:[128, 32, 64, 32, 32, 16],relu,adam,2\n"
     ]
    },
    {
     "name": "stdout",
     "output_type": "stream",
     "text": [
      "(1593,)\n",
      "(1593, 4)\n",
      "(1593, 2)\n",
      "(1593, 4)\n",
      "(1593, 4)\n",
      "(1593, 2)\n",
      "Epoch 1/50\n",
      "25/25 [==============================] - 0s 5ms/step - loss: 0.6377 - accuracy: 0.7376 - val_loss: 0.6171 - val_accuracy: 0.7444\n",
      "Epoch 2/50\n",
      "25/25 [==============================] - 0s 1ms/step - loss: 0.5890 - accuracy: 0.7571 - val_loss: 0.5741 - val_accuracy: 0.7444\n",
      "Epoch 3/50\n",
      "25/25 [==============================] - 0s 1ms/step - loss: 0.5402 - accuracy: 0.7583 - val_loss: 0.5094 - val_accuracy: 0.7444\n",
      "Epoch 4/50\n",
      "25/25 [==============================] - 0s 1ms/step - loss: 0.4696 - accuracy: 0.7903 - val_loss: 0.4176 - val_accuracy: 0.8145\n",
      "Epoch 5/50\n",
      "25/25 [==============================] - 0s 1ms/step - loss: 0.3812 - accuracy: 0.8462 - val_loss: 0.3363 - val_accuracy: 0.8421\n",
      "Epoch 6/50\n",
      "25/25 [==============================] - 0s 1ms/step - loss: 0.3131 - accuracy: 0.8682 - val_loss: 0.2716 - val_accuracy: 0.8997\n",
      "Epoch 7/50\n",
      "25/25 [==============================] - 0s 1ms/step - loss: 0.2943 - accuracy: 0.8782 - val_loss: 0.2479 - val_accuracy: 0.9098\n",
      "Test loss: 0.2479349821805954\n",
      "Test accuracy: 0.9097744226455688\n"
     ]
    },
    {
     "name": "stderr",
     "output_type": "stream",
     "text": [
      "\n",
      " 47%|████▋     | 15/32 [00:08<00:14,  1.20it/s]\u001b[A04/06/2021 01:41:29 PM - INFO - Getting Keras datasets\n",
      "04/06/2021 01:41:29 PM - INFO - Compling Keras model\n",
      "04/06/2021 01:41:29 PM - INFO - Architecture:[128, 128, 64, 128, 32, 128],softmax,adam,2\n"
     ]
    },
    {
     "name": "stdout",
     "output_type": "stream",
     "text": [
      "(1593,)\n",
      "(1593, 4)\n",
      "(1593, 2)\n",
      "(1593, 4)\n",
      "(1593, 4)\n",
      "(1593, 2)\n",
      "Epoch 1/50\n",
      "25/25 [==============================] - 0s 5ms/step - loss: 0.6807 - accuracy: 0.7420 - val_loss: 0.6692 - val_accuracy: 0.7444\n",
      "Epoch 2/50\n",
      "25/25 [==============================] - 0s 2ms/step - loss: 0.6567 - accuracy: 0.7571 - val_loss: 0.6489 - val_accuracy: 0.7444\n",
      "Epoch 3/50\n",
      "25/25 [==============================] - 0s 2ms/step - loss: 0.6371 - accuracy: 0.7571 - val_loss: 0.6315 - val_accuracy: 0.7444\n"
     ]
    },
    {
     "name": "stderr",
     "output_type": "stream",
     "text": [
      "\n",
      " 50%|█████     | 16/32 [00:09<00:12,  1.26it/s]\u001b[A04/06/2021 01:41:30 PM - INFO - Getting Keras datasets\n",
      "04/06/2021 01:41:30 PM - INFO - Compling Keras model\n",
      "04/06/2021 01:41:30 PM - INFO - Architecture:[64, 64, 128, 32, 128, 128],relu,adam,2\n"
     ]
    },
    {
     "name": "stdout",
     "output_type": "stream",
     "text": [
      "Test loss: 0.6315217614173889\n",
      "Test accuracy: 0.7443609237670898\n",
      "(1593,)\n",
      "(1593, 4)\n",
      "(1593, 2)\n",
      "(1593, 4)\n",
      "(1593, 4)\n",
      "(1593, 2)\n",
      "Epoch 1/50\n",
      "25/25 [==============================] - 0s 5ms/step - loss: 0.6526 - accuracy: 0.6711 - val_loss: 0.6140 - val_accuracy: 0.7444\n",
      "Epoch 2/50\n",
      "25/25 [==============================] - 0s 1ms/step - loss: 0.5911 - accuracy: 0.7571 - val_loss: 0.5773 - val_accuracy: 0.7444\n",
      "Epoch 3/50\n",
      "25/25 [==============================] - 0s 1ms/step - loss: 0.5501 - accuracy: 0.7577 - val_loss: 0.5276 - val_accuracy: 0.7444\n"
     ]
    },
    {
     "name": "stderr",
     "output_type": "stream",
     "text": [
      "\n",
      " 53%|█████▎    | 17/32 [00:10<00:11,  1.27it/s]\u001b[A04/06/2021 01:41:30 PM - INFO - Getting Keras datasets\n",
      "04/06/2021 01:41:30 PM - INFO - Compling Keras model\n",
      "04/06/2021 01:41:30 PM - INFO - Architecture:[128, 32, 64, 32, 32, 32],relu,adam,3\n"
     ]
    },
    {
     "name": "stdout",
     "output_type": "stream",
     "text": [
      "Test loss: 0.5276370048522949\n",
      "Test accuracy: 0.7443609237670898\n",
      "(1593,)\n",
      "(1593, 4)\n",
      "(1593, 2)\n",
      "(1593, 4)\n",
      "(1593, 4)\n",
      "(1593, 2)\n",
      "Epoch 1/50\n",
      "25/25 [==============================] - 0s 5ms/step - loss: 0.6466 - accuracy: 0.6761 - val_loss: 0.6045 - val_accuracy: 0.7444\n",
      "Epoch 2/50\n",
      "25/25 [==============================] - 0s 2ms/step - loss: 0.5788 - accuracy: 0.7571 - val_loss: 0.5737 - val_accuracy: 0.7444\n",
      "Epoch 3/50\n",
      "25/25 [==============================] - 0s 1ms/step - loss: 0.5436 - accuracy: 0.7571 - val_loss: 0.5148 - val_accuracy: 0.7444\n"
     ]
    },
    {
     "name": "stderr",
     "output_type": "stream",
     "text": [
      "\n",
      " 56%|█████▋    | 18/32 [00:11<00:10,  1.31it/s]\u001b[A04/06/2021 01:41:31 PM - INFO - Getting Keras datasets\n",
      "04/06/2021 01:41:31 PM - INFO - Compling Keras model\n",
      "04/06/2021 01:41:31 PM - INFO - Architecture:[16, 64, 128, 64, 16, 32],relu,adam,3\n"
     ]
    },
    {
     "name": "stdout",
     "output_type": "stream",
     "text": [
      "Test loss: 0.5147966742515564\n",
      "Test accuracy: 0.7443609237670898\n",
      "(1593,)\n",
      "(1593, 4)\n",
      "(1593, 2)\n",
      "(1593, 4)\n",
      "(1593, 4)\n",
      "(1593, 2)\n",
      "Epoch 1/50\n",
      "25/25 [==============================] - 0s 5ms/step - loss: 0.6184 - accuracy: 0.7476 - val_loss: 0.6016 - val_accuracy: 0.7444\n",
      "Epoch 2/50\n",
      "25/25 [==============================] - 0s 1ms/step - loss: 0.5778 - accuracy: 0.7571 - val_loss: 0.5618 - val_accuracy: 0.7444\n",
      "Epoch 3/50\n",
      "25/25 [==============================] - 0s 1ms/step - loss: 0.5380 - accuracy: 0.7621 - val_loss: 0.5060 - val_accuracy: 0.7444\n"
     ]
    },
    {
     "name": "stderr",
     "output_type": "stream",
     "text": [
      "\n",
      " 59%|█████▉    | 19/32 [00:11<00:10,  1.28it/s]\u001b[A04/06/2021 01:41:32 PM - INFO - Getting Keras datasets\n",
      "04/06/2021 01:41:32 PM - INFO - Compling Keras model\n",
      "04/06/2021 01:41:32 PM - INFO - Architecture:[64, 64, 128, 16, 128, 128],relu,adam,4\n"
     ]
    },
    {
     "name": "stdout",
     "output_type": "stream",
     "text": [
      "Test loss: 0.5059626698493958\n",
      "Test accuracy: 0.7443609237670898\n",
      "(1593,)\n",
      "(1593, 4)\n",
      "(1593, 2)\n",
      "(1593, 4)\n",
      "(1593, 4)\n",
      "(1593, 2)\n",
      "Epoch 1/50\n",
      "25/25 [==============================] - 0s 5ms/step - loss: 0.6226 - accuracy: 0.7363 - val_loss: 0.5952 - val_accuracy: 0.7444\n",
      "Epoch 2/50\n",
      "25/25 [==============================] - 0s 2ms/step - loss: 0.5656 - accuracy: 0.7571 - val_loss: 0.5406 - val_accuracy: 0.7444\n",
      "Epoch 3/50\n",
      "25/25 [==============================] - 0s 2ms/step - loss: 0.5158 - accuracy: 0.7571 - val_loss: 0.4520 - val_accuracy: 0.7444\n",
      "Epoch 4/50\n",
      "25/25 [==============================] - 0s 2ms/step - loss: 0.4298 - accuracy: 0.7841 - val_loss: 0.3296 - val_accuracy: 0.8622\n",
      "Epoch 5/50\n",
      "25/25 [==============================] - 0s 2ms/step - loss: 0.3609 - accuracy: 0.8462 - val_loss: 0.3029 - val_accuracy: 0.8722\n",
      "Epoch 6/50\n",
      "25/25 [==============================] - 0s 2ms/step - loss: 0.3238 - accuracy: 0.8556 - val_loss: 0.2786 - val_accuracy: 0.8747\n",
      "Test loss: 0.27864348888397217\n",
      "Test accuracy: 0.8746867179870605\n"
     ]
    },
    {
     "name": "stderr",
     "output_type": "stream",
     "text": [
      "\n",
      " 62%|██████▎   | 20/32 [00:12<00:09,  1.22it/s]\u001b[A04/06/2021 01:41:33 PM - INFO - Getting Keras datasets\n",
      "04/06/2021 01:41:33 PM - INFO - Compling Keras model\n",
      "04/06/2021 01:41:33 PM - INFO - Architecture:[32, 64, 128, 64, 16, 32],relu,adam,4\n"
     ]
    },
    {
     "name": "stdout",
     "output_type": "stream",
     "text": [
      "(1593,)\n",
      "(1593, 4)\n",
      "(1593, 2)\n",
      "(1593, 4)\n",
      "(1593, 4)\n",
      "(1593, 2)\n",
      "Epoch 1/50\n",
      "25/25 [==============================] - 0s 5ms/step - loss: 0.6247 - accuracy: 0.7370 - val_loss: 0.6142 - val_accuracy: 0.7444\n",
      "Epoch 2/50\n",
      "25/25 [==============================] - 0s 2ms/step - loss: 0.5866 - accuracy: 0.7571 - val_loss: 0.5639 - val_accuracy: 0.7444\n",
      "Epoch 3/50\n",
      "25/25 [==============================] - 0s 2ms/step - loss: 0.5320 - accuracy: 0.7596 - val_loss: 0.4586 - val_accuracy: 0.7694\n",
      "Epoch 4/50\n",
      "25/25 [==============================] - 0s 2ms/step - loss: 0.4518 - accuracy: 0.7910 - val_loss: 0.3448 - val_accuracy: 0.8321\n",
      "Epoch 5/50\n",
      "25/25 [==============================] - 0s 2ms/step - loss: 0.3772 - accuracy: 0.8336 - val_loss: 0.3214 - val_accuracy: 0.8396\n",
      "Epoch 6/50\n",
      "25/25 [==============================] - 0s 2ms/step - loss: 0.3254 - accuracy: 0.8569 - val_loss: 0.2711 - val_accuracy: 0.8847\n"
     ]
    },
    {
     "name": "stderr",
     "output_type": "stream",
     "text": [
      "\n",
      " 66%|██████▌   | 21/32 [00:13<00:09,  1.12it/s]\u001b[A04/06/2021 01:41:34 PM - INFO - Getting Keras datasets\n",
      "04/06/2021 01:41:34 PM - INFO - Compling Keras model\n",
      "04/06/2021 01:41:34 PM - INFO - Architecture:[128, 128, 64, 128, 32, 128],sigmoid,adam,2\n"
     ]
    },
    {
     "name": "stdout",
     "output_type": "stream",
     "text": [
      "Test loss: 0.271124005317688\n",
      "Test accuracy: 0.8847118020057678\n",
      "(1593,)\n",
      "(1593, 4)\n",
      "(1593, 2)\n",
      "(1593, 4)\n",
      "(1593, 4)\n",
      "(1593, 2)\n",
      "Epoch 1/50\n",
      "25/25 [==============================] - 0s 5ms/step - loss: 0.6774 - accuracy: 0.6830 - val_loss: 0.5726 - val_accuracy: 0.7444\n",
      "Epoch 2/50\n",
      "25/25 [==============================] - 0s 2ms/step - loss: 0.5803 - accuracy: 0.7489 - val_loss: 0.5671 - val_accuracy: 0.7444\n",
      "Epoch 3/50\n",
      "25/25 [==============================] - 0s 2ms/step - loss: 0.5847 - accuracy: 0.7426 - val_loss: 0.5660 - val_accuracy: 0.7444\n"
     ]
    },
    {
     "name": "stderr",
     "output_type": "stream",
     "text": [
      "\n",
      " 69%|██████▉   | 22/32 [00:14<00:08,  1.21it/s]\u001b[A04/06/2021 01:41:35 PM - INFO - Getting Keras datasets\n",
      "04/06/2021 01:41:35 PM - INFO - Compling Keras model\n",
      "04/06/2021 01:41:35 PM - INFO - Architecture:[128, 32, 32, 32, 32, 64],relu,adam,1\n"
     ]
    },
    {
     "name": "stdout",
     "output_type": "stream",
     "text": [
      "Test loss: 0.5659521818161011\n",
      "Test accuracy: 0.7443609237670898\n",
      "(1593,)\n",
      "(1593, 4)\n",
      "(1593, 2)\n",
      "(1593, 4)\n",
      "(1593, 4)\n",
      "(1593, 2)\n",
      "Epoch 1/50\n",
      "25/25 [==============================] - 0s 4ms/step - loss: 0.6431 - accuracy: 0.7031 - val_loss: 0.6174 - val_accuracy: 0.7444\n",
      "Epoch 2/50\n",
      "25/25 [==============================] - 0s 1ms/step - loss: 0.5960 - accuracy: 0.7571 - val_loss: 0.5960 - val_accuracy: 0.7444\n",
      "Epoch 3/50\n",
      "25/25 [==============================] - 0s 1ms/step - loss: 0.5696 - accuracy: 0.7571 - val_loss: 0.5676 - val_accuracy: 0.7444\n",
      "Test loss: 0.5675707459449768\n",
      "Test accuracy: 0.7443609237670898\n"
     ]
    },
    {
     "name": "stderr",
     "output_type": "stream",
     "text": [
      "\n",
      " 72%|███████▏  | 23/32 [00:15<00:06,  1.34it/s]\u001b[A04/06/2021 01:41:35 PM - INFO - Getting Keras datasets\n",
      "04/06/2021 01:41:35 PM - INFO - Compling Keras model\n",
      "04/06/2021 01:41:35 PM - INFO - Architecture:[128, 128, 32, 32, 32, 128],sigmoid,adamax,5\n"
     ]
    },
    {
     "name": "stdout",
     "output_type": "stream",
     "text": [
      "(1593,)\n",
      "(1593, 4)\n",
      "(1593, 2)\n",
      "(1593, 4)\n",
      "(1593, 4)\n",
      "(1593, 2)\n",
      "Epoch 1/50\n",
      "25/25 [==============================] - 0s 12ms/step - loss: 0.7600 - accuracy: 0.4815 - val_loss: 0.5963 - val_accuracy: 0.7444\n",
      "Epoch 2/50\n",
      "25/25 [==============================] - 0s 2ms/step - loss: 0.6026 - accuracy: 0.7119 - val_loss: 0.5686 - val_accuracy: 0.7444\n",
      "Epoch 3/50\n",
      "25/25 [==============================] - 0s 2ms/step - loss: 0.5814 - accuracy: 0.7470 - val_loss: 0.5697 - val_accuracy: 0.7444\n"
     ]
    },
    {
     "name": "stderr",
     "output_type": "stream",
     "text": [
      "\n",
      " 75%|███████▌  | 24/32 [00:16<00:06,  1.22it/s]\u001b[A04/06/2021 01:41:36 PM - INFO - Getting Keras datasets\n",
      "04/06/2021 01:41:36 PM - INFO - Compling Keras model\n",
      "04/06/2021 01:41:36 PM - INFO - Architecture:[128, 64, 128, 64, 16, 32],relu,adam,5\n"
     ]
    },
    {
     "name": "stdout",
     "output_type": "stream",
     "text": [
      "Test loss: 0.5696510076522827\n",
      "Test accuracy: 0.7443609237670898\n",
      "(1593,)\n",
      "(1593, 4)\n",
      "(1593, 2)\n",
      "(1593, 4)\n",
      "(1593, 4)\n",
      "(1593, 2)\n",
      "Epoch 1/50\n",
      "25/25 [==============================] - 0s 6ms/step - loss: 0.6405 - accuracy: 0.7407 - val_loss: 0.6007 - val_accuracy: 0.7444\n",
      "Epoch 2/50\n",
      "25/25 [==============================] - 0s 2ms/step - loss: 0.5725 - accuracy: 0.7571 - val_loss: 0.5381 - val_accuracy: 0.7444\n",
      "Epoch 3/50\n",
      " 1/25 [>.............................] - ETA: 0s - loss: 0.5403 - accuracy: 0.7656"
     ]
    }
   ],
   "source": [
    "import main as ge\n",
    "lista3=ge.main()"
   ]
  },
  {
   "cell_type": "code",
   "execution_count": null,
   "id": "1e475d4d",
   "metadata": {},
   "outputs": [],
   "source": [
    "#Libreria para crear graficos\n",
    "import matplotlib.pyplot as plt\n",
    "\n",
    "#Graficamos la exactitud promedio de cada generacion\n",
    "plt.plot(lista2)\n",
    "plt.ylabel('Precision')\n",
    "plt.xlabel('Generaciones')"
   ]
  },
  {
   "cell_type": "code",
   "execution_count": null,
   "id": "f883c0ce",
   "metadata": {},
   "outputs": [],
   "source": []
  }
 ],
 "metadata": {
  "kernelspec": {
   "display_name": "Python 3",
   "language": "python",
   "name": "python3"
  },
  "language_info": {
   "codemirror_mode": {
    "name": "ipython",
    "version": 3
   },
   "file_extension": ".py",
   "mimetype": "text/x-python",
   "name": "python",
   "nbconvert_exporter": "python",
   "pygments_lexer": "ipython3",
   "version": "3.8.10"
  }
 },
 "nbformat": 4,
 "nbformat_minor": 5
}
