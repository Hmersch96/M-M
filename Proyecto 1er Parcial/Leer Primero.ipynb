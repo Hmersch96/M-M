{
 "cells": [
  {
   "cell_type": "markdown",
   "id": "particular-strain",
   "metadata": {},
   "source": [
    "En este cuaderno explicare que funcion cumple cadad cuaderno de esta carpeta.\n",
    "\n",
    "* Predictor_Red_Neuronal: Aqui tenemos el modelo que emplea redes neuronales para la prediccion de los estudiantes que aprueban la materia\n",
    "\n",
    "* Predictor_Red_Neuronal_Taller: Es el mismo modelo que Predictor_Red_Neuronal, pero solo emplea los datos de los alumnos que tienen puntaje de taller para crear el modelo predictivo\n",
    "\n",
    "* Predictor_Regresion_Logistica: Aqui tenemos varios modelos creados para estimar la cantidad de alumnos que pasan la materia empleando como base el modelo de regresion logistica para realizar las predicciones\n",
    "\n",
    "* Preprocesamiento de datos de Proba: Aqui se trabaja con el dataset original y se lo simplifica y preprocesa para asi facilitar el uso de los datos en los modelos predictivos\n"
   ]
  },
  {
   "cell_type": "code",
   "execution_count": null,
   "id": "twelve-recorder",
   "metadata": {},
   "outputs": [],
   "source": []
  }
 ],
 "metadata": {
  "kernelspec": {
   "display_name": "Python 3",
   "language": "python",
   "name": "python3"
  },
  "language_info": {
   "codemirror_mode": {
    "name": "ipython",
    "version": 3
   },
   "file_extension": ".py",
   "mimetype": "text/x-python",
   "name": "python",
   "nbconvert_exporter": "python",
   "pygments_lexer": "ipython3",
   "version": "3.8.5"
  }
 },
 "nbformat": 4,
 "nbformat_minor": 5
}
